{
  "nbformat": 4,
  "nbformat_minor": 0,
  "metadata": {
    "colab": {
      "name": "pandas_part2.ipynb",
      "provenance": [],
      "collapsed_sections": [],
      "authorship_tag": "ABX9TyNee6Q69KbHcyJjrOzXxzrn",
      "include_colab_link": true
    },
    "kernelspec": {
      "name": "python3",
      "display_name": "Python 3"
    }
  },
  "cells": [
    {
      "cell_type": "markdown",
      "metadata": {
        "id": "view-in-github",
        "colab_type": "text"
      },
      "source": [
        "<a href=\"https://colab.research.google.com/github/subhajitmajumder/python_program/blob/master/pandas_part2.ipynb\" target=\"_parent\"><img src=\"https://colab.research.google.com/assets/colab-badge.svg\" alt=\"Open In Colab\"/></a>"
      ]
    },
    {
      "cell_type": "code",
      "metadata": {
        "id": "QTysGj8kE4Wa",
        "colab_type": "code",
        "colab": {}
      },
      "source": [
        "import numpy as np\n",
        "import pandas as pd"
      ],
      "execution_count": null,
      "outputs": []
    },
    {
      "cell_type": "markdown",
      "metadata": {
        "id": "ntDojTvfFfT_",
        "colab_type": "text"
      },
      "source": [
        "## Creating Ddataframe Object"
      ]
    },
    {
      "cell_type": "code",
      "metadata": {
        "id": "dzuFzt_rFMYI",
        "colab_type": "code",
        "colab": {}
      },
      "source": [
        "# Creating 2D array\n",
        "\n",
        "arr = np.random.randint(0, 10, (5, 3))"
      ],
      "execution_count": null,
      "outputs": []
    },
    {
      "cell_type": "code",
      "metadata": {
        "id": "w7YRjxQaFqhY",
        "colab_type": "code",
        "colab": {
          "base_uri": "https://localhost:8080/",
          "height": 102
        },
        "outputId": "3a7f74c3-9766-4ba3-ffdc-4ed4d7085059"
      },
      "source": [
        "arr"
      ],
      "execution_count": null,
      "outputs": [
        {
          "output_type": "execute_result",
          "data": {
            "text/plain": [
              "array([[9, 6, 6],\n",
              "       [3, 5, 4],\n",
              "       [9, 0, 6],\n",
              "       [9, 8, 2],\n",
              "       [9, 1, 3]])"
            ]
          },
          "metadata": {
            "tags": []
          },
          "execution_count": 3
        }
      ]
    },
    {
      "cell_type": "markdown",
      "metadata": {
        "id": "fJ6lSr4LFyui",
        "colab_type": "text"
      },
      "source": [
        "Typically **df** is the most common name of dataframe object, as in most data analysis efforts we need to collect data and store it in one variable."
      ]
    },
    {
      "cell_type": "code",
      "metadata": {
        "id": "fj0St5otFrId",
        "colab_type": "code",
        "colab": {}
      },
      "source": [
        "df = pd.DataFrame(arr)"
      ],
      "execution_count": null,
      "outputs": []
    },
    {
      "cell_type": "code",
      "metadata": {
        "id": "kiAC7DeoGfbX",
        "colab_type": "code",
        "colab": {
          "base_uri": "https://localhost:8080/",
          "height": 204
        },
        "outputId": "b96ec248-f1bb-4e46-f8cb-8e1187a71b69"
      },
      "source": [
        "df"
      ],
      "execution_count": null,
      "outputs": [
        {
          "output_type": "execute_result",
          "data": {
            "text/html": [
              "<div>\n",
              "<style scoped>\n",
              "    .dataframe tbody tr th:only-of-type {\n",
              "        vertical-align: middle;\n",
              "    }\n",
              "\n",
              "    .dataframe tbody tr th {\n",
              "        vertical-align: top;\n",
              "    }\n",
              "\n",
              "    .dataframe thead th {\n",
              "        text-align: right;\n",
              "    }\n",
              "</style>\n",
              "<table border=\"1\" class=\"dataframe\">\n",
              "  <thead>\n",
              "    <tr style=\"text-align: right;\">\n",
              "      <th></th>\n",
              "      <th>0</th>\n",
              "      <th>1</th>\n",
              "      <th>2</th>\n",
              "    </tr>\n",
              "  </thead>\n",
              "  <tbody>\n",
              "    <tr>\n",
              "      <th>0</th>\n",
              "      <td>9</td>\n",
              "      <td>6</td>\n",
              "      <td>6</td>\n",
              "    </tr>\n",
              "    <tr>\n",
              "      <th>1</th>\n",
              "      <td>3</td>\n",
              "      <td>5</td>\n",
              "      <td>4</td>\n",
              "    </tr>\n",
              "    <tr>\n",
              "      <th>2</th>\n",
              "      <td>9</td>\n",
              "      <td>0</td>\n",
              "      <td>6</td>\n",
              "    </tr>\n",
              "    <tr>\n",
              "      <th>3</th>\n",
              "      <td>9</td>\n",
              "      <td>8</td>\n",
              "      <td>2</td>\n",
              "    </tr>\n",
              "    <tr>\n",
              "      <th>4</th>\n",
              "      <td>9</td>\n",
              "      <td>1</td>\n",
              "      <td>3</td>\n",
              "    </tr>\n",
              "  </tbody>\n",
              "</table>\n",
              "</div>"
            ],
            "text/plain": [
              "   0  1  2\n",
              "0  9  6  6\n",
              "1  3  5  4\n",
              "2  9  0  6\n",
              "3  9  8  2\n",
              "4  9  1  3"
            ]
          },
          "metadata": {
            "tags": []
          },
          "execution_count": 5
        }
      ]
    },
    {
      "cell_type": "markdown",
      "metadata": {
        "id": "cLJbY4QCGhut",
        "colab_type": "text"
      },
      "source": [
        "We can see that after creating the dataframe each row and column has a name or we can say there are implicit indexing."
      ]
    },
    {
      "cell_type": "code",
      "metadata": {
        "id": "aJnChaWQGgKY",
        "colab_type": "code",
        "colab": {
          "base_uri": "https://localhost:8080/",
          "height": 102
        },
        "outputId": "2d7fb443-4df2-484f-f0a5-0ad9a8e8aa4e"
      },
      "source": [
        "df.values"
      ],
      "execution_count": null,
      "outputs": [
        {
          "output_type": "execute_result",
          "data": {
            "text/plain": [
              "array([[9, 6, 6],\n",
              "       [3, 5, 4],\n",
              "       [9, 0, 6],\n",
              "       [9, 8, 2],\n",
              "       [9, 1, 3]])"
            ]
          },
          "metadata": {
            "tags": []
          },
          "execution_count": 6
        }
      ]
    },
    {
      "cell_type": "code",
      "metadata": {
        "id": "HIcoybs6G1ay",
        "colab_type": "code",
        "colab": {
          "base_uri": "https://localhost:8080/",
          "height": 34
        },
        "outputId": "fbe9e590-c077-40a3-e481-d314647db7fe"
      },
      "source": [
        "df.index"
      ],
      "execution_count": null,
      "outputs": [
        {
          "output_type": "execute_result",
          "data": {
            "text/plain": [
              "RangeIndex(start=0, stop=5, step=1)"
            ]
          },
          "metadata": {
            "tags": []
          },
          "execution_count": 7
        }
      ]
    },
    {
      "cell_type": "code",
      "metadata": {
        "id": "fgRY4SuFG3Jz",
        "colab_type": "code",
        "colab": {
          "base_uri": "https://localhost:8080/",
          "height": 34
        },
        "outputId": "1d2962ad-d1c4-4921-89b1-1dccac6df5f8"
      },
      "source": [
        "df.columns"
      ],
      "execution_count": null,
      "outputs": [
        {
          "output_type": "execute_result",
          "data": {
            "text/plain": [
              "RangeIndex(start=0, stop=3, step=1)"
            ]
          },
          "metadata": {
            "tags": []
          },
          "execution_count": 8
        }
      ]
    },
    {
      "cell_type": "code",
      "metadata": {
        "id": "Z3RLGvYlG77-",
        "colab_type": "code",
        "colab": {
          "base_uri": "https://localhost:8080/",
          "height": 68
        },
        "outputId": "dabe088a-1322-4488-add7-82b726aa15aa"
      },
      "source": [
        "# We can iterate over columns\n",
        "for c in df.columns:\n",
        "    print(c)"
      ],
      "execution_count": null,
      "outputs": [
        {
          "output_type": "stream",
          "text": [
            "0\n",
            "1\n",
            "2\n"
          ],
          "name": "stdout"
        }
      ]
    },
    {
      "cell_type": "code",
      "metadata": {
        "id": "Dbsux5OrHEzK",
        "colab_type": "code",
        "colab": {
          "base_uri": "https://localhost:8080/",
          "height": 34
        },
        "outputId": "da75685b-aba3-4cc3-dbdf-b307c6626b7e"
      },
      "source": [
        "# Also we can access values using index\n",
        "df.values[0]"
      ],
      "execution_count": null,
      "outputs": [
        {
          "output_type": "execute_result",
          "data": {
            "text/plain": [
              "array([9, 6, 6])"
            ]
          },
          "metadata": {
            "tags": []
          },
          "execution_count": 10
        }
      ]
    },
    {
      "cell_type": "code",
      "metadata": {
        "id": "tPUdnSQfHPV3",
        "colab_type": "code",
        "colab": {}
      },
      "source": [
        "# We can also change the implicit indexes and columns names with our own\n",
        "\n",
        "df.index = ['R1', 'R2', 'R3', 'R4', 'R5']\n",
        "df.columns = ['C1', 'C2', 'C3']"
      ],
      "execution_count": null,
      "outputs": []
    },
    {
      "cell_type": "code",
      "metadata": {
        "id": "uULt8BV9HybE",
        "colab_type": "code",
        "colab": {
          "base_uri": "https://localhost:8080/",
          "height": 204
        },
        "outputId": "dc6f2afe-dea1-486a-ba87-c43340d9eed9"
      },
      "source": [
        "df\n"
      ],
      "execution_count": null,
      "outputs": [
        {
          "output_type": "execute_result",
          "data": {
            "text/html": [
              "<div>\n",
              "<style scoped>\n",
              "    .dataframe tbody tr th:only-of-type {\n",
              "        vertical-align: middle;\n",
              "    }\n",
              "\n",
              "    .dataframe tbody tr th {\n",
              "        vertical-align: top;\n",
              "    }\n",
              "\n",
              "    .dataframe thead th {\n",
              "        text-align: right;\n",
              "    }\n",
              "</style>\n",
              "<table border=\"1\" class=\"dataframe\">\n",
              "  <thead>\n",
              "    <tr style=\"text-align: right;\">\n",
              "      <th></th>\n",
              "      <th>C1</th>\n",
              "      <th>C2</th>\n",
              "      <th>C3</th>\n",
              "    </tr>\n",
              "  </thead>\n",
              "  <tbody>\n",
              "    <tr>\n",
              "      <th>R1</th>\n",
              "      <td>9</td>\n",
              "      <td>6</td>\n",
              "      <td>6</td>\n",
              "    </tr>\n",
              "    <tr>\n",
              "      <th>R2</th>\n",
              "      <td>3</td>\n",
              "      <td>5</td>\n",
              "      <td>4</td>\n",
              "    </tr>\n",
              "    <tr>\n",
              "      <th>R3</th>\n",
              "      <td>9</td>\n",
              "      <td>0</td>\n",
              "      <td>6</td>\n",
              "    </tr>\n",
              "    <tr>\n",
              "      <th>R4</th>\n",
              "      <td>9</td>\n",
              "      <td>8</td>\n",
              "      <td>2</td>\n",
              "    </tr>\n",
              "    <tr>\n",
              "      <th>R5</th>\n",
              "      <td>9</td>\n",
              "      <td>1</td>\n",
              "      <td>3</td>\n",
              "    </tr>\n",
              "  </tbody>\n",
              "</table>\n",
              "</div>"
            ],
            "text/plain": [
              "    C1  C2  C3\n",
              "R1   9   6   6\n",
              "R2   3   5   4\n",
              "R3   9   0   6\n",
              "R4   9   8   2\n",
              "R5   9   1   3"
            ]
          },
          "metadata": {
            "tags": []
          },
          "execution_count": 12
        }
      ]
    },
    {
      "cell_type": "code",
      "metadata": {
        "id": "VmCkqPsQHzW1",
        "colab_type": "code",
        "colab": {
          "base_uri": "https://localhost:8080/",
          "height": 34
        },
        "outputId": "ebd08a47-273c-47ec-b94a-7a9f6c812bca"
      },
      "source": [
        "# We can use loc to access explicit indexing\n",
        "\n",
        "df.loc[\"R3\", \"C2\"]"
      ],
      "execution_count": null,
      "outputs": [
        {
          "output_type": "execute_result",
          "data": {
            "text/plain": [
              "0"
            ]
          },
          "metadata": {
            "tags": []
          },
          "execution_count": 13
        }
      ]
    },
    {
      "cell_type": "code",
      "metadata": {
        "id": "NtWWJBJxu1nW",
        "colab_type": "code",
        "colab": {
          "base_uri": "https://localhost:8080/",
          "height": 34
        },
        "outputId": "63363835-67be-4f52-cf2e-73e771822ba1"
      },
      "source": [
        "# We can use iloc to access imlicit indexing\n",
        "\n",
        "df.iloc[2,1]"
      ],
      "execution_count": null,
      "outputs": [
        {
          "output_type": "execute_result",
          "data": {
            "text/plain": [
              "0"
            ]
          },
          "metadata": {
            "tags": []
          },
          "execution_count": 14
        }
      ]
    },
    {
      "cell_type": "code",
      "metadata": {
        "id": "EQBGaTl3vC5B",
        "colab_type": "code",
        "colab": {
          "base_uri": "https://localhost:8080/",
          "height": 111
        },
        "outputId": "550005a2-7ac2-46a7-cd69-499dc7172812"
      },
      "source": [
        "# We also can subset this Dataframe by using implicit indexing.\n",
        "\n",
        "df.iloc[2:4, 1:3]"
      ],
      "execution_count": null,
      "outputs": [
        {
          "output_type": "execute_result",
          "data": {
            "text/html": [
              "<div>\n",
              "<style scoped>\n",
              "    .dataframe tbody tr th:only-of-type {\n",
              "        vertical-align: middle;\n",
              "    }\n",
              "\n",
              "    .dataframe tbody tr th {\n",
              "        vertical-align: top;\n",
              "    }\n",
              "\n",
              "    .dataframe thead th {\n",
              "        text-align: right;\n",
              "    }\n",
              "</style>\n",
              "<table border=\"1\" class=\"dataframe\">\n",
              "  <thead>\n",
              "    <tr style=\"text-align: right;\">\n",
              "      <th></th>\n",
              "      <th>C2</th>\n",
              "      <th>C3</th>\n",
              "    </tr>\n",
              "  </thead>\n",
              "  <tbody>\n",
              "    <tr>\n",
              "      <th>R3</th>\n",
              "      <td>0</td>\n",
              "      <td>6</td>\n",
              "    </tr>\n",
              "    <tr>\n",
              "      <th>R4</th>\n",
              "      <td>8</td>\n",
              "      <td>2</td>\n",
              "    </tr>\n",
              "  </tbody>\n",
              "</table>\n",
              "</div>"
            ],
            "text/plain": [
              "    C2  C3\n",
              "R3   0   6\n",
              "R4   8   2"
            ]
          },
          "metadata": {
            "tags": []
          },
          "execution_count": 15
        }
      ]
    },
    {
      "cell_type": "code",
      "metadata": {
        "id": "bi4pqVcIvaDl",
        "colab_type": "code",
        "colab": {
          "base_uri": "https://localhost:8080/",
          "height": 111
        },
        "outputId": "d9c285e5-558a-4f62-aa95-44e41043c8ad"
      },
      "source": [
        "#We can also create a subset of DataFrame by using explicit indexing\n",
        "\n",
        "df.loc[\"R3\":\"R4\", \"C2\":\"C3\"] # In this case the 2nd index is also included"
      ],
      "execution_count": null,
      "outputs": [
        {
          "output_type": "execute_result",
          "data": {
            "text/html": [
              "<div>\n",
              "<style scoped>\n",
              "    .dataframe tbody tr th:only-of-type {\n",
              "        vertical-align: middle;\n",
              "    }\n",
              "\n",
              "    .dataframe tbody tr th {\n",
              "        vertical-align: top;\n",
              "    }\n",
              "\n",
              "    .dataframe thead th {\n",
              "        text-align: right;\n",
              "    }\n",
              "</style>\n",
              "<table border=\"1\" class=\"dataframe\">\n",
              "  <thead>\n",
              "    <tr style=\"text-align: right;\">\n",
              "      <th></th>\n",
              "      <th>C2</th>\n",
              "      <th>C3</th>\n",
              "    </tr>\n",
              "  </thead>\n",
              "  <tbody>\n",
              "    <tr>\n",
              "      <th>R3</th>\n",
              "      <td>0</td>\n",
              "      <td>6</td>\n",
              "    </tr>\n",
              "    <tr>\n",
              "      <th>R4</th>\n",
              "      <td>8</td>\n",
              "      <td>2</td>\n",
              "    </tr>\n",
              "  </tbody>\n",
              "</table>\n",
              "</div>"
            ],
            "text/plain": [
              "    C2  C3\n",
              "R3   0   6\n",
              "R4   8   2"
            ]
          },
          "metadata": {
            "tags": []
          },
          "execution_count": 16
        }
      ]
    },
    {
      "cell_type": "code",
      "metadata": {
        "id": "Uojt5ZT5v5b5",
        "colab_type": "code",
        "colab": {
          "base_uri": "https://localhost:8080/",
          "height": 85
        },
        "outputId": "184f1eb6-70ac-40d8-88b6-88d7671a204e"
      },
      "source": [
        "# We can also return a series object from the dataframe\n",
        "\n",
        "df.iloc[0]"
      ],
      "execution_count": null,
      "outputs": [
        {
          "output_type": "execute_result",
          "data": {
            "text/plain": [
              "C1    9\n",
              "C2    6\n",
              "C3    6\n",
              "Name: R1, dtype: int64"
            ]
          },
          "metadata": {
            "tags": []
          },
          "execution_count": 17
        }
      ]
    },
    {
      "cell_type": "code",
      "metadata": {
        "id": "jcsXY72Tw1wI",
        "colab_type": "code",
        "colab": {
          "base_uri": "https://localhost:8080/",
          "height": 34
        },
        "outputId": "8cb217c2-c147-47fd-9ee4-3a34c6e07abe"
      },
      "source": [
        "type(df.iloc[0])"
      ],
      "execution_count": null,
      "outputs": [
        {
          "output_type": "execute_result",
          "data": {
            "text/plain": [
              "pandas.core.series.Series"
            ]
          },
          "metadata": {
            "tags": []
          },
          "execution_count": 18
        }
      ]
    },
    {
      "cell_type": "code",
      "metadata": {
        "id": "WHkWjrE8w5ur",
        "colab_type": "code",
        "colab": {
          "base_uri": "https://localhost:8080/",
          "height": 34
        },
        "outputId": "a65152c8-b8f3-411e-f59c-87171d342a2f"
      },
      "source": [
        "type(df.iloc[:, 0]) # For this slice it is a series"
      ],
      "execution_count": null,
      "outputs": [
        {
          "output_type": "execute_result",
          "data": {
            "text/plain": [
              "pandas.core.series.Series"
            ]
          },
          "metadata": {
            "tags": []
          },
          "execution_count": 19
        }
      ]
    },
    {
      "cell_type": "code",
      "metadata": {
        "id": "nOe1eFumxQ3e",
        "colab_type": "code",
        "colab": {
          "base_uri": "https://localhost:8080/",
          "height": 34
        },
        "outputId": "e9b409a8-515c-4519-d7b6-cc8eb08ac720"
      },
      "source": [
        "type(df.iloc[:, 0:2]) # For this slice it is a DataFrame"
      ],
      "execution_count": null,
      "outputs": [
        {
          "output_type": "execute_result",
          "data": {
            "text/plain": [
              "pandas.core.frame.DataFrame"
            ]
          },
          "metadata": {
            "tags": []
          },
          "execution_count": 20
        }
      ]
    },
    {
      "cell_type": "code",
      "metadata": {
        "id": "ul0wPlqWyJXs",
        "colab_type": "code",
        "colab": {
          "base_uri": "https://localhost:8080/",
          "height": 34
        },
        "outputId": "8d78d09e-41ca-49a1-cbe8-4977cd12641a"
      },
      "source": [
        "df.shape"
      ],
      "execution_count": null,
      "outputs": [
        {
          "output_type": "execute_result",
          "data": {
            "text/plain": [
              "(5, 3)"
            ]
          },
          "metadata": {
            "tags": []
          },
          "execution_count": 21
        }
      ]
    },
    {
      "cell_type": "code",
      "metadata": {
        "id": "DB6FZ4c2yWrQ",
        "colab_type": "code",
        "colab": {
          "base_uri": "https://localhost:8080/",
          "height": 142
        },
        "outputId": "8c5f5dd3-0caf-485b-89ac-8ac67db18374"
      },
      "source": [
        "df.T # We can transpose the dataframe"
      ],
      "execution_count": null,
      "outputs": [
        {
          "output_type": "execute_result",
          "data": {
            "text/html": [
              "<div>\n",
              "<style scoped>\n",
              "    .dataframe tbody tr th:only-of-type {\n",
              "        vertical-align: middle;\n",
              "    }\n",
              "\n",
              "    .dataframe tbody tr th {\n",
              "        vertical-align: top;\n",
              "    }\n",
              "\n",
              "    .dataframe thead th {\n",
              "        text-align: right;\n",
              "    }\n",
              "</style>\n",
              "<table border=\"1\" class=\"dataframe\">\n",
              "  <thead>\n",
              "    <tr style=\"text-align: right;\">\n",
              "      <th></th>\n",
              "      <th>R1</th>\n",
              "      <th>R2</th>\n",
              "      <th>R3</th>\n",
              "      <th>R4</th>\n",
              "      <th>R5</th>\n",
              "    </tr>\n",
              "  </thead>\n",
              "  <tbody>\n",
              "    <tr>\n",
              "      <th>C1</th>\n",
              "      <td>9</td>\n",
              "      <td>3</td>\n",
              "      <td>9</td>\n",
              "      <td>9</td>\n",
              "      <td>9</td>\n",
              "    </tr>\n",
              "    <tr>\n",
              "      <th>C2</th>\n",
              "      <td>6</td>\n",
              "      <td>5</td>\n",
              "      <td>0</td>\n",
              "      <td>8</td>\n",
              "      <td>1</td>\n",
              "    </tr>\n",
              "    <tr>\n",
              "      <th>C3</th>\n",
              "      <td>6</td>\n",
              "      <td>4</td>\n",
              "      <td>6</td>\n",
              "      <td>2</td>\n",
              "      <td>3</td>\n",
              "    </tr>\n",
              "  </tbody>\n",
              "</table>\n",
              "</div>"
            ],
            "text/plain": [
              "    R1  R2  R3  R4  R5\n",
              "C1   9   3   9   9   9\n",
              "C2   6   5   0   8   1\n",
              "C3   6   4   6   2   3"
            ]
          },
          "metadata": {
            "tags": []
          },
          "execution_count": 22
        }
      ]
    },
    {
      "cell_type": "markdown",
      "metadata": {
        "id": "UOJS1CxLyqoR",
        "colab_type": "text"
      },
      "source": [
        "Task to create random dataframes"
      ]
    },
    {
      "cell_type": "code",
      "metadata": {
        "id": "eHwMpznByXaM",
        "colab_type": "code",
        "colab": {}
      },
      "source": [
        "def create_df(nRows, nCols, maxValue=10):\n",
        "    arr = np.random.randint(0, maxValue, (nRows, nCols))\n",
        "    df = pd.DataFrame(arr)\n",
        "    df.index = ['R' + str(x) for x in np.arange(1, nRows+1)]\n",
        "    df.columns = ['C' + str(x) for x in np.arange(1, nCols+1)]\n",
        "    return df"
      ],
      "execution_count": null,
      "outputs": []
    },
    {
      "cell_type": "code",
      "metadata": {
        "id": "81g0F9fn00ZU",
        "colab_type": "code",
        "colab": {
          "base_uri": "https://localhost:8080/",
          "height": 173
        },
        "outputId": "782c896a-f40d-41d4-dafb-4ecf8fa20c5d"
      },
      "source": [
        "df1 = create_df(4, 5, 100)\n",
        "df1"
      ],
      "execution_count": null,
      "outputs": [
        {
          "output_type": "execute_result",
          "data": {
            "text/html": [
              "<div>\n",
              "<style scoped>\n",
              "    .dataframe tbody tr th:only-of-type {\n",
              "        vertical-align: middle;\n",
              "    }\n",
              "\n",
              "    .dataframe tbody tr th {\n",
              "        vertical-align: top;\n",
              "    }\n",
              "\n",
              "    .dataframe thead th {\n",
              "        text-align: right;\n",
              "    }\n",
              "</style>\n",
              "<table border=\"1\" class=\"dataframe\">\n",
              "  <thead>\n",
              "    <tr style=\"text-align: right;\">\n",
              "      <th></th>\n",
              "      <th>C1</th>\n",
              "      <th>C2</th>\n",
              "      <th>C3</th>\n",
              "      <th>C4</th>\n",
              "      <th>C5</th>\n",
              "    </tr>\n",
              "  </thead>\n",
              "  <tbody>\n",
              "    <tr>\n",
              "      <th>R1</th>\n",
              "      <td>20</td>\n",
              "      <td>89</td>\n",
              "      <td>36</td>\n",
              "      <td>35</td>\n",
              "      <td>23</td>\n",
              "    </tr>\n",
              "    <tr>\n",
              "      <th>R2</th>\n",
              "      <td>40</td>\n",
              "      <td>34</td>\n",
              "      <td>68</td>\n",
              "      <td>5</td>\n",
              "      <td>85</td>\n",
              "    </tr>\n",
              "    <tr>\n",
              "      <th>R3</th>\n",
              "      <td>83</td>\n",
              "      <td>73</td>\n",
              "      <td>20</td>\n",
              "      <td>81</td>\n",
              "      <td>51</td>\n",
              "    </tr>\n",
              "    <tr>\n",
              "      <th>R4</th>\n",
              "      <td>11</td>\n",
              "      <td>46</td>\n",
              "      <td>17</td>\n",
              "      <td>36</td>\n",
              "      <td>4</td>\n",
              "    </tr>\n",
              "  </tbody>\n",
              "</table>\n",
              "</div>"
            ],
            "text/plain": [
              "    C1  C2  C3  C4  C5\n",
              "R1  20  89  36  35  23\n",
              "R2  40  34  68   5  85\n",
              "R3  83  73  20  81  51\n",
              "R4  11  46  17  36   4"
            ]
          },
          "metadata": {
            "tags": []
          },
          "execution_count": 24
        }
      ]
    },
    {
      "cell_type": "code",
      "metadata": {
        "id": "ZO7pmFmw02cg",
        "colab_type": "code",
        "colab": {}
      },
      "source": [
        "mass = pd.Series([0.33, 4.87, 5.97, 0.642, 1898, 568, 86.8, 102, 0.146],\n",
        "                 index = ['Murcury', 'Venus', 'Earth', 'Mars', 'Jupiter', 'Saturn', 'Uranus', 'Neptune', 'Pluto'])\n",
        "\n",
        "diameter = pd.Series([4878, 12104, 12756, 6794, 142984, 120536, 51118, 49532, 2370, 3475],\n",
        "                     index = ['Murcury', 'Venus', 'Earth', 'Mars', 'Jupiter', 'Saturn', 'Uranus', 'Neptune', 'Pluto', 'Moon'])"
      ],
      "execution_count": null,
      "outputs": []
    },
    {
      "cell_type": "code",
      "metadata": {
        "id": "AaNfKrlQHXUK",
        "colab_type": "code",
        "colab": {
          "base_uri": "https://localhost:8080/",
          "height": 187
        },
        "outputId": "12d683ea-e273-42c9-853f-1ecbb6245a22"
      },
      "source": [
        "mass"
      ],
      "execution_count": null,
      "outputs": [
        {
          "output_type": "execute_result",
          "data": {
            "text/plain": [
              "Murcury       0.330\n",
              "Venus         4.870\n",
              "Earth         5.970\n",
              "Mars          0.642\n",
              "Jupiter    1898.000\n",
              "Saturn      568.000\n",
              "Uranus       86.800\n",
              "Neptune     102.000\n",
              "Pluto         0.146\n",
              "dtype: float64"
            ]
          },
          "metadata": {
            "tags": []
          },
          "execution_count": 26
        }
      ]
    },
    {
      "cell_type": "code",
      "metadata": {
        "id": "MLj7xKZ1HbDC",
        "colab_type": "code",
        "colab": {
          "base_uri": "https://localhost:8080/",
          "height": 204
        },
        "outputId": "1bcee8cf-2eb1-494f-a35c-badb72dd09ed"
      },
      "source": [
        "diameter"
      ],
      "execution_count": null,
      "outputs": [
        {
          "output_type": "execute_result",
          "data": {
            "text/plain": [
              "Murcury      4878\n",
              "Venus       12104\n",
              "Earth       12756\n",
              "Mars         6794\n",
              "Jupiter    142984\n",
              "Saturn     120536\n",
              "Uranus      51118\n",
              "Neptune     49532\n",
              "Pluto        2370\n",
              "Moon         3475\n",
              "dtype: int64"
            ]
          },
          "metadata": {
            "tags": []
          },
          "execution_count": 27
        }
      ]
    },
    {
      "cell_type": "markdown",
      "metadata": {
        "id": "8bB3Y6puHqp_",
        "colab_type": "text"
      },
      "source": [
        "We can take these both different datatype object and convert it into pandas DataFrame"
      ]
    },
    {
      "cell_type": "code",
      "metadata": {
        "id": "n3fPVFX9HpJD",
        "colab_type": "code",
        "colab": {}
      },
      "source": [
        "df = pd.DataFrame({\"Mass\":mass, \"Diameter\":diameter})"
      ],
      "execution_count": null,
      "outputs": []
    },
    {
      "cell_type": "code",
      "metadata": {
        "id": "epsx-M1UIQ6l",
        "colab_type": "code",
        "colab": {
          "base_uri": "https://localhost:8080/",
          "height": 359
        },
        "outputId": "d1879eb7-bb1b-43e8-c0c7-10a0c2861602"
      },
      "source": [
        "df"
      ],
      "execution_count": null,
      "outputs": [
        {
          "output_type": "execute_result",
          "data": {
            "text/html": [
              "<div>\n",
              "<style scoped>\n",
              "    .dataframe tbody tr th:only-of-type {\n",
              "        vertical-align: middle;\n",
              "    }\n",
              "\n",
              "    .dataframe tbody tr th {\n",
              "        vertical-align: top;\n",
              "    }\n",
              "\n",
              "    .dataframe thead th {\n",
              "        text-align: right;\n",
              "    }\n",
              "</style>\n",
              "<table border=\"1\" class=\"dataframe\">\n",
              "  <thead>\n",
              "    <tr style=\"text-align: right;\">\n",
              "      <th></th>\n",
              "      <th>Mass</th>\n",
              "      <th>Diameter</th>\n",
              "    </tr>\n",
              "  </thead>\n",
              "  <tbody>\n",
              "    <tr>\n",
              "      <th>Earth</th>\n",
              "      <td>5.970</td>\n",
              "      <td>12756</td>\n",
              "    </tr>\n",
              "    <tr>\n",
              "      <th>Jupiter</th>\n",
              "      <td>1898.000</td>\n",
              "      <td>142984</td>\n",
              "    </tr>\n",
              "    <tr>\n",
              "      <th>Mars</th>\n",
              "      <td>0.642</td>\n",
              "      <td>6794</td>\n",
              "    </tr>\n",
              "    <tr>\n",
              "      <th>Moon</th>\n",
              "      <td>NaN</td>\n",
              "      <td>3475</td>\n",
              "    </tr>\n",
              "    <tr>\n",
              "      <th>Murcury</th>\n",
              "      <td>0.330</td>\n",
              "      <td>4878</td>\n",
              "    </tr>\n",
              "    <tr>\n",
              "      <th>Neptune</th>\n",
              "      <td>102.000</td>\n",
              "      <td>49532</td>\n",
              "    </tr>\n",
              "    <tr>\n",
              "      <th>Pluto</th>\n",
              "      <td>0.146</td>\n",
              "      <td>2370</td>\n",
              "    </tr>\n",
              "    <tr>\n",
              "      <th>Saturn</th>\n",
              "      <td>568.000</td>\n",
              "      <td>120536</td>\n",
              "    </tr>\n",
              "    <tr>\n",
              "      <th>Uranus</th>\n",
              "      <td>86.800</td>\n",
              "      <td>51118</td>\n",
              "    </tr>\n",
              "    <tr>\n",
              "      <th>Venus</th>\n",
              "      <td>4.870</td>\n",
              "      <td>12104</td>\n",
              "    </tr>\n",
              "  </tbody>\n",
              "</table>\n",
              "</div>"
            ],
            "text/plain": [
              "             Mass  Diameter\n",
              "Earth       5.970     12756\n",
              "Jupiter  1898.000    142984\n",
              "Mars        0.642      6794\n",
              "Moon          NaN      3475\n",
              "Murcury     0.330      4878\n",
              "Neptune   102.000     49532\n",
              "Pluto       0.146      2370\n",
              "Saturn    568.000    120536\n",
              "Uranus     86.800     51118\n",
              "Venus       4.870     12104"
            ]
          },
          "metadata": {
            "tags": []
          },
          "execution_count": 29
        }
      ]
    },
    {
      "cell_type": "code",
      "metadata": {
        "id": "MhYNMh6WIXJB",
        "colab_type": "code",
        "colab": {
          "base_uri": "https://localhost:8080/",
          "height": 204
        },
        "outputId": "b0b93862-6af8-4566-fe4c-2ac57d80af0e"
      },
      "source": [
        "df['Mass']"
      ],
      "execution_count": null,
      "outputs": [
        {
          "output_type": "execute_result",
          "data": {
            "text/plain": [
              "Earth         5.970\n",
              "Jupiter    1898.000\n",
              "Mars          0.642\n",
              "Moon            NaN\n",
              "Murcury       0.330\n",
              "Neptune     102.000\n",
              "Pluto         0.146\n",
              "Saturn      568.000\n",
              "Uranus       86.800\n",
              "Venus         4.870\n",
              "Name: Mass, dtype: float64"
            ]
          },
          "metadata": {
            "tags": []
          },
          "execution_count": 30
        }
      ]
    },
    {
      "cell_type": "code",
      "metadata": {
        "id": "HkW7er85OfIY",
        "colab_type": "code",
        "colab": {
          "base_uri": "https://localhost:8080/",
          "height": 204
        },
        "outputId": "3c2d1e04-d46e-4535-9bbd-c8a70c7ae197"
      },
      "source": [
        "df['Diameter']"
      ],
      "execution_count": null,
      "outputs": [
        {
          "output_type": "execute_result",
          "data": {
            "text/plain": [
              "Earth       12756\n",
              "Jupiter    142984\n",
              "Mars         6794\n",
              "Moon         3475\n",
              "Murcury      4878\n",
              "Neptune     49532\n",
              "Pluto        2370\n",
              "Saturn     120536\n",
              "Uranus      51118\n",
              "Venus       12104\n",
              "Name: Diameter, dtype: int64"
            ]
          },
          "metadata": {
            "tags": []
          },
          "execution_count": 31
        }
      ]
    },
    {
      "cell_type": "markdown",
      "metadata": {
        "id": "kq4deznlOyjY",
        "colab_type": "text"
      },
      "source": [
        "We cant access data for Earth or Mars directly."
      ]
    },
    {
      "cell_type": "code",
      "metadata": {
        "id": "rRUwtWP-Ox_D",
        "colab_type": "code",
        "colab": {
          "base_uri": "https://localhost:8080/",
          "height": 717
        },
        "outputId": "834b3ba0-9e5d-4590-a5c2-21504449a364"
      },
      "source": [
        "df['Earth']"
      ],
      "execution_count": null,
      "outputs": [
        {
          "output_type": "error",
          "ename": "KeyError",
          "evalue": "ignored",
          "traceback": [
            "\u001b[0;31m---------------------------------------------------------------------------\u001b[0m",
            "\u001b[0;31mKeyError\u001b[0m                                  Traceback (most recent call last)",
            "\u001b[0;32m/usr/local/lib/python3.6/dist-packages/pandas/core/indexes/base.py\u001b[0m in \u001b[0;36mget_loc\u001b[0;34m(self, key, method, tolerance)\u001b[0m\n\u001b[1;32m   2645\u001b[0m             \u001b[0;32mtry\u001b[0m\u001b[0;34m:\u001b[0m\u001b[0;34m\u001b[0m\u001b[0;34m\u001b[0m\u001b[0m\n\u001b[0;32m-> 2646\u001b[0;31m                 \u001b[0;32mreturn\u001b[0m \u001b[0mself\u001b[0m\u001b[0;34m.\u001b[0m\u001b[0m_engine\u001b[0m\u001b[0;34m.\u001b[0m\u001b[0mget_loc\u001b[0m\u001b[0;34m(\u001b[0m\u001b[0mkey\u001b[0m\u001b[0;34m)\u001b[0m\u001b[0;34m\u001b[0m\u001b[0;34m\u001b[0m\u001b[0m\n\u001b[0m\u001b[1;32m   2647\u001b[0m             \u001b[0;32mexcept\u001b[0m \u001b[0mKeyError\u001b[0m\u001b[0;34m:\u001b[0m\u001b[0;34m\u001b[0m\u001b[0;34m\u001b[0m\u001b[0m\n",
            "\u001b[0;32mpandas/_libs/index.pyx\u001b[0m in \u001b[0;36mpandas._libs.index.IndexEngine.get_loc\u001b[0;34m()\u001b[0m\n",
            "\u001b[0;32mpandas/_libs/index.pyx\u001b[0m in \u001b[0;36mpandas._libs.index.IndexEngine.get_loc\u001b[0;34m()\u001b[0m\n",
            "\u001b[0;32mpandas/_libs/hashtable_class_helper.pxi\u001b[0m in \u001b[0;36mpandas._libs.hashtable.PyObjectHashTable.get_item\u001b[0;34m()\u001b[0m\n",
            "\u001b[0;32mpandas/_libs/hashtable_class_helper.pxi\u001b[0m in \u001b[0;36mpandas._libs.hashtable.PyObjectHashTable.get_item\u001b[0;34m()\u001b[0m\n",
            "\u001b[0;31mKeyError\u001b[0m: 'Earth'",
            "\nDuring handling of the above exception, another exception occurred:\n",
            "\u001b[0;31mKeyError\u001b[0m                                  Traceback (most recent call last)",
            "\u001b[0;32m<ipython-input-32-b07be539a774>\u001b[0m in \u001b[0;36m<module>\u001b[0;34m()\u001b[0m\n\u001b[0;32m----> 1\u001b[0;31m \u001b[0mdf\u001b[0m\u001b[0;34m[\u001b[0m\u001b[0;34m'Earth'\u001b[0m\u001b[0;34m]\u001b[0m\u001b[0;34m\u001b[0m\u001b[0;34m\u001b[0m\u001b[0m\n\u001b[0m",
            "\u001b[0;32m/usr/local/lib/python3.6/dist-packages/pandas/core/frame.py\u001b[0m in \u001b[0;36m__getitem__\u001b[0;34m(self, key)\u001b[0m\n\u001b[1;32m   2798\u001b[0m             \u001b[0;32mif\u001b[0m \u001b[0mself\u001b[0m\u001b[0;34m.\u001b[0m\u001b[0mcolumns\u001b[0m\u001b[0;34m.\u001b[0m\u001b[0mnlevels\u001b[0m \u001b[0;34m>\u001b[0m \u001b[0;36m1\u001b[0m\u001b[0;34m:\u001b[0m\u001b[0;34m\u001b[0m\u001b[0;34m\u001b[0m\u001b[0m\n\u001b[1;32m   2799\u001b[0m                 \u001b[0;32mreturn\u001b[0m \u001b[0mself\u001b[0m\u001b[0;34m.\u001b[0m\u001b[0m_getitem_multilevel\u001b[0m\u001b[0;34m(\u001b[0m\u001b[0mkey\u001b[0m\u001b[0;34m)\u001b[0m\u001b[0;34m\u001b[0m\u001b[0;34m\u001b[0m\u001b[0m\n\u001b[0;32m-> 2800\u001b[0;31m             \u001b[0mindexer\u001b[0m \u001b[0;34m=\u001b[0m \u001b[0mself\u001b[0m\u001b[0;34m.\u001b[0m\u001b[0mcolumns\u001b[0m\u001b[0;34m.\u001b[0m\u001b[0mget_loc\u001b[0m\u001b[0;34m(\u001b[0m\u001b[0mkey\u001b[0m\u001b[0;34m)\u001b[0m\u001b[0;34m\u001b[0m\u001b[0;34m\u001b[0m\u001b[0m\n\u001b[0m\u001b[1;32m   2801\u001b[0m             \u001b[0;32mif\u001b[0m \u001b[0mis_integer\u001b[0m\u001b[0;34m(\u001b[0m\u001b[0mindexer\u001b[0m\u001b[0;34m)\u001b[0m\u001b[0;34m:\u001b[0m\u001b[0;34m\u001b[0m\u001b[0;34m\u001b[0m\u001b[0m\n\u001b[1;32m   2802\u001b[0m                 \u001b[0mindexer\u001b[0m \u001b[0;34m=\u001b[0m \u001b[0;34m[\u001b[0m\u001b[0mindexer\u001b[0m\u001b[0;34m]\u001b[0m\u001b[0;34m\u001b[0m\u001b[0;34m\u001b[0m\u001b[0m\n",
            "\u001b[0;32m/usr/local/lib/python3.6/dist-packages/pandas/core/indexes/base.py\u001b[0m in \u001b[0;36mget_loc\u001b[0;34m(self, key, method, tolerance)\u001b[0m\n\u001b[1;32m   2646\u001b[0m                 \u001b[0;32mreturn\u001b[0m \u001b[0mself\u001b[0m\u001b[0;34m.\u001b[0m\u001b[0m_engine\u001b[0m\u001b[0;34m.\u001b[0m\u001b[0mget_loc\u001b[0m\u001b[0;34m(\u001b[0m\u001b[0mkey\u001b[0m\u001b[0;34m)\u001b[0m\u001b[0;34m\u001b[0m\u001b[0;34m\u001b[0m\u001b[0m\n\u001b[1;32m   2647\u001b[0m             \u001b[0;32mexcept\u001b[0m \u001b[0mKeyError\u001b[0m\u001b[0;34m:\u001b[0m\u001b[0;34m\u001b[0m\u001b[0;34m\u001b[0m\u001b[0m\n\u001b[0;32m-> 2648\u001b[0;31m                 \u001b[0;32mreturn\u001b[0m \u001b[0mself\u001b[0m\u001b[0;34m.\u001b[0m\u001b[0m_engine\u001b[0m\u001b[0;34m.\u001b[0m\u001b[0mget_loc\u001b[0m\u001b[0;34m(\u001b[0m\u001b[0mself\u001b[0m\u001b[0;34m.\u001b[0m\u001b[0m_maybe_cast_indexer\u001b[0m\u001b[0;34m(\u001b[0m\u001b[0mkey\u001b[0m\u001b[0;34m)\u001b[0m\u001b[0;34m)\u001b[0m\u001b[0;34m\u001b[0m\u001b[0;34m\u001b[0m\u001b[0m\n\u001b[0m\u001b[1;32m   2649\u001b[0m         \u001b[0mindexer\u001b[0m \u001b[0;34m=\u001b[0m \u001b[0mself\u001b[0m\u001b[0;34m.\u001b[0m\u001b[0mget_indexer\u001b[0m\u001b[0;34m(\u001b[0m\u001b[0;34m[\u001b[0m\u001b[0mkey\u001b[0m\u001b[0;34m]\u001b[0m\u001b[0;34m,\u001b[0m \u001b[0mmethod\u001b[0m\u001b[0;34m=\u001b[0m\u001b[0mmethod\u001b[0m\u001b[0;34m,\u001b[0m \u001b[0mtolerance\u001b[0m\u001b[0;34m=\u001b[0m\u001b[0mtolerance\u001b[0m\u001b[0;34m)\u001b[0m\u001b[0;34m\u001b[0m\u001b[0;34m\u001b[0m\u001b[0m\n\u001b[1;32m   2650\u001b[0m         \u001b[0;32mif\u001b[0m \u001b[0mindexer\u001b[0m\u001b[0;34m.\u001b[0m\u001b[0mndim\u001b[0m \u001b[0;34m>\u001b[0m \u001b[0;36m1\u001b[0m \u001b[0;32mor\u001b[0m \u001b[0mindexer\u001b[0m\u001b[0;34m.\u001b[0m\u001b[0msize\u001b[0m \u001b[0;34m>\u001b[0m \u001b[0;36m1\u001b[0m\u001b[0;34m:\u001b[0m\u001b[0;34m\u001b[0m\u001b[0;34m\u001b[0m\u001b[0m\n",
            "\u001b[0;32mpandas/_libs/index.pyx\u001b[0m in \u001b[0;36mpandas._libs.index.IndexEngine.get_loc\u001b[0;34m()\u001b[0m\n",
            "\u001b[0;32mpandas/_libs/index.pyx\u001b[0m in \u001b[0;36mpandas._libs.index.IndexEngine.get_loc\u001b[0;34m()\u001b[0m\n",
            "\u001b[0;32mpandas/_libs/hashtable_class_helper.pxi\u001b[0m in \u001b[0;36mpandas._libs.hashtable.PyObjectHashTable.get_item\u001b[0;34m()\u001b[0m\n",
            "\u001b[0;32mpandas/_libs/hashtable_class_helper.pxi\u001b[0m in \u001b[0;36mpandas._libs.hashtable.PyObjectHashTable.get_item\u001b[0;34m()\u001b[0m\n",
            "\u001b[0;31mKeyError\u001b[0m: 'Earth'"
          ]
        }
      ]
    },
    {
      "cell_type": "markdown",
      "metadata": {
        "id": "toHfR-ZmPBCd",
        "colab_type": "text"
      },
      "source": [
        "As Earth is not a key in the column space so it has appeared Keyerror. So we can access it in other ways."
      ]
    },
    {
      "cell_type": "code",
      "metadata": {
        "id": "vVID1q3kOhun",
        "colab_type": "code",
        "colab": {
          "base_uri": "https://localhost:8080/",
          "height": 34
        },
        "outputId": "825a27c0-2cc5-4ea5-8120-f34d88cd9961"
      },
      "source": [
        "df['Mass']['Earth']"
      ],
      "execution_count": null,
      "outputs": [
        {
          "output_type": "execute_result",
          "data": {
            "text/plain": [
              "5.97"
            ]
          },
          "metadata": {
            "tags": []
          },
          "execution_count": 33
        }
      ]
    },
    {
      "cell_type": "markdown",
      "metadata": {
        "id": "bEXZ4YYAPsFC",
        "colab_type": "text"
      },
      "source": [
        "Now we can add another column to this dataframe."
      ]
    },
    {
      "cell_type": "code",
      "metadata": {
        "id": "PqCirbiHPSLO",
        "colab_type": "code",
        "colab": {}
      },
      "source": [
        "df['Population'] = 0"
      ],
      "execution_count": null,
      "outputs": []
    },
    {
      "cell_type": "code",
      "metadata": {
        "id": "QKpaQndWPzNc",
        "colab_type": "code",
        "colab": {
          "base_uri": "https://localhost:8080/",
          "height": 359
        },
        "outputId": "52fae1c3-8468-48e4-8add-96f8b9ff7a51"
      },
      "source": [
        "df"
      ],
      "execution_count": null,
      "outputs": [
        {
          "output_type": "execute_result",
          "data": {
            "text/html": [
              "<div>\n",
              "<style scoped>\n",
              "    .dataframe tbody tr th:only-of-type {\n",
              "        vertical-align: middle;\n",
              "    }\n",
              "\n",
              "    .dataframe tbody tr th {\n",
              "        vertical-align: top;\n",
              "    }\n",
              "\n",
              "    .dataframe thead th {\n",
              "        text-align: right;\n",
              "    }\n",
              "</style>\n",
              "<table border=\"1\" class=\"dataframe\">\n",
              "  <thead>\n",
              "    <tr style=\"text-align: right;\">\n",
              "      <th></th>\n",
              "      <th>Mass</th>\n",
              "      <th>Diameter</th>\n",
              "      <th>Population</th>\n",
              "    </tr>\n",
              "  </thead>\n",
              "  <tbody>\n",
              "    <tr>\n",
              "      <th>Earth</th>\n",
              "      <td>5.970</td>\n",
              "      <td>12756</td>\n",
              "      <td>0</td>\n",
              "    </tr>\n",
              "    <tr>\n",
              "      <th>Jupiter</th>\n",
              "      <td>1898.000</td>\n",
              "      <td>142984</td>\n",
              "      <td>0</td>\n",
              "    </tr>\n",
              "    <tr>\n",
              "      <th>Mars</th>\n",
              "      <td>0.642</td>\n",
              "      <td>6794</td>\n",
              "      <td>0</td>\n",
              "    </tr>\n",
              "    <tr>\n",
              "      <th>Moon</th>\n",
              "      <td>NaN</td>\n",
              "      <td>3475</td>\n",
              "      <td>0</td>\n",
              "    </tr>\n",
              "    <tr>\n",
              "      <th>Murcury</th>\n",
              "      <td>0.330</td>\n",
              "      <td>4878</td>\n",
              "      <td>0</td>\n",
              "    </tr>\n",
              "    <tr>\n",
              "      <th>Neptune</th>\n",
              "      <td>102.000</td>\n",
              "      <td>49532</td>\n",
              "      <td>0</td>\n",
              "    </tr>\n",
              "    <tr>\n",
              "      <th>Pluto</th>\n",
              "      <td>0.146</td>\n",
              "      <td>2370</td>\n",
              "      <td>0</td>\n",
              "    </tr>\n",
              "    <tr>\n",
              "      <th>Saturn</th>\n",
              "      <td>568.000</td>\n",
              "      <td>120536</td>\n",
              "      <td>0</td>\n",
              "    </tr>\n",
              "    <tr>\n",
              "      <th>Uranus</th>\n",
              "      <td>86.800</td>\n",
              "      <td>51118</td>\n",
              "      <td>0</td>\n",
              "    </tr>\n",
              "    <tr>\n",
              "      <th>Venus</th>\n",
              "      <td>4.870</td>\n",
              "      <td>12104</td>\n",
              "      <td>0</td>\n",
              "    </tr>\n",
              "  </tbody>\n",
              "</table>\n",
              "</div>"
            ],
            "text/plain": [
              "             Mass  Diameter  Population\n",
              "Earth       5.970     12756           0\n",
              "Jupiter  1898.000    142984           0\n",
              "Mars        0.642      6794           0\n",
              "Moon          NaN      3475           0\n",
              "Murcury     0.330      4878           0\n",
              "Neptune   102.000     49532           0\n",
              "Pluto       0.146      2370           0\n",
              "Saturn    568.000    120536           0\n",
              "Uranus     86.800     51118           0\n",
              "Venus       4.870     12104           0"
            ]
          },
          "metadata": {
            "tags": []
          },
          "execution_count": 35
        }
      ]
    },
    {
      "cell_type": "markdown",
      "metadata": {
        "id": "Tm-1IMiYP-_X",
        "colab_type": "text"
      },
      "source": [
        "We can change individual values of the columns."
      ]
    },
    {
      "cell_type": "code",
      "metadata": {
        "id": "tsDdOgGDPz23",
        "colab_type": "code",
        "colab": {
          "base_uri": "https://localhost:8080/",
          "height": 122
        },
        "outputId": "103c9d35-0757-4c95-ac2c-14f82fbbeb4a"
      },
      "source": [
        "df['Population']['Earth'] = 800000000"
      ],
      "execution_count": null,
      "outputs": [
        {
          "output_type": "stream",
          "text": [
            "/usr/local/lib/python3.6/dist-packages/ipykernel_launcher.py:1: SettingWithCopyWarning: \n",
            "A value is trying to be set on a copy of a slice from a DataFrame\n",
            "\n",
            "See the caveats in the documentation: https://pandas.pydata.org/pandas-docs/stable/user_guide/indexing.html#returning-a-view-versus-a-copy\n",
            "  \"\"\"Entry point for launching an IPython kernel.\n"
          ],
          "name": "stderr"
        }
      ]
    },
    {
      "cell_type": "code",
      "metadata": {
        "id": "mwrq4gtgQZLe",
        "colab_type": "code",
        "colab": {
          "base_uri": "https://localhost:8080/",
          "height": 359
        },
        "outputId": "f5ea5052-0e46-4c45-b2b3-1980143a8534"
      },
      "source": [
        "df"
      ],
      "execution_count": null,
      "outputs": [
        {
          "output_type": "execute_result",
          "data": {
            "text/html": [
              "<div>\n",
              "<style scoped>\n",
              "    .dataframe tbody tr th:only-of-type {\n",
              "        vertical-align: middle;\n",
              "    }\n",
              "\n",
              "    .dataframe tbody tr th {\n",
              "        vertical-align: top;\n",
              "    }\n",
              "\n",
              "    .dataframe thead th {\n",
              "        text-align: right;\n",
              "    }\n",
              "</style>\n",
              "<table border=\"1\" class=\"dataframe\">\n",
              "  <thead>\n",
              "    <tr style=\"text-align: right;\">\n",
              "      <th></th>\n",
              "      <th>Mass</th>\n",
              "      <th>Diameter</th>\n",
              "      <th>Population</th>\n",
              "    </tr>\n",
              "  </thead>\n",
              "  <tbody>\n",
              "    <tr>\n",
              "      <th>Earth</th>\n",
              "      <td>5.970</td>\n",
              "      <td>12756</td>\n",
              "      <td>800000000</td>\n",
              "    </tr>\n",
              "    <tr>\n",
              "      <th>Jupiter</th>\n",
              "      <td>1898.000</td>\n",
              "      <td>142984</td>\n",
              "      <td>0</td>\n",
              "    </tr>\n",
              "    <tr>\n",
              "      <th>Mars</th>\n",
              "      <td>0.642</td>\n",
              "      <td>6794</td>\n",
              "      <td>0</td>\n",
              "    </tr>\n",
              "    <tr>\n",
              "      <th>Moon</th>\n",
              "      <td>NaN</td>\n",
              "      <td>3475</td>\n",
              "      <td>0</td>\n",
              "    </tr>\n",
              "    <tr>\n",
              "      <th>Murcury</th>\n",
              "      <td>0.330</td>\n",
              "      <td>4878</td>\n",
              "      <td>0</td>\n",
              "    </tr>\n",
              "    <tr>\n",
              "      <th>Neptune</th>\n",
              "      <td>102.000</td>\n",
              "      <td>49532</td>\n",
              "      <td>0</td>\n",
              "    </tr>\n",
              "    <tr>\n",
              "      <th>Pluto</th>\n",
              "      <td>0.146</td>\n",
              "      <td>2370</td>\n",
              "      <td>0</td>\n",
              "    </tr>\n",
              "    <tr>\n",
              "      <th>Saturn</th>\n",
              "      <td>568.000</td>\n",
              "      <td>120536</td>\n",
              "      <td>0</td>\n",
              "    </tr>\n",
              "    <tr>\n",
              "      <th>Uranus</th>\n",
              "      <td>86.800</td>\n",
              "      <td>51118</td>\n",
              "      <td>0</td>\n",
              "    </tr>\n",
              "    <tr>\n",
              "      <th>Venus</th>\n",
              "      <td>4.870</td>\n",
              "      <td>12104</td>\n",
              "      <td>0</td>\n",
              "    </tr>\n",
              "  </tbody>\n",
              "</table>\n",
              "</div>"
            ],
            "text/plain": [
              "             Mass  Diameter  Population\n",
              "Earth       5.970     12756   800000000\n",
              "Jupiter  1898.000    142984           0\n",
              "Mars        0.642      6794           0\n",
              "Moon          NaN      3475           0\n",
              "Murcury     0.330      4878           0\n",
              "Neptune   102.000     49532           0\n",
              "Pluto       0.146      2370           0\n",
              "Saturn    568.000    120536           0\n",
              "Uranus     86.800     51118           0\n",
              "Venus       4.870     12104           0"
            ]
          },
          "metadata": {
            "tags": []
          },
          "execution_count": 37
        }
      ]
    },
    {
      "cell_type": "markdown",
      "metadata": {
        "id": "JP2dT4b5yE9T",
        "colab_type": "text"
      },
      "source": [
        "We can access single value by using loc"
      ]
    },
    {
      "cell_type": "code",
      "metadata": {
        "id": "YU2uFENLQcu1",
        "colab_type": "code",
        "colab": {
          "base_uri": "https://localhost:8080/",
          "height": 85
        },
        "outputId": "eb555955-b2cc-48f8-f40f-a494495dab34"
      },
      "source": [
        "df.loc['Earth'] # Accessing the row"
      ],
      "execution_count": null,
      "outputs": [
        {
          "output_type": "execute_result",
          "data": {
            "text/plain": [
              "Mass          5.970000e+00\n",
              "Diameter      1.275600e+04\n",
              "Population    8.000000e+08\n",
              "Name: Earth, dtype: float64"
            ]
          },
          "metadata": {
            "tags": []
          },
          "execution_count": 38
        }
      ]
    },
    {
      "cell_type": "code",
      "metadata": {
        "id": "YOOxlk0ayKwZ",
        "colab_type": "code",
        "colab": {
          "base_uri": "https://localhost:8080/",
          "height": 204
        },
        "outputId": "4cbdaeee-bedb-461e-d056-d96a20d16ecc"
      },
      "source": [
        "df.loc[:, 'Mass'] # Accessing the whole column"
      ],
      "execution_count": null,
      "outputs": [
        {
          "output_type": "execute_result",
          "data": {
            "text/plain": [
              "Earth         5.970\n",
              "Jupiter    1898.000\n",
              "Mars          0.642\n",
              "Moon            NaN\n",
              "Murcury       0.330\n",
              "Neptune     102.000\n",
              "Pluto         0.146\n",
              "Saturn      568.000\n",
              "Uranus       86.800\n",
              "Venus         4.870\n",
              "Name: Mass, dtype: float64"
            ]
          },
          "metadata": {
            "tags": []
          },
          "execution_count": 39
        }
      ]
    },
    {
      "cell_type": "markdown",
      "metadata": {
        "id": "lqErtG2oEjHA",
        "colab_type": "text"
      },
      "source": [
        "Adding row"
      ]
    },
    {
      "cell_type": "code",
      "metadata": {
        "id": "MpwQM3YlyRqB",
        "colab_type": "code",
        "colab": {}
      },
      "source": [
        "def create_mean_row(df):\n",
        "    #df.loc['Col_Mean'] = [np.mean(df[col]) for col in df.columns]\n",
        "    df.loc['Col_Mean'] = df.mean()  # Faster way\n",
        "    return df"
      ],
      "execution_count": null,
      "outputs": []
    },
    {
      "cell_type": "code",
      "metadata": {
        "id": "qWCEotxHFGuW",
        "colab_type": "code",
        "colab": {
          "base_uri": "https://localhost:8080/",
          "height": 359
        },
        "outputId": "a4a276bd-7f4f-40f9-cb1f-f64dc5265621"
      },
      "source": [
        "df"
      ],
      "execution_count": null,
      "outputs": [
        {
          "output_type": "execute_result",
          "data": {
            "text/html": [
              "<div>\n",
              "<style scoped>\n",
              "    .dataframe tbody tr th:only-of-type {\n",
              "        vertical-align: middle;\n",
              "    }\n",
              "\n",
              "    .dataframe tbody tr th {\n",
              "        vertical-align: top;\n",
              "    }\n",
              "\n",
              "    .dataframe thead th {\n",
              "        text-align: right;\n",
              "    }\n",
              "</style>\n",
              "<table border=\"1\" class=\"dataframe\">\n",
              "  <thead>\n",
              "    <tr style=\"text-align: right;\">\n",
              "      <th></th>\n",
              "      <th>Mass</th>\n",
              "      <th>Diameter</th>\n",
              "      <th>Population</th>\n",
              "    </tr>\n",
              "  </thead>\n",
              "  <tbody>\n",
              "    <tr>\n",
              "      <th>Earth</th>\n",
              "      <td>5.970</td>\n",
              "      <td>12756</td>\n",
              "      <td>800000000</td>\n",
              "    </tr>\n",
              "    <tr>\n",
              "      <th>Jupiter</th>\n",
              "      <td>1898.000</td>\n",
              "      <td>142984</td>\n",
              "      <td>0</td>\n",
              "    </tr>\n",
              "    <tr>\n",
              "      <th>Mars</th>\n",
              "      <td>0.642</td>\n",
              "      <td>6794</td>\n",
              "      <td>0</td>\n",
              "    </tr>\n",
              "    <tr>\n",
              "      <th>Moon</th>\n",
              "      <td>NaN</td>\n",
              "      <td>3475</td>\n",
              "      <td>0</td>\n",
              "    </tr>\n",
              "    <tr>\n",
              "      <th>Murcury</th>\n",
              "      <td>0.330</td>\n",
              "      <td>4878</td>\n",
              "      <td>0</td>\n",
              "    </tr>\n",
              "    <tr>\n",
              "      <th>Neptune</th>\n",
              "      <td>102.000</td>\n",
              "      <td>49532</td>\n",
              "      <td>0</td>\n",
              "    </tr>\n",
              "    <tr>\n",
              "      <th>Pluto</th>\n",
              "      <td>0.146</td>\n",
              "      <td>2370</td>\n",
              "      <td>0</td>\n",
              "    </tr>\n",
              "    <tr>\n",
              "      <th>Saturn</th>\n",
              "      <td>568.000</td>\n",
              "      <td>120536</td>\n",
              "      <td>0</td>\n",
              "    </tr>\n",
              "    <tr>\n",
              "      <th>Uranus</th>\n",
              "      <td>86.800</td>\n",
              "      <td>51118</td>\n",
              "      <td>0</td>\n",
              "    </tr>\n",
              "    <tr>\n",
              "      <th>Venus</th>\n",
              "      <td>4.870</td>\n",
              "      <td>12104</td>\n",
              "      <td>0</td>\n",
              "    </tr>\n",
              "  </tbody>\n",
              "</table>\n",
              "</div>"
            ],
            "text/plain": [
              "             Mass  Diameter  Population\n",
              "Earth       5.970     12756   800000000\n",
              "Jupiter  1898.000    142984           0\n",
              "Mars        0.642      6794           0\n",
              "Moon          NaN      3475           0\n",
              "Murcury     0.330      4878           0\n",
              "Neptune   102.000     49532           0\n",
              "Pluto       0.146      2370           0\n",
              "Saturn    568.000    120536           0\n",
              "Uranus     86.800     51118           0\n",
              "Venus       4.870     12104           0"
            ]
          },
          "metadata": {
            "tags": []
          },
          "execution_count": 41
        }
      ]
    },
    {
      "cell_type": "code",
      "metadata": {
        "id": "yDsATqRIFM3e",
        "colab_type": "code",
        "colab": {}
      },
      "source": [
        "df.loc['col_mean'] = 0"
      ],
      "execution_count": null,
      "outputs": []
    },
    {
      "cell_type": "code",
      "metadata": {
        "id": "M5rWSv9cFiN5",
        "colab_type": "code",
        "colab": {
          "base_uri": "https://localhost:8080/",
          "height": 390
        },
        "outputId": "eb1c7a65-62d7-48e0-8eae-0ab3a13a2b12"
      },
      "source": [
        "df"
      ],
      "execution_count": null,
      "outputs": [
        {
          "output_type": "execute_result",
          "data": {
            "text/html": [
              "<div>\n",
              "<style scoped>\n",
              "    .dataframe tbody tr th:only-of-type {\n",
              "        vertical-align: middle;\n",
              "    }\n",
              "\n",
              "    .dataframe tbody tr th {\n",
              "        vertical-align: top;\n",
              "    }\n",
              "\n",
              "    .dataframe thead th {\n",
              "        text-align: right;\n",
              "    }\n",
              "</style>\n",
              "<table border=\"1\" class=\"dataframe\">\n",
              "  <thead>\n",
              "    <tr style=\"text-align: right;\">\n",
              "      <th></th>\n",
              "      <th>Mass</th>\n",
              "      <th>Diameter</th>\n",
              "      <th>Population</th>\n",
              "    </tr>\n",
              "  </thead>\n",
              "  <tbody>\n",
              "    <tr>\n",
              "      <th>Earth</th>\n",
              "      <td>5.970</td>\n",
              "      <td>12756</td>\n",
              "      <td>800000000</td>\n",
              "    </tr>\n",
              "    <tr>\n",
              "      <th>Jupiter</th>\n",
              "      <td>1898.000</td>\n",
              "      <td>142984</td>\n",
              "      <td>0</td>\n",
              "    </tr>\n",
              "    <tr>\n",
              "      <th>Mars</th>\n",
              "      <td>0.642</td>\n",
              "      <td>6794</td>\n",
              "      <td>0</td>\n",
              "    </tr>\n",
              "    <tr>\n",
              "      <th>Moon</th>\n",
              "      <td>NaN</td>\n",
              "      <td>3475</td>\n",
              "      <td>0</td>\n",
              "    </tr>\n",
              "    <tr>\n",
              "      <th>Murcury</th>\n",
              "      <td>0.330</td>\n",
              "      <td>4878</td>\n",
              "      <td>0</td>\n",
              "    </tr>\n",
              "    <tr>\n",
              "      <th>Neptune</th>\n",
              "      <td>102.000</td>\n",
              "      <td>49532</td>\n",
              "      <td>0</td>\n",
              "    </tr>\n",
              "    <tr>\n",
              "      <th>Pluto</th>\n",
              "      <td>0.146</td>\n",
              "      <td>2370</td>\n",
              "      <td>0</td>\n",
              "    </tr>\n",
              "    <tr>\n",
              "      <th>Saturn</th>\n",
              "      <td>568.000</td>\n",
              "      <td>120536</td>\n",
              "      <td>0</td>\n",
              "    </tr>\n",
              "    <tr>\n",
              "      <th>Uranus</th>\n",
              "      <td>86.800</td>\n",
              "      <td>51118</td>\n",
              "      <td>0</td>\n",
              "    </tr>\n",
              "    <tr>\n",
              "      <th>Venus</th>\n",
              "      <td>4.870</td>\n",
              "      <td>12104</td>\n",
              "      <td>0</td>\n",
              "    </tr>\n",
              "    <tr>\n",
              "      <th>col_mean</th>\n",
              "      <td>0.000</td>\n",
              "      <td>0</td>\n",
              "      <td>0</td>\n",
              "    </tr>\n",
              "  </tbody>\n",
              "</table>\n",
              "</div>"
            ],
            "text/plain": [
              "              Mass  Diameter  Population\n",
              "Earth        5.970     12756   800000000\n",
              "Jupiter   1898.000    142984           0\n",
              "Mars         0.642      6794           0\n",
              "Moon           NaN      3475           0\n",
              "Murcury      0.330      4878           0\n",
              "Neptune    102.000     49532           0\n",
              "Pluto        0.146      2370           0\n",
              "Saturn     568.000    120536           0\n",
              "Uranus      86.800     51118           0\n",
              "Venus        4.870     12104           0\n",
              "col_mean     0.000         0           0"
            ]
          },
          "metadata": {
            "tags": []
          },
          "execution_count": 43
        }
      ]
    },
    {
      "cell_type": "code",
      "metadata": {
        "id": "KvfomEbzFi7Y",
        "colab_type": "code",
        "colab": {}
      },
      "source": [
        "# Deleting a row\n",
        "df.drop('col_mean', inplace=True)"
      ],
      "execution_count": null,
      "outputs": []
    },
    {
      "cell_type": "code",
      "metadata": {
        "id": "07F3BjGcGvkl",
        "colab_type": "code",
        "colab": {
          "base_uri": "https://localhost:8080/",
          "height": 359
        },
        "outputId": "c919dff7-ebad-49c7-a483-459948e53498"
      },
      "source": [
        "df"
      ],
      "execution_count": null,
      "outputs": [
        {
          "output_type": "execute_result",
          "data": {
            "text/html": [
              "<div>\n",
              "<style scoped>\n",
              "    .dataframe tbody tr th:only-of-type {\n",
              "        vertical-align: middle;\n",
              "    }\n",
              "\n",
              "    .dataframe tbody tr th {\n",
              "        vertical-align: top;\n",
              "    }\n",
              "\n",
              "    .dataframe thead th {\n",
              "        text-align: right;\n",
              "    }\n",
              "</style>\n",
              "<table border=\"1\" class=\"dataframe\">\n",
              "  <thead>\n",
              "    <tr style=\"text-align: right;\">\n",
              "      <th></th>\n",
              "      <th>Mass</th>\n",
              "      <th>Diameter</th>\n",
              "      <th>Population</th>\n",
              "    </tr>\n",
              "  </thead>\n",
              "  <tbody>\n",
              "    <tr>\n",
              "      <th>Earth</th>\n",
              "      <td>5.970</td>\n",
              "      <td>12756</td>\n",
              "      <td>800000000</td>\n",
              "    </tr>\n",
              "    <tr>\n",
              "      <th>Jupiter</th>\n",
              "      <td>1898.000</td>\n",
              "      <td>142984</td>\n",
              "      <td>0</td>\n",
              "    </tr>\n",
              "    <tr>\n",
              "      <th>Mars</th>\n",
              "      <td>0.642</td>\n",
              "      <td>6794</td>\n",
              "      <td>0</td>\n",
              "    </tr>\n",
              "    <tr>\n",
              "      <th>Moon</th>\n",
              "      <td>NaN</td>\n",
              "      <td>3475</td>\n",
              "      <td>0</td>\n",
              "    </tr>\n",
              "    <tr>\n",
              "      <th>Murcury</th>\n",
              "      <td>0.330</td>\n",
              "      <td>4878</td>\n",
              "      <td>0</td>\n",
              "    </tr>\n",
              "    <tr>\n",
              "      <th>Neptune</th>\n",
              "      <td>102.000</td>\n",
              "      <td>49532</td>\n",
              "      <td>0</td>\n",
              "    </tr>\n",
              "    <tr>\n",
              "      <th>Pluto</th>\n",
              "      <td>0.146</td>\n",
              "      <td>2370</td>\n",
              "      <td>0</td>\n",
              "    </tr>\n",
              "    <tr>\n",
              "      <th>Saturn</th>\n",
              "      <td>568.000</td>\n",
              "      <td>120536</td>\n",
              "      <td>0</td>\n",
              "    </tr>\n",
              "    <tr>\n",
              "      <th>Uranus</th>\n",
              "      <td>86.800</td>\n",
              "      <td>51118</td>\n",
              "      <td>0</td>\n",
              "    </tr>\n",
              "    <tr>\n",
              "      <th>Venus</th>\n",
              "      <td>4.870</td>\n",
              "      <td>12104</td>\n",
              "      <td>0</td>\n",
              "    </tr>\n",
              "  </tbody>\n",
              "</table>\n",
              "</div>"
            ],
            "text/plain": [
              "             Mass  Diameter  Population\n",
              "Earth       5.970     12756   800000000\n",
              "Jupiter  1898.000    142984           0\n",
              "Mars        0.642      6794           0\n",
              "Moon          NaN      3475           0\n",
              "Murcury     0.330      4878           0\n",
              "Neptune   102.000     49532           0\n",
              "Pluto       0.146      2370           0\n",
              "Saturn    568.000    120536           0\n",
              "Uranus     86.800     51118           0\n",
              "Venus       4.870     12104           0"
            ]
          },
          "metadata": {
            "tags": []
          },
          "execution_count": 45
        }
      ]
    },
    {
      "cell_type": "code",
      "metadata": {
        "id": "GsVTrXpQF5sy",
        "colab_type": "code",
        "colab": {}
      },
      "source": [
        "# Delete a column\n",
        "df.drop('Population', axis=1, inplace=True)"
      ],
      "execution_count": null,
      "outputs": []
    },
    {
      "cell_type": "code",
      "metadata": {
        "id": "vQ3OCjjkGE_w",
        "colab_type": "code",
        "colab": {
          "base_uri": "https://localhost:8080/",
          "height": 359
        },
        "outputId": "7aef61cf-f216-41e2-ca3f-72b199583321"
      },
      "source": [
        "df"
      ],
      "execution_count": null,
      "outputs": [
        {
          "output_type": "execute_result",
          "data": {
            "text/html": [
              "<div>\n",
              "<style scoped>\n",
              "    .dataframe tbody tr th:only-of-type {\n",
              "        vertical-align: middle;\n",
              "    }\n",
              "\n",
              "    .dataframe tbody tr th {\n",
              "        vertical-align: top;\n",
              "    }\n",
              "\n",
              "    .dataframe thead th {\n",
              "        text-align: right;\n",
              "    }\n",
              "</style>\n",
              "<table border=\"1\" class=\"dataframe\">\n",
              "  <thead>\n",
              "    <tr style=\"text-align: right;\">\n",
              "      <th></th>\n",
              "      <th>Mass</th>\n",
              "      <th>Diameter</th>\n",
              "    </tr>\n",
              "  </thead>\n",
              "  <tbody>\n",
              "    <tr>\n",
              "      <th>Earth</th>\n",
              "      <td>5.970</td>\n",
              "      <td>12756</td>\n",
              "    </tr>\n",
              "    <tr>\n",
              "      <th>Jupiter</th>\n",
              "      <td>1898.000</td>\n",
              "      <td>142984</td>\n",
              "    </tr>\n",
              "    <tr>\n",
              "      <th>Mars</th>\n",
              "      <td>0.642</td>\n",
              "      <td>6794</td>\n",
              "    </tr>\n",
              "    <tr>\n",
              "      <th>Moon</th>\n",
              "      <td>NaN</td>\n",
              "      <td>3475</td>\n",
              "    </tr>\n",
              "    <tr>\n",
              "      <th>Murcury</th>\n",
              "      <td>0.330</td>\n",
              "      <td>4878</td>\n",
              "    </tr>\n",
              "    <tr>\n",
              "      <th>Neptune</th>\n",
              "      <td>102.000</td>\n",
              "      <td>49532</td>\n",
              "    </tr>\n",
              "    <tr>\n",
              "      <th>Pluto</th>\n",
              "      <td>0.146</td>\n",
              "      <td>2370</td>\n",
              "    </tr>\n",
              "    <tr>\n",
              "      <th>Saturn</th>\n",
              "      <td>568.000</td>\n",
              "      <td>120536</td>\n",
              "    </tr>\n",
              "    <tr>\n",
              "      <th>Uranus</th>\n",
              "      <td>86.800</td>\n",
              "      <td>51118</td>\n",
              "    </tr>\n",
              "    <tr>\n",
              "      <th>Venus</th>\n",
              "      <td>4.870</td>\n",
              "      <td>12104</td>\n",
              "    </tr>\n",
              "  </tbody>\n",
              "</table>\n",
              "</div>"
            ],
            "text/plain": [
              "             Mass  Diameter\n",
              "Earth       5.970     12756\n",
              "Jupiter  1898.000    142984\n",
              "Mars        0.642      6794\n",
              "Moon          NaN      3475\n",
              "Murcury     0.330      4878\n",
              "Neptune   102.000     49532\n",
              "Pluto       0.146      2370\n",
              "Saturn    568.000    120536\n",
              "Uranus     86.800     51118\n",
              "Venus       4.870     12104"
            ]
          },
          "metadata": {
            "tags": []
          },
          "execution_count": 47
        }
      ]
    },
    {
      "cell_type": "code",
      "metadata": {
        "id": "Dru0-40yG1Cj",
        "colab_type": "code",
        "colab": {}
      },
      "source": [
        "df.loc['col_mean'] = [np.mean(df['Mass']), np.mean(df['Diameter'])]"
      ],
      "execution_count": null,
      "outputs": []
    },
    {
      "cell_type": "code",
      "metadata": {
        "id": "X50DD6pZHRMH",
        "colab_type": "code",
        "colab": {
          "base_uri": "https://localhost:8080/",
          "height": 390
        },
        "outputId": "4f1f1b42-6ba1-4c72-b973-cf4a0a5ebf82"
      },
      "source": [
        "df"
      ],
      "execution_count": null,
      "outputs": [
        {
          "output_type": "execute_result",
          "data": {
            "text/html": [
              "<div>\n",
              "<style scoped>\n",
              "    .dataframe tbody tr th:only-of-type {\n",
              "        vertical-align: middle;\n",
              "    }\n",
              "\n",
              "    .dataframe tbody tr th {\n",
              "        vertical-align: top;\n",
              "    }\n",
              "\n",
              "    .dataframe thead th {\n",
              "        text-align: right;\n",
              "    }\n",
              "</style>\n",
              "<table border=\"1\" class=\"dataframe\">\n",
              "  <thead>\n",
              "    <tr style=\"text-align: right;\">\n",
              "      <th></th>\n",
              "      <th>Mass</th>\n",
              "      <th>Diameter</th>\n",
              "    </tr>\n",
              "  </thead>\n",
              "  <tbody>\n",
              "    <tr>\n",
              "      <th>Earth</th>\n",
              "      <td>5.970000</td>\n",
              "      <td>12756.0</td>\n",
              "    </tr>\n",
              "    <tr>\n",
              "      <th>Jupiter</th>\n",
              "      <td>1898.000000</td>\n",
              "      <td>142984.0</td>\n",
              "    </tr>\n",
              "    <tr>\n",
              "      <th>Mars</th>\n",
              "      <td>0.642000</td>\n",
              "      <td>6794.0</td>\n",
              "    </tr>\n",
              "    <tr>\n",
              "      <th>Moon</th>\n",
              "      <td>NaN</td>\n",
              "      <td>3475.0</td>\n",
              "    </tr>\n",
              "    <tr>\n",
              "      <th>Murcury</th>\n",
              "      <td>0.330000</td>\n",
              "      <td>4878.0</td>\n",
              "    </tr>\n",
              "    <tr>\n",
              "      <th>Neptune</th>\n",
              "      <td>102.000000</td>\n",
              "      <td>49532.0</td>\n",
              "    </tr>\n",
              "    <tr>\n",
              "      <th>Pluto</th>\n",
              "      <td>0.146000</td>\n",
              "      <td>2370.0</td>\n",
              "    </tr>\n",
              "    <tr>\n",
              "      <th>Saturn</th>\n",
              "      <td>568.000000</td>\n",
              "      <td>120536.0</td>\n",
              "    </tr>\n",
              "    <tr>\n",
              "      <th>Uranus</th>\n",
              "      <td>86.800000</td>\n",
              "      <td>51118.0</td>\n",
              "    </tr>\n",
              "    <tr>\n",
              "      <th>Venus</th>\n",
              "      <td>4.870000</td>\n",
              "      <td>12104.0</td>\n",
              "    </tr>\n",
              "    <tr>\n",
              "      <th>col_mean</th>\n",
              "      <td>296.306444</td>\n",
              "      <td>40654.7</td>\n",
              "    </tr>\n",
              "  </tbody>\n",
              "</table>\n",
              "</div>"
            ],
            "text/plain": [
              "                 Mass  Diameter\n",
              "Earth        5.970000   12756.0\n",
              "Jupiter   1898.000000  142984.0\n",
              "Mars         0.642000    6794.0\n",
              "Moon              NaN    3475.0\n",
              "Murcury      0.330000    4878.0\n",
              "Neptune    102.000000   49532.0\n",
              "Pluto        0.146000    2370.0\n",
              "Saturn     568.000000  120536.0\n",
              "Uranus      86.800000   51118.0\n",
              "Venus        4.870000   12104.0\n",
              "col_mean   296.306444   40654.7"
            ]
          },
          "metadata": {
            "tags": []
          },
          "execution_count": 49
        }
      ]
    },
    {
      "cell_type": "code",
      "metadata": {
        "id": "a6WpGRahImsA",
        "colab_type": "code",
        "colab": {}
      },
      "source": [
        "df.drop('col_mean', inplace=True)"
      ],
      "execution_count": null,
      "outputs": []
    },
    {
      "cell_type": "code",
      "metadata": {
        "id": "BWcSee_MHSk9",
        "colab_type": "code",
        "colab": {
          "base_uri": "https://localhost:8080/",
          "height": 390
        },
        "outputId": "56b25a82-c7ff-406a-997d-7cc10c66934a"
      },
      "source": [
        "create_mean_row(df)"
      ],
      "execution_count": null,
      "outputs": [
        {
          "output_type": "execute_result",
          "data": {
            "text/html": [
              "<div>\n",
              "<style scoped>\n",
              "    .dataframe tbody tr th:only-of-type {\n",
              "        vertical-align: middle;\n",
              "    }\n",
              "\n",
              "    .dataframe tbody tr th {\n",
              "        vertical-align: top;\n",
              "    }\n",
              "\n",
              "    .dataframe thead th {\n",
              "        text-align: right;\n",
              "    }\n",
              "</style>\n",
              "<table border=\"1\" class=\"dataframe\">\n",
              "  <thead>\n",
              "    <tr style=\"text-align: right;\">\n",
              "      <th></th>\n",
              "      <th>Mass</th>\n",
              "      <th>Diameter</th>\n",
              "    </tr>\n",
              "  </thead>\n",
              "  <tbody>\n",
              "    <tr>\n",
              "      <th>Earth</th>\n",
              "      <td>5.970000</td>\n",
              "      <td>12756.0</td>\n",
              "    </tr>\n",
              "    <tr>\n",
              "      <th>Jupiter</th>\n",
              "      <td>1898.000000</td>\n",
              "      <td>142984.0</td>\n",
              "    </tr>\n",
              "    <tr>\n",
              "      <th>Mars</th>\n",
              "      <td>0.642000</td>\n",
              "      <td>6794.0</td>\n",
              "    </tr>\n",
              "    <tr>\n",
              "      <th>Moon</th>\n",
              "      <td>NaN</td>\n",
              "      <td>3475.0</td>\n",
              "    </tr>\n",
              "    <tr>\n",
              "      <th>Murcury</th>\n",
              "      <td>0.330000</td>\n",
              "      <td>4878.0</td>\n",
              "    </tr>\n",
              "    <tr>\n",
              "      <th>Neptune</th>\n",
              "      <td>102.000000</td>\n",
              "      <td>49532.0</td>\n",
              "    </tr>\n",
              "    <tr>\n",
              "      <th>Pluto</th>\n",
              "      <td>0.146000</td>\n",
              "      <td>2370.0</td>\n",
              "    </tr>\n",
              "    <tr>\n",
              "      <th>Saturn</th>\n",
              "      <td>568.000000</td>\n",
              "      <td>120536.0</td>\n",
              "    </tr>\n",
              "    <tr>\n",
              "      <th>Uranus</th>\n",
              "      <td>86.800000</td>\n",
              "      <td>51118.0</td>\n",
              "    </tr>\n",
              "    <tr>\n",
              "      <th>Venus</th>\n",
              "      <td>4.870000</td>\n",
              "      <td>12104.0</td>\n",
              "    </tr>\n",
              "    <tr>\n",
              "      <th>Col_Mean</th>\n",
              "      <td>296.306444</td>\n",
              "      <td>40654.7</td>\n",
              "    </tr>\n",
              "  </tbody>\n",
              "</table>\n",
              "</div>"
            ],
            "text/plain": [
              "                 Mass  Diameter\n",
              "Earth        5.970000   12756.0\n",
              "Jupiter   1898.000000  142984.0\n",
              "Mars         0.642000    6794.0\n",
              "Moon              NaN    3475.0\n",
              "Murcury      0.330000    4878.0\n",
              "Neptune    102.000000   49532.0\n",
              "Pluto        0.146000    2370.0\n",
              "Saturn     568.000000  120536.0\n",
              "Uranus      86.800000   51118.0\n",
              "Venus        4.870000   12104.0\n",
              "Col_Mean   296.306444   40654.7"
            ]
          },
          "metadata": {
            "tags": []
          },
          "execution_count": 51
        }
      ]
    },
    {
      "cell_type": "code",
      "metadata": {
        "id": "tuz-EMAZIcHD",
        "colab_type": "code",
        "colab": {}
      },
      "source": [
        "df = create_df(5, 3)"
      ],
      "execution_count": null,
      "outputs": []
    },
    {
      "cell_type": "code",
      "metadata": {
        "id": "hxqgnlT2JueR",
        "colab_type": "code",
        "colab": {
          "base_uri": "https://localhost:8080/",
          "height": 204
        },
        "outputId": "e99db44f-e061-48ba-f1b5-bdacb4954f36"
      },
      "source": [
        "df"
      ],
      "execution_count": null,
      "outputs": [
        {
          "output_type": "execute_result",
          "data": {
            "text/html": [
              "<div>\n",
              "<style scoped>\n",
              "    .dataframe tbody tr th:only-of-type {\n",
              "        vertical-align: middle;\n",
              "    }\n",
              "\n",
              "    .dataframe tbody tr th {\n",
              "        vertical-align: top;\n",
              "    }\n",
              "\n",
              "    .dataframe thead th {\n",
              "        text-align: right;\n",
              "    }\n",
              "</style>\n",
              "<table border=\"1\" class=\"dataframe\">\n",
              "  <thead>\n",
              "    <tr style=\"text-align: right;\">\n",
              "      <th></th>\n",
              "      <th>C1</th>\n",
              "      <th>C2</th>\n",
              "      <th>C3</th>\n",
              "    </tr>\n",
              "  </thead>\n",
              "  <tbody>\n",
              "    <tr>\n",
              "      <th>R1</th>\n",
              "      <td>6</td>\n",
              "      <td>4</td>\n",
              "      <td>3</td>\n",
              "    </tr>\n",
              "    <tr>\n",
              "      <th>R2</th>\n",
              "      <td>0</td>\n",
              "      <td>0</td>\n",
              "      <td>8</td>\n",
              "    </tr>\n",
              "    <tr>\n",
              "      <th>R3</th>\n",
              "      <td>0</td>\n",
              "      <td>1</td>\n",
              "      <td>8</td>\n",
              "    </tr>\n",
              "    <tr>\n",
              "      <th>R4</th>\n",
              "      <td>4</td>\n",
              "      <td>5</td>\n",
              "      <td>1</td>\n",
              "    </tr>\n",
              "    <tr>\n",
              "      <th>R5</th>\n",
              "      <td>8</td>\n",
              "      <td>9</td>\n",
              "      <td>1</td>\n",
              "    </tr>\n",
              "  </tbody>\n",
              "</table>\n",
              "</div>"
            ],
            "text/plain": [
              "    C1  C2  C3\n",
              "R1   6   4   3\n",
              "R2   0   0   8\n",
              "R3   0   1   8\n",
              "R4   4   5   1\n",
              "R5   8   9   1"
            ]
          },
          "metadata": {
            "tags": []
          },
          "execution_count": 53
        }
      ]
    },
    {
      "cell_type": "code",
      "metadata": {
        "id": "Jixr_m2BJvDp",
        "colab_type": "code",
        "colab": {
          "base_uri": "https://localhost:8080/",
          "height": 85
        },
        "outputId": "f5c42be9-1ce1-4fb0-fd63-96fd1d997e8a"
      },
      "source": [
        "df.mean()  # Column wise mean"
      ],
      "execution_count": null,
      "outputs": [
        {
          "output_type": "execute_result",
          "data": {
            "text/plain": [
              "C1    3.6\n",
              "C2    3.8\n",
              "C3    4.2\n",
              "dtype: float64"
            ]
          },
          "metadata": {
            "tags": []
          },
          "execution_count": 54
        }
      ]
    },
    {
      "cell_type": "code",
      "metadata": {
        "id": "xW1XG2pVJw-H",
        "colab_type": "code",
        "colab": {
          "base_uri": "https://localhost:8080/",
          "height": 119
        },
        "outputId": "a2140986-f940-4f13-e022-e601941c8b10"
      },
      "source": [
        "df.mean(axis = 1)  # Row wise mean"
      ],
      "execution_count": null,
      "outputs": [
        {
          "output_type": "execute_result",
          "data": {
            "text/plain": [
              "R1    4.333333\n",
              "R2    2.666667\n",
              "R3    3.000000\n",
              "R4    3.333333\n",
              "R5    6.000000\n",
              "dtype: float64"
            ]
          },
          "metadata": {
            "tags": []
          },
          "execution_count": 55
        }
      ]
    },
    {
      "cell_type": "code",
      "metadata": {
        "id": "-XChXHD4KFJn",
        "colab_type": "code",
        "colab": {}
      },
      "source": [
        "# Can add a row in the dataframe\n",
        "df['Row_Mean'] = df.mean(axis=1)"
      ],
      "execution_count": null,
      "outputs": []
    },
    {
      "cell_type": "code",
      "metadata": {
        "id": "oTgyh86MKbdN",
        "colab_type": "code",
        "colab": {
          "base_uri": "https://localhost:8080/",
          "height": 204
        },
        "outputId": "157246a8-0291-48ac-adae-546b205ba334"
      },
      "source": [
        "df"
      ],
      "execution_count": null,
      "outputs": [
        {
          "output_type": "execute_result",
          "data": {
            "text/html": [
              "<div>\n",
              "<style scoped>\n",
              "    .dataframe tbody tr th:only-of-type {\n",
              "        vertical-align: middle;\n",
              "    }\n",
              "\n",
              "    .dataframe tbody tr th {\n",
              "        vertical-align: top;\n",
              "    }\n",
              "\n",
              "    .dataframe thead th {\n",
              "        text-align: right;\n",
              "    }\n",
              "</style>\n",
              "<table border=\"1\" class=\"dataframe\">\n",
              "  <thead>\n",
              "    <tr style=\"text-align: right;\">\n",
              "      <th></th>\n",
              "      <th>C1</th>\n",
              "      <th>C2</th>\n",
              "      <th>C3</th>\n",
              "      <th>Row_Mean</th>\n",
              "    </tr>\n",
              "  </thead>\n",
              "  <tbody>\n",
              "    <tr>\n",
              "      <th>R1</th>\n",
              "      <td>6</td>\n",
              "      <td>4</td>\n",
              "      <td>3</td>\n",
              "      <td>4.333333</td>\n",
              "    </tr>\n",
              "    <tr>\n",
              "      <th>R2</th>\n",
              "      <td>0</td>\n",
              "      <td>0</td>\n",
              "      <td>8</td>\n",
              "      <td>2.666667</td>\n",
              "    </tr>\n",
              "    <tr>\n",
              "      <th>R3</th>\n",
              "      <td>0</td>\n",
              "      <td>1</td>\n",
              "      <td>8</td>\n",
              "      <td>3.000000</td>\n",
              "    </tr>\n",
              "    <tr>\n",
              "      <th>R4</th>\n",
              "      <td>4</td>\n",
              "      <td>5</td>\n",
              "      <td>1</td>\n",
              "      <td>3.333333</td>\n",
              "    </tr>\n",
              "    <tr>\n",
              "      <th>R5</th>\n",
              "      <td>8</td>\n",
              "      <td>9</td>\n",
              "      <td>1</td>\n",
              "      <td>6.000000</td>\n",
              "    </tr>\n",
              "  </tbody>\n",
              "</table>\n",
              "</div>"
            ],
            "text/plain": [
              "    C1  C2  C3  Row_Mean\n",
              "R1   6   4   3  4.333333\n",
              "R2   0   0   8  2.666667\n",
              "R3   0   1   8  3.000000\n",
              "R4   4   5   1  3.333333\n",
              "R5   8   9   1  6.000000"
            ]
          },
          "metadata": {
            "tags": []
          },
          "execution_count": 57
        }
      ]
    },
    {
      "cell_type": "code",
      "metadata": {
        "id": "em58hPCqKcIL",
        "colab_type": "code",
        "colab": {}
      },
      "source": [
        "df['Col_Mean'] = df.mean()"
      ],
      "execution_count": null,
      "outputs": []
    },
    {
      "cell_type": "code",
      "metadata": {
        "id": "KniJdsL8KnZL",
        "colab_type": "code",
        "colab": {}
      },
      "source": [
        "df.drop('Col_Mean',axis = 1,  inplace=True)"
      ],
      "execution_count": null,
      "outputs": []
    },
    {
      "cell_type": "code",
      "metadata": {
        "id": "MvU312AcKoCK",
        "colab_type": "code",
        "colab": {}
      },
      "source": [
        "df.loc['Col_Mean'] = df.mean()"
      ],
      "execution_count": null,
      "outputs": []
    },
    {
      "cell_type": "code",
      "metadata": {
        "id": "HzDlJXcUK2-1",
        "colab_type": "code",
        "colab": {
          "base_uri": "https://localhost:8080/",
          "height": 235
        },
        "outputId": "61535c7d-3f17-458c-b747-f38e5da8ae66"
      },
      "source": [
        "df"
      ],
      "execution_count": null,
      "outputs": [
        {
          "output_type": "execute_result",
          "data": {
            "text/html": [
              "<div>\n",
              "<style scoped>\n",
              "    .dataframe tbody tr th:only-of-type {\n",
              "        vertical-align: middle;\n",
              "    }\n",
              "\n",
              "    .dataframe tbody tr th {\n",
              "        vertical-align: top;\n",
              "    }\n",
              "\n",
              "    .dataframe thead th {\n",
              "        text-align: right;\n",
              "    }\n",
              "</style>\n",
              "<table border=\"1\" class=\"dataframe\">\n",
              "  <thead>\n",
              "    <tr style=\"text-align: right;\">\n",
              "      <th></th>\n",
              "      <th>C1</th>\n",
              "      <th>C2</th>\n",
              "      <th>C3</th>\n",
              "      <th>Row_Mean</th>\n",
              "    </tr>\n",
              "  </thead>\n",
              "  <tbody>\n",
              "    <tr>\n",
              "      <th>R1</th>\n",
              "      <td>6.0</td>\n",
              "      <td>4.0</td>\n",
              "      <td>3.0</td>\n",
              "      <td>4.333333</td>\n",
              "    </tr>\n",
              "    <tr>\n",
              "      <th>R2</th>\n",
              "      <td>0.0</td>\n",
              "      <td>0.0</td>\n",
              "      <td>8.0</td>\n",
              "      <td>2.666667</td>\n",
              "    </tr>\n",
              "    <tr>\n",
              "      <th>R3</th>\n",
              "      <td>0.0</td>\n",
              "      <td>1.0</td>\n",
              "      <td>8.0</td>\n",
              "      <td>3.000000</td>\n",
              "    </tr>\n",
              "    <tr>\n",
              "      <th>R4</th>\n",
              "      <td>4.0</td>\n",
              "      <td>5.0</td>\n",
              "      <td>1.0</td>\n",
              "      <td>3.333333</td>\n",
              "    </tr>\n",
              "    <tr>\n",
              "      <th>R5</th>\n",
              "      <td>8.0</td>\n",
              "      <td>9.0</td>\n",
              "      <td>1.0</td>\n",
              "      <td>6.000000</td>\n",
              "    </tr>\n",
              "    <tr>\n",
              "      <th>Col_Mean</th>\n",
              "      <td>3.6</td>\n",
              "      <td>3.8</td>\n",
              "      <td>4.2</td>\n",
              "      <td>3.866667</td>\n",
              "    </tr>\n",
              "  </tbody>\n",
              "</table>\n",
              "</div>"
            ],
            "text/plain": [
              "           C1   C2   C3  Row_Mean\n",
              "R1        6.0  4.0  3.0  4.333333\n",
              "R2        0.0  0.0  8.0  2.666667\n",
              "R3        0.0  1.0  8.0  3.000000\n",
              "R4        4.0  5.0  1.0  3.333333\n",
              "R5        8.0  9.0  1.0  6.000000\n",
              "Col_Mean  3.6  3.8  4.2  3.866667"
            ]
          },
          "metadata": {
            "tags": []
          },
          "execution_count": 61
        }
      ]
    },
    {
      "cell_type": "code",
      "metadata": {
        "id": "LskA5cGgLU4G",
        "colab_type": "code",
        "colab": {
          "base_uri": "https://localhost:8080/",
          "height": 102
        },
        "outputId": "81bae603-6479-4876-d889-e4087f2ffabc"
      },
      "source": [
        "df.median()"
      ],
      "execution_count": null,
      "outputs": [
        {
          "output_type": "execute_result",
          "data": {
            "text/plain": [
              "C1          3.8\n",
              "C2          3.9\n",
              "C3          3.6\n",
              "Row_Mean    3.6\n",
              "dtype: float64"
            ]
          },
          "metadata": {
            "tags": []
          },
          "execution_count": 62
        }
      ]
    },
    {
      "cell_type": "code",
      "metadata": {
        "id": "NXhtzRlvLbs_",
        "colab_type": "code",
        "colab": {
          "base_uri": "https://localhost:8080/",
          "height": 102
        },
        "outputId": "8e4d6cb4-4faf-43d6-82d0-ca16e44c3fd5"
      },
      "source": [
        "df.min()"
      ],
      "execution_count": null,
      "outputs": [
        {
          "output_type": "execute_result",
          "data": {
            "text/plain": [
              "C1          0.000000\n",
              "C2          0.000000\n",
              "C3          1.000000\n",
              "Row_Mean    2.666667\n",
              "dtype: float64"
            ]
          },
          "metadata": {
            "tags": []
          },
          "execution_count": 63
        }
      ]
    },
    {
      "cell_type": "code",
      "metadata": {
        "id": "6Ic3p9ucLdDM",
        "colab_type": "code",
        "colab": {
          "base_uri": "https://localhost:8080/",
          "height": 102
        },
        "outputId": "2a32b1bf-2508-4a60-b0e4-6a69ba0ed114"
      },
      "source": [
        "df.max()"
      ],
      "execution_count": null,
      "outputs": [
        {
          "output_type": "execute_result",
          "data": {
            "text/plain": [
              "C1          8.0\n",
              "C2          9.0\n",
              "C3          8.0\n",
              "Row_Mean    6.0\n",
              "dtype: float64"
            ]
          },
          "metadata": {
            "tags": []
          },
          "execution_count": 64
        }
      ]
    },
    {
      "cell_type": "code",
      "metadata": {
        "id": "q8JBgDwXLd8-",
        "colab_type": "code",
        "colab": {
          "base_uri": "https://localhost:8080/",
          "height": 102
        },
        "outputId": "ae5ae18e-c170-471d-98a9-c9c9acd506a2"
      },
      "source": [
        "df.quantile(0.25)"
      ],
      "execution_count": null,
      "outputs": [
        {
          "output_type": "execute_result",
          "data": {
            "text/plain": [
              "C1          0.900000\n",
              "C2          1.700000\n",
              "C3          1.500000\n",
              "Row_Mean    3.083333\n",
              "Name: 0.25, dtype: float64"
            ]
          },
          "metadata": {
            "tags": []
          },
          "execution_count": 65
        }
      ]
    },
    {
      "cell_type": "code",
      "metadata": {
        "id": "sU2AScYWLhkt",
        "colab_type": "code",
        "colab": {}
      },
      "source": [
        "df.drop('Row_Mean', axis = 1, inplace=True)"
      ],
      "execution_count": null,
      "outputs": []
    },
    {
      "cell_type": "code",
      "metadata": {
        "id": "74sKFqq0Lvxw",
        "colab_type": "code",
        "colab": {
          "base_uri": "https://localhost:8080/",
          "height": 297
        },
        "outputId": "5da4c3e9-faad-4b8e-b989-79800d303428"
      },
      "source": [
        "# We can get many statistical values with a simple function\n",
        "df.describe()"
      ],
      "execution_count": null,
      "outputs": [
        {
          "output_type": "execute_result",
          "data": {
            "text/html": [
              "<div>\n",
              "<style scoped>\n",
              "    .dataframe tbody tr th:only-of-type {\n",
              "        vertical-align: middle;\n",
              "    }\n",
              "\n",
              "    .dataframe tbody tr th {\n",
              "        vertical-align: top;\n",
              "    }\n",
              "\n",
              "    .dataframe thead th {\n",
              "        text-align: right;\n",
              "    }\n",
              "</style>\n",
              "<table border=\"1\" class=\"dataframe\">\n",
              "  <thead>\n",
              "    <tr style=\"text-align: right;\">\n",
              "      <th></th>\n",
              "      <th>C1</th>\n",
              "      <th>C2</th>\n",
              "      <th>C3</th>\n",
              "    </tr>\n",
              "  </thead>\n",
              "  <tbody>\n",
              "    <tr>\n",
              "      <th>count</th>\n",
              "      <td>6.0</td>\n",
              "      <td>6.000000</td>\n",
              "      <td>6.000000</td>\n",
              "    </tr>\n",
              "    <tr>\n",
              "      <th>mean</th>\n",
              "      <td>3.6</td>\n",
              "      <td>3.800000</td>\n",
              "      <td>4.200000</td>\n",
              "    </tr>\n",
              "    <tr>\n",
              "      <th>std</th>\n",
              "      <td>3.2</td>\n",
              "      <td>3.187475</td>\n",
              "      <td>3.187475</td>\n",
              "    </tr>\n",
              "    <tr>\n",
              "      <th>min</th>\n",
              "      <td>0.0</td>\n",
              "      <td>0.000000</td>\n",
              "      <td>1.000000</td>\n",
              "    </tr>\n",
              "    <tr>\n",
              "      <th>25%</th>\n",
              "      <td>0.9</td>\n",
              "      <td>1.700000</td>\n",
              "      <td>1.500000</td>\n",
              "    </tr>\n",
              "    <tr>\n",
              "      <th>50%</th>\n",
              "      <td>3.8</td>\n",
              "      <td>3.900000</td>\n",
              "      <td>3.600000</td>\n",
              "    </tr>\n",
              "    <tr>\n",
              "      <th>75%</th>\n",
              "      <td>5.5</td>\n",
              "      <td>4.750000</td>\n",
              "      <td>7.050000</td>\n",
              "    </tr>\n",
              "    <tr>\n",
              "      <th>max</th>\n",
              "      <td>8.0</td>\n",
              "      <td>9.000000</td>\n",
              "      <td>8.000000</td>\n",
              "    </tr>\n",
              "  </tbody>\n",
              "</table>\n",
              "</div>"
            ],
            "text/plain": [
              "        C1        C2        C3\n",
              "count  6.0  6.000000  6.000000\n",
              "mean   3.6  3.800000  4.200000\n",
              "std    3.2  3.187475  3.187475\n",
              "min    0.0  0.000000  1.000000\n",
              "25%    0.9  1.700000  1.500000\n",
              "50%    3.8  3.900000  3.600000\n",
              "75%    5.5  4.750000  7.050000\n",
              "max    8.0  9.000000  8.000000"
            ]
          },
          "metadata": {
            "tags": []
          },
          "execution_count": 67
        }
      ]
    },
    {
      "cell_type": "code",
      "metadata": {
        "id": "5pxQAfGDMH8Z",
        "colab_type": "code",
        "colab": {}
      },
      "source": [
        "import numpy as np\n",
        "import pandas as pd\n",
        "import seaborn as sns"
      ],
      "execution_count": null,
      "outputs": []
    },
    {
      "cell_type": "code",
      "metadata": {
        "id": "zaGnErRsVIuj",
        "colab_type": "code",
        "colab": {}
      },
      "source": [
        "df = sns.load_dataset('planets')"
      ],
      "execution_count": null,
      "outputs": []
    },
    {
      "cell_type": "code",
      "metadata": {
        "id": "1lCwEZFqYDwD",
        "colab_type": "code",
        "colab": {
          "base_uri": "https://localhost:8080/",
          "height": 238
        },
        "outputId": "73f124a4-62ee-4574-fe62-67680064a097"
      },
      "source": [
        "df.info()"
      ],
      "execution_count": null,
      "outputs": [
        {
          "output_type": "stream",
          "text": [
            "<class 'pandas.core.frame.DataFrame'>\n",
            "RangeIndex: 1035 entries, 0 to 1034\n",
            "Data columns (total 6 columns):\n",
            " #   Column          Non-Null Count  Dtype  \n",
            "---  ------          --------------  -----  \n",
            " 0   method          1035 non-null   object \n",
            " 1   number          1035 non-null   int64  \n",
            " 2   orbital_period  992 non-null    float64\n",
            " 3   mass            513 non-null    float64\n",
            " 4   distance        808 non-null    float64\n",
            " 5   year            1035 non-null   int64  \n",
            "dtypes: float64(3), int64(2), object(1)\n",
            "memory usage: 48.6+ KB\n"
          ],
          "name": "stdout"
        }
      ]
    },
    {
      "cell_type": "code",
      "metadata": {
        "id": "saOlRCbWYFiB",
        "colab_type": "code",
        "colab": {
          "base_uri": "https://localhost:8080/",
          "height": 204
        },
        "outputId": "2f732a80-bd66-4f59-c378-293f8594de08"
      },
      "source": [
        "df.head()"
      ],
      "execution_count": null,
      "outputs": [
        {
          "output_type": "execute_result",
          "data": {
            "text/html": [
              "<div>\n",
              "<style scoped>\n",
              "    .dataframe tbody tr th:only-of-type {\n",
              "        vertical-align: middle;\n",
              "    }\n",
              "\n",
              "    .dataframe tbody tr th {\n",
              "        vertical-align: top;\n",
              "    }\n",
              "\n",
              "    .dataframe thead th {\n",
              "        text-align: right;\n",
              "    }\n",
              "</style>\n",
              "<table border=\"1\" class=\"dataframe\">\n",
              "  <thead>\n",
              "    <tr style=\"text-align: right;\">\n",
              "      <th></th>\n",
              "      <th>method</th>\n",
              "      <th>number</th>\n",
              "      <th>orbital_period</th>\n",
              "      <th>mass</th>\n",
              "      <th>distance</th>\n",
              "      <th>year</th>\n",
              "    </tr>\n",
              "  </thead>\n",
              "  <tbody>\n",
              "    <tr>\n",
              "      <th>0</th>\n",
              "      <td>Radial Velocity</td>\n",
              "      <td>1</td>\n",
              "      <td>269.300</td>\n",
              "      <td>7.10</td>\n",
              "      <td>77.40</td>\n",
              "      <td>2006</td>\n",
              "    </tr>\n",
              "    <tr>\n",
              "      <th>1</th>\n",
              "      <td>Radial Velocity</td>\n",
              "      <td>1</td>\n",
              "      <td>874.774</td>\n",
              "      <td>2.21</td>\n",
              "      <td>56.95</td>\n",
              "      <td>2008</td>\n",
              "    </tr>\n",
              "    <tr>\n",
              "      <th>2</th>\n",
              "      <td>Radial Velocity</td>\n",
              "      <td>1</td>\n",
              "      <td>763.000</td>\n",
              "      <td>2.60</td>\n",
              "      <td>19.84</td>\n",
              "      <td>2011</td>\n",
              "    </tr>\n",
              "    <tr>\n",
              "      <th>3</th>\n",
              "      <td>Radial Velocity</td>\n",
              "      <td>1</td>\n",
              "      <td>326.030</td>\n",
              "      <td>19.40</td>\n",
              "      <td>110.62</td>\n",
              "      <td>2007</td>\n",
              "    </tr>\n",
              "    <tr>\n",
              "      <th>4</th>\n",
              "      <td>Radial Velocity</td>\n",
              "      <td>1</td>\n",
              "      <td>516.220</td>\n",
              "      <td>10.50</td>\n",
              "      <td>119.47</td>\n",
              "      <td>2009</td>\n",
              "    </tr>\n",
              "  </tbody>\n",
              "</table>\n",
              "</div>"
            ],
            "text/plain": [
              "            method  number  orbital_period   mass  distance  year\n",
              "0  Radial Velocity       1         269.300   7.10     77.40  2006\n",
              "1  Radial Velocity       1         874.774   2.21     56.95  2008\n",
              "2  Radial Velocity       1         763.000   2.60     19.84  2011\n",
              "3  Radial Velocity       1         326.030  19.40    110.62  2007\n",
              "4  Radial Velocity       1         516.220  10.50    119.47  2009"
            ]
          },
          "metadata": {
            "tags": []
          },
          "execution_count": 81
        }
      ]
    },
    {
      "cell_type": "code",
      "metadata": {
        "id": "9dfGrfk49WJG",
        "colab_type": "code",
        "colab": {
          "base_uri": "https://localhost:8080/",
          "height": 297
        },
        "outputId": "c2500ff4-6d86-481d-9c00-b1b9499c008a"
      },
      "source": [
        "df.describe()"
      ],
      "execution_count": null,
      "outputs": [
        {
          "output_type": "execute_result",
          "data": {
            "text/html": [
              "<div>\n",
              "<style scoped>\n",
              "    .dataframe tbody tr th:only-of-type {\n",
              "        vertical-align: middle;\n",
              "    }\n",
              "\n",
              "    .dataframe tbody tr th {\n",
              "        vertical-align: top;\n",
              "    }\n",
              "\n",
              "    .dataframe thead th {\n",
              "        text-align: right;\n",
              "    }\n",
              "</style>\n",
              "<table border=\"1\" class=\"dataframe\">\n",
              "  <thead>\n",
              "    <tr style=\"text-align: right;\">\n",
              "      <th></th>\n",
              "      <th>number</th>\n",
              "      <th>orbital_period</th>\n",
              "      <th>mass</th>\n",
              "      <th>distance</th>\n",
              "      <th>year</th>\n",
              "    </tr>\n",
              "  </thead>\n",
              "  <tbody>\n",
              "    <tr>\n",
              "      <th>count</th>\n",
              "      <td>1035.000000</td>\n",
              "      <td>992.000000</td>\n",
              "      <td>513.000000</td>\n",
              "      <td>808.000000</td>\n",
              "      <td>1035.000000</td>\n",
              "    </tr>\n",
              "    <tr>\n",
              "      <th>mean</th>\n",
              "      <td>1.785507</td>\n",
              "      <td>2002.917596</td>\n",
              "      <td>2.638161</td>\n",
              "      <td>264.069282</td>\n",
              "      <td>2009.070531</td>\n",
              "    </tr>\n",
              "    <tr>\n",
              "      <th>std</th>\n",
              "      <td>1.240976</td>\n",
              "      <td>26014.728304</td>\n",
              "      <td>3.818617</td>\n",
              "      <td>733.116493</td>\n",
              "      <td>3.972567</td>\n",
              "    </tr>\n",
              "    <tr>\n",
              "      <th>min</th>\n",
              "      <td>1.000000</td>\n",
              "      <td>0.090706</td>\n",
              "      <td>0.003600</td>\n",
              "      <td>1.350000</td>\n",
              "      <td>1989.000000</td>\n",
              "    </tr>\n",
              "    <tr>\n",
              "      <th>25%</th>\n",
              "      <td>1.000000</td>\n",
              "      <td>5.442540</td>\n",
              "      <td>0.229000</td>\n",
              "      <td>32.560000</td>\n",
              "      <td>2007.000000</td>\n",
              "    </tr>\n",
              "    <tr>\n",
              "      <th>50%</th>\n",
              "      <td>1.000000</td>\n",
              "      <td>39.979500</td>\n",
              "      <td>1.260000</td>\n",
              "      <td>55.250000</td>\n",
              "      <td>2010.000000</td>\n",
              "    </tr>\n",
              "    <tr>\n",
              "      <th>75%</th>\n",
              "      <td>2.000000</td>\n",
              "      <td>526.005000</td>\n",
              "      <td>3.040000</td>\n",
              "      <td>178.500000</td>\n",
              "      <td>2012.000000</td>\n",
              "    </tr>\n",
              "    <tr>\n",
              "      <th>max</th>\n",
              "      <td>7.000000</td>\n",
              "      <td>730000.000000</td>\n",
              "      <td>25.000000</td>\n",
              "      <td>8500.000000</td>\n",
              "      <td>2014.000000</td>\n",
              "    </tr>\n",
              "  </tbody>\n",
              "</table>\n",
              "</div>"
            ],
            "text/plain": [
              "            number  orbital_period        mass     distance         year\n",
              "count  1035.000000      992.000000  513.000000   808.000000  1035.000000\n",
              "mean      1.785507     2002.917596    2.638161   264.069282  2009.070531\n",
              "std       1.240976    26014.728304    3.818617   733.116493     3.972567\n",
              "min       1.000000        0.090706    0.003600     1.350000  1989.000000\n",
              "25%       1.000000        5.442540    0.229000    32.560000  2007.000000\n",
              "50%       1.000000       39.979500    1.260000    55.250000  2010.000000\n",
              "75%       2.000000      526.005000    3.040000   178.500000  2012.000000\n",
              "max       7.000000   730000.000000   25.000000  8500.000000  2014.000000"
            ]
          },
          "metadata": {
            "tags": []
          },
          "execution_count": 82
        }
      ]
    },
    {
      "cell_type": "markdown",
      "metadata": {
        "id": "oZ2dpqhk-fAE",
        "colab_type": "text"
      },
      "source": [
        "# Data Cleaning\n",
        "\n",
        "Go through each row of the dataset and delete it(drop) if any column is null"
      ]
    },
    {
      "cell_type": "code",
      "metadata": {
        "id": "BdDJc3j6929j",
        "colab_type": "code",
        "colab": {}
      },
      "source": [
        "for r in df.index:\n",
        "    for c in df.columns:\n",
        "        if pd.isnull(df.loc[r, c]):\n",
        "            df.drop(r, inplace=True)\n",
        "            break"
      ],
      "execution_count": null,
      "outputs": []
    },
    {
      "cell_type": "code",
      "metadata": {
        "id": "VaTqrQF5OnXs",
        "colab_type": "code",
        "colab": {
          "base_uri": "https://localhost:8080/",
          "height": 297
        },
        "outputId": "b15af96d-3ec5-4842-a295-5d60ece765a0"
      },
      "source": [
        "df.describe()"
      ],
      "execution_count": null,
      "outputs": [
        {
          "output_type": "execute_result",
          "data": {
            "text/html": [
              "<div>\n",
              "<style scoped>\n",
              "    .dataframe tbody tr th:only-of-type {\n",
              "        vertical-align: middle;\n",
              "    }\n",
              "\n",
              "    .dataframe tbody tr th {\n",
              "        vertical-align: top;\n",
              "    }\n",
              "\n",
              "    .dataframe thead th {\n",
              "        text-align: right;\n",
              "    }\n",
              "</style>\n",
              "<table border=\"1\" class=\"dataframe\">\n",
              "  <thead>\n",
              "    <tr style=\"text-align: right;\">\n",
              "      <th></th>\n",
              "      <th>number</th>\n",
              "      <th>orbital_period</th>\n",
              "      <th>mass</th>\n",
              "      <th>distance</th>\n",
              "      <th>year</th>\n",
              "    </tr>\n",
              "  </thead>\n",
              "  <tbody>\n",
              "    <tr>\n",
              "      <th>count</th>\n",
              "      <td>498.00000</td>\n",
              "      <td>498.000000</td>\n",
              "      <td>498.000000</td>\n",
              "      <td>498.000000</td>\n",
              "      <td>498.000000</td>\n",
              "    </tr>\n",
              "    <tr>\n",
              "      <th>mean</th>\n",
              "      <td>1.73494</td>\n",
              "      <td>835.778671</td>\n",
              "      <td>2.509320</td>\n",
              "      <td>52.068213</td>\n",
              "      <td>2007.377510</td>\n",
              "    </tr>\n",
              "    <tr>\n",
              "      <th>std</th>\n",
              "      <td>1.17572</td>\n",
              "      <td>1469.128259</td>\n",
              "      <td>3.636274</td>\n",
              "      <td>46.596041</td>\n",
              "      <td>4.167284</td>\n",
              "    </tr>\n",
              "    <tr>\n",
              "      <th>min</th>\n",
              "      <td>1.00000</td>\n",
              "      <td>1.328300</td>\n",
              "      <td>0.003600</td>\n",
              "      <td>1.350000</td>\n",
              "      <td>1989.000000</td>\n",
              "    </tr>\n",
              "    <tr>\n",
              "      <th>25%</th>\n",
              "      <td>1.00000</td>\n",
              "      <td>38.272250</td>\n",
              "      <td>0.212500</td>\n",
              "      <td>24.497500</td>\n",
              "      <td>2005.000000</td>\n",
              "    </tr>\n",
              "    <tr>\n",
              "      <th>50%</th>\n",
              "      <td>1.00000</td>\n",
              "      <td>357.000000</td>\n",
              "      <td>1.245000</td>\n",
              "      <td>39.940000</td>\n",
              "      <td>2009.000000</td>\n",
              "    </tr>\n",
              "    <tr>\n",
              "      <th>75%</th>\n",
              "      <td>2.00000</td>\n",
              "      <td>999.600000</td>\n",
              "      <td>2.867500</td>\n",
              "      <td>59.332500</td>\n",
              "      <td>2011.000000</td>\n",
              "    </tr>\n",
              "    <tr>\n",
              "      <th>max</th>\n",
              "      <td>6.00000</td>\n",
              "      <td>17337.500000</td>\n",
              "      <td>25.000000</td>\n",
              "      <td>354.000000</td>\n",
              "      <td>2014.000000</td>\n",
              "    </tr>\n",
              "  </tbody>\n",
              "</table>\n",
              "</div>"
            ],
            "text/plain": [
              "          number  orbital_period        mass    distance         year\n",
              "count  498.00000      498.000000  498.000000  498.000000   498.000000\n",
              "mean     1.73494      835.778671    2.509320   52.068213  2007.377510\n",
              "std      1.17572     1469.128259    3.636274   46.596041     4.167284\n",
              "min      1.00000        1.328300    0.003600    1.350000  1989.000000\n",
              "25%      1.00000       38.272250    0.212500   24.497500  2005.000000\n",
              "50%      1.00000      357.000000    1.245000   39.940000  2009.000000\n",
              "75%      2.00000      999.600000    2.867500   59.332500  2011.000000\n",
              "max      6.00000    17337.500000   25.000000  354.000000  2014.000000"
            ]
          },
          "metadata": {
            "tags": []
          },
          "execution_count": 84
        }
      ]
    },
    {
      "cell_type": "markdown",
      "metadata": {
        "id": "leB8C_RnQRfy",
        "colab_type": "text"
      },
      "source": [
        "We can do this previous code in a better way by using iterrows"
      ]
    },
    {
      "cell_type": "code",
      "metadata": {
        "id": "stdNYtxnTfJ5",
        "colab_type": "code",
        "colab": {}
      },
      "source": [
        "df = sns.load_dataset('planets')"
      ],
      "execution_count": null,
      "outputs": []
    },
    {
      "cell_type": "code",
      "metadata": {
        "id": "nFQIxO9TPPUT",
        "colab_type": "code",
        "colab": {
          "base_uri": "https://localhost:8080/",
          "height": 153
        },
        "outputId": "f05ce7dc-5890-4c6c-b2eb-c50573627650"
      },
      "source": [
        "for i, r in df.iterrows():\n",
        "    print(i)\n",
        "    print(r)\n",
        "    break"
      ],
      "execution_count": null,
      "outputs": [
        {
          "output_type": "stream",
          "text": [
            "0\n",
            "method            Radial Velocity\n",
            "number                          1\n",
            "orbital_period              269.3\n",
            "mass                          7.1\n",
            "distance                     77.4\n",
            "year                         2006\n",
            "Name: 0, dtype: object\n"
          ],
          "name": "stdout"
        }
      ]
    },
    {
      "cell_type": "code",
      "metadata": {
        "id": "XakM8SJdQdVS",
        "colab_type": "code",
        "colab": {}
      },
      "source": [
        "for i, r in df.iterrows():\n",
        "   if pd.isnull(r).any(): # if any of the value of a row is null then all values of the row returns null\n",
        "       df.drop(i, inplace=True) \n"
      ],
      "execution_count": null,
      "outputs": []
    },
    {
      "cell_type": "code",
      "metadata": {
        "id": "_Vm9k-BUTs_Z",
        "colab_type": "code",
        "colab": {
          "base_uri": "https://localhost:8080/",
          "height": 297
        },
        "outputId": "408c94e8-47f4-4627-ff8e-1f75eddbb016"
      },
      "source": [
        "df.describe()"
      ],
      "execution_count": null,
      "outputs": [
        {
          "output_type": "execute_result",
          "data": {
            "text/html": [
              "<div>\n",
              "<style scoped>\n",
              "    .dataframe tbody tr th:only-of-type {\n",
              "        vertical-align: middle;\n",
              "    }\n",
              "\n",
              "    .dataframe tbody tr th {\n",
              "        vertical-align: top;\n",
              "    }\n",
              "\n",
              "    .dataframe thead th {\n",
              "        text-align: right;\n",
              "    }\n",
              "</style>\n",
              "<table border=\"1\" class=\"dataframe\">\n",
              "  <thead>\n",
              "    <tr style=\"text-align: right;\">\n",
              "      <th></th>\n",
              "      <th>number</th>\n",
              "      <th>orbital_period</th>\n",
              "      <th>mass</th>\n",
              "      <th>distance</th>\n",
              "      <th>year</th>\n",
              "    </tr>\n",
              "  </thead>\n",
              "  <tbody>\n",
              "    <tr>\n",
              "      <th>count</th>\n",
              "      <td>498.00000</td>\n",
              "      <td>498.000000</td>\n",
              "      <td>498.000000</td>\n",
              "      <td>498.000000</td>\n",
              "      <td>498.000000</td>\n",
              "    </tr>\n",
              "    <tr>\n",
              "      <th>mean</th>\n",
              "      <td>1.73494</td>\n",
              "      <td>835.778671</td>\n",
              "      <td>2.509320</td>\n",
              "      <td>52.068213</td>\n",
              "      <td>2007.377510</td>\n",
              "    </tr>\n",
              "    <tr>\n",
              "      <th>std</th>\n",
              "      <td>1.17572</td>\n",
              "      <td>1469.128259</td>\n",
              "      <td>3.636274</td>\n",
              "      <td>46.596041</td>\n",
              "      <td>4.167284</td>\n",
              "    </tr>\n",
              "    <tr>\n",
              "      <th>min</th>\n",
              "      <td>1.00000</td>\n",
              "      <td>1.328300</td>\n",
              "      <td>0.003600</td>\n",
              "      <td>1.350000</td>\n",
              "      <td>1989.000000</td>\n",
              "    </tr>\n",
              "    <tr>\n",
              "      <th>25%</th>\n",
              "      <td>1.00000</td>\n",
              "      <td>38.272250</td>\n",
              "      <td>0.212500</td>\n",
              "      <td>24.497500</td>\n",
              "      <td>2005.000000</td>\n",
              "    </tr>\n",
              "    <tr>\n",
              "      <th>50%</th>\n",
              "      <td>1.00000</td>\n",
              "      <td>357.000000</td>\n",
              "      <td>1.245000</td>\n",
              "      <td>39.940000</td>\n",
              "      <td>2009.000000</td>\n",
              "    </tr>\n",
              "    <tr>\n",
              "      <th>75%</th>\n",
              "      <td>2.00000</td>\n",
              "      <td>999.600000</td>\n",
              "      <td>2.867500</td>\n",
              "      <td>59.332500</td>\n",
              "      <td>2011.000000</td>\n",
              "    </tr>\n",
              "    <tr>\n",
              "      <th>max</th>\n",
              "      <td>6.00000</td>\n",
              "      <td>17337.500000</td>\n",
              "      <td>25.000000</td>\n",
              "      <td>354.000000</td>\n",
              "      <td>2014.000000</td>\n",
              "    </tr>\n",
              "  </tbody>\n",
              "</table>\n",
              "</div>"
            ],
            "text/plain": [
              "          number  orbital_period        mass    distance         year\n",
              "count  498.00000      498.000000  498.000000  498.000000   498.000000\n",
              "mean     1.73494      835.778671    2.509320   52.068213  2007.377510\n",
              "std      1.17572     1469.128259    3.636274   46.596041     4.167284\n",
              "min      1.00000        1.328300    0.003600    1.350000  1989.000000\n",
              "25%      1.00000       38.272250    0.212500   24.497500  2005.000000\n",
              "50%      1.00000      357.000000    1.245000   39.940000  2009.000000\n",
              "75%      2.00000      999.600000    2.867500   59.332500  2011.000000\n",
              "max      6.00000    17337.500000   25.000000  354.000000  2014.000000"
            ]
          },
          "metadata": {
            "tags": []
          },
          "execution_count": 88
        }
      ]
    },
    {
      "cell_type": "code",
      "metadata": {
        "id": "t7jEXLpbUvdg",
        "colab_type": "code",
        "colab": {}
      },
      "source": [
        "df = sns.load_dataset('planets')"
      ],
      "execution_count": null,
      "outputs": []
    },
    {
      "cell_type": "code",
      "metadata": {
        "id": "ruUKoJxt3Q_-",
        "colab_type": "code",
        "colab": {
          "base_uri": "https://localhost:8080/",
          "height": 297
        },
        "outputId": "b41b4cef-8217-4107-e355-f26a439fc6a2"
      },
      "source": [
        "df.describe()"
      ],
      "execution_count": null,
      "outputs": [
        {
          "output_type": "execute_result",
          "data": {
            "text/html": [
              "<div>\n",
              "<style scoped>\n",
              "    .dataframe tbody tr th:only-of-type {\n",
              "        vertical-align: middle;\n",
              "    }\n",
              "\n",
              "    .dataframe tbody tr th {\n",
              "        vertical-align: top;\n",
              "    }\n",
              "\n",
              "    .dataframe thead th {\n",
              "        text-align: right;\n",
              "    }\n",
              "</style>\n",
              "<table border=\"1\" class=\"dataframe\">\n",
              "  <thead>\n",
              "    <tr style=\"text-align: right;\">\n",
              "      <th></th>\n",
              "      <th>number</th>\n",
              "      <th>orbital_period</th>\n",
              "      <th>mass</th>\n",
              "      <th>distance</th>\n",
              "      <th>year</th>\n",
              "    </tr>\n",
              "  </thead>\n",
              "  <tbody>\n",
              "    <tr>\n",
              "      <th>count</th>\n",
              "      <td>1035.000000</td>\n",
              "      <td>992.000000</td>\n",
              "      <td>513.000000</td>\n",
              "      <td>808.000000</td>\n",
              "      <td>1035.000000</td>\n",
              "    </tr>\n",
              "    <tr>\n",
              "      <th>mean</th>\n",
              "      <td>1.785507</td>\n",
              "      <td>2002.917596</td>\n",
              "      <td>2.638161</td>\n",
              "      <td>264.069282</td>\n",
              "      <td>2009.070531</td>\n",
              "    </tr>\n",
              "    <tr>\n",
              "      <th>std</th>\n",
              "      <td>1.240976</td>\n",
              "      <td>26014.728304</td>\n",
              "      <td>3.818617</td>\n",
              "      <td>733.116493</td>\n",
              "      <td>3.972567</td>\n",
              "    </tr>\n",
              "    <tr>\n",
              "      <th>min</th>\n",
              "      <td>1.000000</td>\n",
              "      <td>0.090706</td>\n",
              "      <td>0.003600</td>\n",
              "      <td>1.350000</td>\n",
              "      <td>1989.000000</td>\n",
              "    </tr>\n",
              "    <tr>\n",
              "      <th>25%</th>\n",
              "      <td>1.000000</td>\n",
              "      <td>5.442540</td>\n",
              "      <td>0.229000</td>\n",
              "      <td>32.560000</td>\n",
              "      <td>2007.000000</td>\n",
              "    </tr>\n",
              "    <tr>\n",
              "      <th>50%</th>\n",
              "      <td>1.000000</td>\n",
              "      <td>39.979500</td>\n",
              "      <td>1.260000</td>\n",
              "      <td>55.250000</td>\n",
              "      <td>2010.000000</td>\n",
              "    </tr>\n",
              "    <tr>\n",
              "      <th>75%</th>\n",
              "      <td>2.000000</td>\n",
              "      <td>526.005000</td>\n",
              "      <td>3.040000</td>\n",
              "      <td>178.500000</td>\n",
              "      <td>2012.000000</td>\n",
              "    </tr>\n",
              "    <tr>\n",
              "      <th>max</th>\n",
              "      <td>7.000000</td>\n",
              "      <td>730000.000000</td>\n",
              "      <td>25.000000</td>\n",
              "      <td>8500.000000</td>\n",
              "      <td>2014.000000</td>\n",
              "    </tr>\n",
              "  </tbody>\n",
              "</table>\n",
              "</div>"
            ],
            "text/plain": [
              "            number  orbital_period        mass     distance         year\n",
              "count  1035.000000      992.000000  513.000000   808.000000  1035.000000\n",
              "mean      1.785507     2002.917596    2.638161   264.069282  2009.070531\n",
              "std       1.240976    26014.728304    3.818617   733.116493     3.972567\n",
              "min       1.000000        0.090706    0.003600     1.350000  1989.000000\n",
              "25%       1.000000        5.442540    0.229000    32.560000  2007.000000\n",
              "50%       1.000000       39.979500    1.260000    55.250000  2010.000000\n",
              "75%       2.000000      526.005000    3.040000   178.500000  2012.000000\n",
              "max       7.000000   730000.000000   25.000000  8500.000000  2014.000000"
            ]
          },
          "metadata": {
            "tags": []
          },
          "execution_count": 90
        }
      ]
    },
    {
      "cell_type": "markdown",
      "metadata": {
        "id": "1kPEcOXT3VUY",
        "colab_type": "text"
      },
      "source": [
        "We can do all the previous tasks i.e. dropping rows which contains null cell by applying a very simple function."
      ]
    },
    {
      "cell_type": "code",
      "metadata": {
        "id": "nzuO5mqa3S4f",
        "colab_type": "code",
        "colab": {}
      },
      "source": [
        "df.dropna(inplace=True)"
      ],
      "execution_count": null,
      "outputs": []
    },
    {
      "cell_type": "code",
      "metadata": {
        "id": "d6XLAgQr4EvR",
        "colab_type": "code",
        "colab": {
          "base_uri": "https://localhost:8080/",
          "height": 297
        },
        "outputId": "cbb6620e-4b3f-4a48-cd8a-17d8ba9aa838"
      },
      "source": [
        "df.describe()"
      ],
      "execution_count": null,
      "outputs": [
        {
          "output_type": "execute_result",
          "data": {
            "text/html": [
              "<div>\n",
              "<style scoped>\n",
              "    .dataframe tbody tr th:only-of-type {\n",
              "        vertical-align: middle;\n",
              "    }\n",
              "\n",
              "    .dataframe tbody tr th {\n",
              "        vertical-align: top;\n",
              "    }\n",
              "\n",
              "    .dataframe thead th {\n",
              "        text-align: right;\n",
              "    }\n",
              "</style>\n",
              "<table border=\"1\" class=\"dataframe\">\n",
              "  <thead>\n",
              "    <tr style=\"text-align: right;\">\n",
              "      <th></th>\n",
              "      <th>number</th>\n",
              "      <th>orbital_period</th>\n",
              "      <th>mass</th>\n",
              "      <th>distance</th>\n",
              "      <th>year</th>\n",
              "    </tr>\n",
              "  </thead>\n",
              "  <tbody>\n",
              "    <tr>\n",
              "      <th>count</th>\n",
              "      <td>498.00000</td>\n",
              "      <td>498.000000</td>\n",
              "      <td>498.000000</td>\n",
              "      <td>498.000000</td>\n",
              "      <td>498.000000</td>\n",
              "    </tr>\n",
              "    <tr>\n",
              "      <th>mean</th>\n",
              "      <td>1.73494</td>\n",
              "      <td>835.778671</td>\n",
              "      <td>2.509320</td>\n",
              "      <td>52.068213</td>\n",
              "      <td>2007.377510</td>\n",
              "    </tr>\n",
              "    <tr>\n",
              "      <th>std</th>\n",
              "      <td>1.17572</td>\n",
              "      <td>1469.128259</td>\n",
              "      <td>3.636274</td>\n",
              "      <td>46.596041</td>\n",
              "      <td>4.167284</td>\n",
              "    </tr>\n",
              "    <tr>\n",
              "      <th>min</th>\n",
              "      <td>1.00000</td>\n",
              "      <td>1.328300</td>\n",
              "      <td>0.003600</td>\n",
              "      <td>1.350000</td>\n",
              "      <td>1989.000000</td>\n",
              "    </tr>\n",
              "    <tr>\n",
              "      <th>25%</th>\n",
              "      <td>1.00000</td>\n",
              "      <td>38.272250</td>\n",
              "      <td>0.212500</td>\n",
              "      <td>24.497500</td>\n",
              "      <td>2005.000000</td>\n",
              "    </tr>\n",
              "    <tr>\n",
              "      <th>50%</th>\n",
              "      <td>1.00000</td>\n",
              "      <td>357.000000</td>\n",
              "      <td>1.245000</td>\n",
              "      <td>39.940000</td>\n",
              "      <td>2009.000000</td>\n",
              "    </tr>\n",
              "    <tr>\n",
              "      <th>75%</th>\n",
              "      <td>2.00000</td>\n",
              "      <td>999.600000</td>\n",
              "      <td>2.867500</td>\n",
              "      <td>59.332500</td>\n",
              "      <td>2011.000000</td>\n",
              "    </tr>\n",
              "    <tr>\n",
              "      <th>max</th>\n",
              "      <td>6.00000</td>\n",
              "      <td>17337.500000</td>\n",
              "      <td>25.000000</td>\n",
              "      <td>354.000000</td>\n",
              "      <td>2014.000000</td>\n",
              "    </tr>\n",
              "  </tbody>\n",
              "</table>\n",
              "</div>"
            ],
            "text/plain": [
              "          number  orbital_period        mass    distance         year\n",
              "count  498.00000      498.000000  498.000000  498.000000   498.000000\n",
              "mean     1.73494      835.778671    2.509320   52.068213  2007.377510\n",
              "std      1.17572     1469.128259    3.636274   46.596041     4.167284\n",
              "min      1.00000        1.328300    0.003600    1.350000  1989.000000\n",
              "25%      1.00000       38.272250    0.212500   24.497500  2005.000000\n",
              "50%      1.00000      357.000000    1.245000   39.940000  2009.000000\n",
              "75%      2.00000      999.600000    2.867500   59.332500  2011.000000\n",
              "max      6.00000    17337.500000   25.000000  354.000000  2014.000000"
            ]
          },
          "metadata": {
            "tags": []
          },
          "execution_count": 92
        }
      ]
    },
    {
      "cell_type": "code",
      "metadata": {
        "id": "crqOdaxCP_QD",
        "colab_type": "code",
        "colab": {
          "base_uri": "https://localhost:8080/",
          "height": 419
        },
        "outputId": "175784a9-5e5c-4295-d17d-5bb6ce1eafa5"
      },
      "source": [
        "df"
      ],
      "execution_count": null,
      "outputs": [
        {
          "output_type": "execute_result",
          "data": {
            "text/html": [
              "<div>\n",
              "<style scoped>\n",
              "    .dataframe tbody tr th:only-of-type {\n",
              "        vertical-align: middle;\n",
              "    }\n",
              "\n",
              "    .dataframe tbody tr th {\n",
              "        vertical-align: top;\n",
              "    }\n",
              "\n",
              "    .dataframe thead th {\n",
              "        text-align: right;\n",
              "    }\n",
              "</style>\n",
              "<table border=\"1\" class=\"dataframe\">\n",
              "  <thead>\n",
              "    <tr style=\"text-align: right;\">\n",
              "      <th></th>\n",
              "      <th>method</th>\n",
              "      <th>number</th>\n",
              "      <th>orbital_period</th>\n",
              "      <th>mass</th>\n",
              "      <th>distance</th>\n",
              "      <th>year</th>\n",
              "    </tr>\n",
              "  </thead>\n",
              "  <tbody>\n",
              "    <tr>\n",
              "      <th>0</th>\n",
              "      <td>Radial Velocity</td>\n",
              "      <td>1</td>\n",
              "      <td>269.30000</td>\n",
              "      <td>7.100</td>\n",
              "      <td>77.40</td>\n",
              "      <td>2006</td>\n",
              "    </tr>\n",
              "    <tr>\n",
              "      <th>1</th>\n",
              "      <td>Radial Velocity</td>\n",
              "      <td>1</td>\n",
              "      <td>874.77400</td>\n",
              "      <td>2.210</td>\n",
              "      <td>56.95</td>\n",
              "      <td>2008</td>\n",
              "    </tr>\n",
              "    <tr>\n",
              "      <th>2</th>\n",
              "      <td>Radial Velocity</td>\n",
              "      <td>1</td>\n",
              "      <td>763.00000</td>\n",
              "      <td>2.600</td>\n",
              "      <td>19.84</td>\n",
              "      <td>2011</td>\n",
              "    </tr>\n",
              "    <tr>\n",
              "      <th>3</th>\n",
              "      <td>Radial Velocity</td>\n",
              "      <td>1</td>\n",
              "      <td>326.03000</td>\n",
              "      <td>19.400</td>\n",
              "      <td>110.62</td>\n",
              "      <td>2007</td>\n",
              "    </tr>\n",
              "    <tr>\n",
              "      <th>4</th>\n",
              "      <td>Radial Velocity</td>\n",
              "      <td>1</td>\n",
              "      <td>516.22000</td>\n",
              "      <td>10.500</td>\n",
              "      <td>119.47</td>\n",
              "      <td>2009</td>\n",
              "    </tr>\n",
              "    <tr>\n",
              "      <th>...</th>\n",
              "      <td>...</td>\n",
              "      <td>...</td>\n",
              "      <td>...</td>\n",
              "      <td>...</td>\n",
              "      <td>...</td>\n",
              "      <td>...</td>\n",
              "    </tr>\n",
              "    <tr>\n",
              "      <th>640</th>\n",
              "      <td>Radial Velocity</td>\n",
              "      <td>1</td>\n",
              "      <td>111.70000</td>\n",
              "      <td>2.100</td>\n",
              "      <td>14.90</td>\n",
              "      <td>2009</td>\n",
              "    </tr>\n",
              "    <tr>\n",
              "      <th>641</th>\n",
              "      <td>Radial Velocity</td>\n",
              "      <td>1</td>\n",
              "      <td>5.05050</td>\n",
              "      <td>1.068</td>\n",
              "      <td>44.46</td>\n",
              "      <td>2013</td>\n",
              "    </tr>\n",
              "    <tr>\n",
              "      <th>642</th>\n",
              "      <td>Radial Velocity</td>\n",
              "      <td>1</td>\n",
              "      <td>311.28800</td>\n",
              "      <td>1.940</td>\n",
              "      <td>17.24</td>\n",
              "      <td>1999</td>\n",
              "    </tr>\n",
              "    <tr>\n",
              "      <th>649</th>\n",
              "      <td>Transit</td>\n",
              "      <td>1</td>\n",
              "      <td>2.70339</td>\n",
              "      <td>1.470</td>\n",
              "      <td>178.00</td>\n",
              "      <td>2013</td>\n",
              "    </tr>\n",
              "    <tr>\n",
              "      <th>784</th>\n",
              "      <td>Radial Velocity</td>\n",
              "      <td>3</td>\n",
              "      <td>580.00000</td>\n",
              "      <td>0.947</td>\n",
              "      <td>135.00</td>\n",
              "      <td>2012</td>\n",
              "    </tr>\n",
              "  </tbody>\n",
              "</table>\n",
              "<p>498 rows × 6 columns</p>\n",
              "</div>"
            ],
            "text/plain": [
              "              method  number  orbital_period    mass  distance  year\n",
              "0    Radial Velocity       1       269.30000   7.100     77.40  2006\n",
              "1    Radial Velocity       1       874.77400   2.210     56.95  2008\n",
              "2    Radial Velocity       1       763.00000   2.600     19.84  2011\n",
              "3    Radial Velocity       1       326.03000  19.400    110.62  2007\n",
              "4    Radial Velocity       1       516.22000  10.500    119.47  2009\n",
              "..               ...     ...             ...     ...       ...   ...\n",
              "640  Radial Velocity       1       111.70000   2.100     14.90  2009\n",
              "641  Radial Velocity       1         5.05050   1.068     44.46  2013\n",
              "642  Radial Velocity       1       311.28800   1.940     17.24  1999\n",
              "649          Transit       1         2.70339   1.470    178.00  2013\n",
              "784  Radial Velocity       3       580.00000   0.947    135.00  2012\n",
              "\n",
              "[498 rows x 6 columns]"
            ]
          },
          "metadata": {
            "tags": []
          },
          "execution_count": 93
        }
      ]
    },
    {
      "cell_type": "markdown",
      "metadata": {
        "id": "8ZXx47gx5C7d",
        "colab_type": "text"
      },
      "source": [
        "## Data Filtering or subseting\n",
        "\n",
        "Filter and show only those rows which have planets that are found in the 2010s and method is 'Radial Velocity' and 'Transit' and distance is large (> 75 percentile)"
      ]
    },
    {
      "cell_type": "code",
      "metadata": {
        "id": "TnRSRjrq45-d",
        "colab_type": "code",
        "colab": {}
      },
      "source": [
        "df_ = df.copy()\n",
        "per_75 = df.distance.quantile(0.75)\n",
        "for i, r in df_.iterrows():\n",
        "    if r['year'] < 2010:\n",
        "        df_.drop(i, inplace=True)\n",
        "        continue\n",
        "    if r['method'] != 'Radial Velocity' and r['method'] != 'Transit':\n",
        "        df_.drop(i, inplace=True)\n",
        "        continue\n",
        "    if r['distance'] < per_75:\n",
        "        df_.drop(i, inplace=True)\n",
        "        continue\n",
        "\n"
      ],
      "execution_count": null,
      "outputs": []
    },
    {
      "cell_type": "code",
      "metadata": {
        "id": "gM7Odr_7Q2vR",
        "colab_type": "code",
        "colab": {
          "base_uri": "https://localhost:8080/",
          "height": 297
        },
        "outputId": "1c19bab8-a3b0-47d0-f8a6-d2278ce073f9"
      },
      "source": [
        "df_.describe()"
      ],
      "execution_count": null,
      "outputs": [
        {
          "output_type": "execute_result",
          "data": {
            "text/html": [
              "<div>\n",
              "<style scoped>\n",
              "    .dataframe tbody tr th:only-of-type {\n",
              "        vertical-align: middle;\n",
              "    }\n",
              "\n",
              "    .dataframe tbody tr th {\n",
              "        vertical-align: top;\n",
              "    }\n",
              "\n",
              "    .dataframe thead th {\n",
              "        text-align: right;\n",
              "    }\n",
              "</style>\n",
              "<table border=\"1\" class=\"dataframe\">\n",
              "  <thead>\n",
              "    <tr style=\"text-align: right;\">\n",
              "      <th></th>\n",
              "      <th>number</th>\n",
              "      <th>orbital_period</th>\n",
              "      <th>mass</th>\n",
              "      <th>distance</th>\n",
              "      <th>year</th>\n",
              "    </tr>\n",
              "  </thead>\n",
              "  <tbody>\n",
              "    <tr>\n",
              "      <th>count</th>\n",
              "      <td>50.000000</td>\n",
              "      <td>50.000000</td>\n",
              "      <td>50.000000</td>\n",
              "      <td>50.000000</td>\n",
              "      <td>50.000000</td>\n",
              "    </tr>\n",
              "    <tr>\n",
              "      <th>mean</th>\n",
              "      <td>1.300000</td>\n",
              "      <td>763.904808</td>\n",
              "      <td>3.322740</td>\n",
              "      <td>133.142600</td>\n",
              "      <td>2011.360000</td>\n",
              "    </tr>\n",
              "    <tr>\n",
              "      <th>std</th>\n",
              "      <td>0.505076</td>\n",
              "      <td>966.789870</td>\n",
              "      <td>3.648002</td>\n",
              "      <td>70.378699</td>\n",
              "      <td>1.120496</td>\n",
              "    </tr>\n",
              "    <tr>\n",
              "      <th>min</th>\n",
              "      <td>1.000000</td>\n",
              "      <td>2.703390</td>\n",
              "      <td>0.770000</td>\n",
              "      <td>65.620000</td>\n",
              "      <td>2010.000000</td>\n",
              "    </tr>\n",
              "    <tr>\n",
              "      <th>25%</th>\n",
              "      <td>1.000000</td>\n",
              "      <td>255.555000</td>\n",
              "      <td>1.325000</td>\n",
              "      <td>80.205000</td>\n",
              "      <td>2011.000000</td>\n",
              "    </tr>\n",
              "    <tr>\n",
              "      <th>50%</th>\n",
              "      <td>1.000000</td>\n",
              "      <td>550.500000</td>\n",
              "      <td>1.875000</td>\n",
              "      <td>121.070000</td>\n",
              "      <td>2011.000000</td>\n",
              "    </tr>\n",
              "    <tr>\n",
              "      <th>75%</th>\n",
              "      <td>2.000000</td>\n",
              "      <td>873.625000</td>\n",
              "      <td>3.400000</td>\n",
              "      <td>150.097500</td>\n",
              "      <td>2012.000000</td>\n",
              "    </tr>\n",
              "    <tr>\n",
              "      <th>max</th>\n",
              "      <td>3.000000</td>\n",
              "      <td>5584.000000</td>\n",
              "      <td>20.600000</td>\n",
              "      <td>354.000000</td>\n",
              "      <td>2014.000000</td>\n",
              "    </tr>\n",
              "  </tbody>\n",
              "</table>\n",
              "</div>"
            ],
            "text/plain": [
              "          number  orbital_period       mass    distance         year\n",
              "count  50.000000       50.000000  50.000000   50.000000    50.000000\n",
              "mean    1.300000      763.904808   3.322740  133.142600  2011.360000\n",
              "std     0.505076      966.789870   3.648002   70.378699     1.120496\n",
              "min     1.000000        2.703390   0.770000   65.620000  2010.000000\n",
              "25%     1.000000      255.555000   1.325000   80.205000  2011.000000\n",
              "50%     1.000000      550.500000   1.875000  121.070000  2011.000000\n",
              "75%     2.000000      873.625000   3.400000  150.097500  2012.000000\n",
              "max     3.000000     5584.000000  20.600000  354.000000  2014.000000"
            ]
          },
          "metadata": {
            "tags": []
          },
          "execution_count": 95
        }
      ]
    },
    {
      "cell_type": "code",
      "metadata": {
        "id": "ah99xbc5Q5eW",
        "colab_type": "code",
        "colab": {
          "base_uri": "https://localhost:8080/",
          "height": 204
        },
        "outputId": "e58bc443-ea1b-49bf-a8d4-d2a2479e932b"
      },
      "source": [
        "df_.head()"
      ],
      "execution_count": null,
      "outputs": [
        {
          "output_type": "execute_result",
          "data": {
            "text/html": [
              "<div>\n",
              "<style scoped>\n",
              "    .dataframe tbody tr th:only-of-type {\n",
              "        vertical-align: middle;\n",
              "    }\n",
              "\n",
              "    .dataframe tbody tr th {\n",
              "        vertical-align: top;\n",
              "    }\n",
              "\n",
              "    .dataframe thead th {\n",
              "        text-align: right;\n",
              "    }\n",
              "</style>\n",
              "<table border=\"1\" class=\"dataframe\">\n",
              "  <thead>\n",
              "    <tr style=\"text-align: right;\">\n",
              "      <th></th>\n",
              "      <th>method</th>\n",
              "      <th>number</th>\n",
              "      <th>orbital_period</th>\n",
              "      <th>mass</th>\n",
              "      <th>distance</th>\n",
              "      <th>year</th>\n",
              "    </tr>\n",
              "  </thead>\n",
              "  <tbody>\n",
              "    <tr>\n",
              "      <th>9</th>\n",
              "      <td>Radial Velocity</td>\n",
              "      <td>2</td>\n",
              "      <td>452.80</td>\n",
              "      <td>1.99</td>\n",
              "      <td>74.79</td>\n",
              "      <td>2010</td>\n",
              "    </tr>\n",
              "    <tr>\n",
              "      <th>10</th>\n",
              "      <td>Radial Velocity</td>\n",
              "      <td>2</td>\n",
              "      <td>883.00</td>\n",
              "      <td>0.86</td>\n",
              "      <td>74.79</td>\n",
              "      <td>2010</td>\n",
              "    </tr>\n",
              "    <tr>\n",
              "      <th>58</th>\n",
              "      <td>Radial Velocity</td>\n",
              "      <td>1</td>\n",
              "      <td>277.02</td>\n",
              "      <td>1.70</td>\n",
              "      <td>80.64</td>\n",
              "      <td>2013</td>\n",
              "    </tr>\n",
              "    <tr>\n",
              "      <th>63</th>\n",
              "      <td>Radial Velocity</td>\n",
              "      <td>1</td>\n",
              "      <td>305.50</td>\n",
              "      <td>20.60</td>\n",
              "      <td>92.51</td>\n",
              "      <td>2013</td>\n",
              "    </tr>\n",
              "    <tr>\n",
              "      <th>84</th>\n",
              "      <td>Radial Velocity</td>\n",
              "      <td>1</td>\n",
              "      <td>137.48</td>\n",
              "      <td>1.11</td>\n",
              "      <td>175.44</td>\n",
              "      <td>2013</td>\n",
              "    </tr>\n",
              "  </tbody>\n",
              "</table>\n",
              "</div>"
            ],
            "text/plain": [
              "             method  number  orbital_period   mass  distance  year\n",
              "9   Radial Velocity       2          452.80   1.99     74.79  2010\n",
              "10  Radial Velocity       2          883.00   0.86     74.79  2010\n",
              "58  Radial Velocity       1          277.02   1.70     80.64  2013\n",
              "63  Radial Velocity       1          305.50  20.60     92.51  2013\n",
              "84  Radial Velocity       1          137.48   1.11    175.44  2013"
            ]
          },
          "metadata": {
            "tags": []
          },
          "execution_count": 96
        }
      ]
    },
    {
      "cell_type": "markdown",
      "metadata": {
        "id": "N8z0MipyRJj0",
        "colab_type": "text"
      },
      "source": [
        "We can do this in more efficient ways actually."
      ]
    },
    {
      "cell_type": "code",
      "metadata": {
        "id": "K0e35ljTQ9OT",
        "colab_type": "code",
        "colab": {}
      },
      "source": [
        "df_ = df.copy()"
      ],
      "execution_count": null,
      "outputs": []
    },
    {
      "cell_type": "code",
      "metadata": {
        "id": "gpRce7KsRTLR",
        "colab_type": "code",
        "colab": {}
      },
      "source": [
        "df_ = df_[\n",
        "          (df_['year'] >= 2010) &\n",
        "          ((df_['method'] == 'Radial Velocity') | (df_['method'] == 'Transit')) &\n",
        "          (df_['distance'] > per_75)\n",
        "]"
      ],
      "execution_count": null,
      "outputs": []
    },
    {
      "cell_type": "code",
      "metadata": {
        "id": "KeOf3rkXSSu7",
        "colab_type": "code",
        "colab": {
          "base_uri": "https://localhost:8080/",
          "height": 297
        },
        "outputId": "1964801a-10d9-43df-a748-848ace5fb697"
      },
      "source": [
        "df_.describe()"
      ],
      "execution_count": null,
      "outputs": [
        {
          "output_type": "execute_result",
          "data": {
            "text/html": [
              "<div>\n",
              "<style scoped>\n",
              "    .dataframe tbody tr th:only-of-type {\n",
              "        vertical-align: middle;\n",
              "    }\n",
              "\n",
              "    .dataframe tbody tr th {\n",
              "        vertical-align: top;\n",
              "    }\n",
              "\n",
              "    .dataframe thead th {\n",
              "        text-align: right;\n",
              "    }\n",
              "</style>\n",
              "<table border=\"1\" class=\"dataframe\">\n",
              "  <thead>\n",
              "    <tr style=\"text-align: right;\">\n",
              "      <th></th>\n",
              "      <th>number</th>\n",
              "      <th>orbital_period</th>\n",
              "      <th>mass</th>\n",
              "      <th>distance</th>\n",
              "      <th>year</th>\n",
              "    </tr>\n",
              "  </thead>\n",
              "  <tbody>\n",
              "    <tr>\n",
              "      <th>count</th>\n",
              "      <td>50.000000</td>\n",
              "      <td>50.000000</td>\n",
              "      <td>50.000000</td>\n",
              "      <td>50.000000</td>\n",
              "      <td>50.000000</td>\n",
              "    </tr>\n",
              "    <tr>\n",
              "      <th>mean</th>\n",
              "      <td>1.300000</td>\n",
              "      <td>763.904808</td>\n",
              "      <td>3.322740</td>\n",
              "      <td>133.142600</td>\n",
              "      <td>2011.360000</td>\n",
              "    </tr>\n",
              "    <tr>\n",
              "      <th>std</th>\n",
              "      <td>0.505076</td>\n",
              "      <td>966.789870</td>\n",
              "      <td>3.648002</td>\n",
              "      <td>70.378699</td>\n",
              "      <td>1.120496</td>\n",
              "    </tr>\n",
              "    <tr>\n",
              "      <th>min</th>\n",
              "      <td>1.000000</td>\n",
              "      <td>2.703390</td>\n",
              "      <td>0.770000</td>\n",
              "      <td>65.620000</td>\n",
              "      <td>2010.000000</td>\n",
              "    </tr>\n",
              "    <tr>\n",
              "      <th>25%</th>\n",
              "      <td>1.000000</td>\n",
              "      <td>255.555000</td>\n",
              "      <td>1.325000</td>\n",
              "      <td>80.205000</td>\n",
              "      <td>2011.000000</td>\n",
              "    </tr>\n",
              "    <tr>\n",
              "      <th>50%</th>\n",
              "      <td>1.000000</td>\n",
              "      <td>550.500000</td>\n",
              "      <td>1.875000</td>\n",
              "      <td>121.070000</td>\n",
              "      <td>2011.000000</td>\n",
              "    </tr>\n",
              "    <tr>\n",
              "      <th>75%</th>\n",
              "      <td>2.000000</td>\n",
              "      <td>873.625000</td>\n",
              "      <td>3.400000</td>\n",
              "      <td>150.097500</td>\n",
              "      <td>2012.000000</td>\n",
              "    </tr>\n",
              "    <tr>\n",
              "      <th>max</th>\n",
              "      <td>3.000000</td>\n",
              "      <td>5584.000000</td>\n",
              "      <td>20.600000</td>\n",
              "      <td>354.000000</td>\n",
              "      <td>2014.000000</td>\n",
              "    </tr>\n",
              "  </tbody>\n",
              "</table>\n",
              "</div>"
            ],
            "text/plain": [
              "          number  orbital_period       mass    distance         year\n",
              "count  50.000000       50.000000  50.000000   50.000000    50.000000\n",
              "mean    1.300000      763.904808   3.322740  133.142600  2011.360000\n",
              "std     0.505076      966.789870   3.648002   70.378699     1.120496\n",
              "min     1.000000        2.703390   0.770000   65.620000  2010.000000\n",
              "25%     1.000000      255.555000   1.325000   80.205000  2011.000000\n",
              "50%     1.000000      550.500000   1.875000  121.070000  2011.000000\n",
              "75%     2.000000      873.625000   3.400000  150.097500  2012.000000\n",
              "max     3.000000     5584.000000  20.600000  354.000000  2014.000000"
            ]
          },
          "metadata": {
            "tags": []
          },
          "execution_count": 99
        }
      ]
    },
    {
      "cell_type": "markdown",
      "metadata": {
        "id": "f30-qtmASugN",
        "colab_type": "text"
      },
      "source": [
        "## Data Manipulation\n",
        "\n",
        "Modify the method column to have only the abbreviations of each method."
      ]
    },
    {
      "cell_type": "code",
      "metadata": {
        "id": "vpH8KiPpSTqZ",
        "colab_type": "code",
        "colab": {}
      },
      "source": [
        "df = sns.load_dataset('planets')"
      ],
      "execution_count": null,
      "outputs": []
    },
    {
      "cell_type": "code",
      "metadata": {
        "id": "CEZeIOP7QkFU",
        "colab_type": "code",
        "colab": {
          "base_uri": "https://localhost:8080/",
          "height": 238
        },
        "outputId": "f0eb3445-639a-42b2-f4d0-a9ade4ff380c"
      },
      "source": [
        "df.info()"
      ],
      "execution_count": null,
      "outputs": [
        {
          "output_type": "stream",
          "text": [
            "<class 'pandas.core.frame.DataFrame'>\n",
            "RangeIndex: 1035 entries, 0 to 1034\n",
            "Data columns (total 6 columns):\n",
            " #   Column          Non-Null Count  Dtype  \n",
            "---  ------          --------------  -----  \n",
            " 0   method          1035 non-null   object \n",
            " 1   number          1035 non-null   int64  \n",
            " 2   orbital_period  992 non-null    float64\n",
            " 3   mass            513 non-null    float64\n",
            " 4   distance        808 non-null    float64\n",
            " 5   year            1035 non-null   int64  \n",
            "dtypes: float64(3), int64(2), object(1)\n",
            "memory usage: 48.6+ KB\n"
          ],
          "name": "stdout"
        }
      ]
    },
    {
      "cell_type": "code",
      "metadata": {
        "id": "HIxfQ0qbQmkv",
        "colab_type": "code",
        "colab": {
          "base_uri": "https://localhost:8080/",
          "height": 85
        },
        "outputId": "b2d57baf-39a7-4af6-b1fb-3e1bc6dff801"
      },
      "source": [
        "df.method.unique() # TO check how many unique values are there."
      ],
      "execution_count": null,
      "outputs": [
        {
          "output_type": "execute_result",
          "data": {
            "text/plain": [
              "array(['Radial Velocity', 'Imaging', 'Eclipse Timing Variations',\n",
              "       'Transit', 'Astrometry', 'Transit Timing Variations',\n",
              "       'Orbital Brightness Modulation', 'Microlensing', 'Pulsar Timing',\n",
              "       'Pulsation Timing Variations'], dtype=object)"
            ]
          },
          "metadata": {
            "tags": []
          },
          "execution_count": 102
        }
      ]
    },
    {
      "cell_type": "code",
      "metadata": {
        "id": "iyC4wjYnQuI2",
        "colab_type": "code",
        "colab": {}
      },
      "source": [
        "s = 'Radial Velocity'"
      ],
      "execution_count": null,
      "outputs": []
    },
    {
      "cell_type": "code",
      "metadata": {
        "id": "RDNBYkHBUqfX",
        "colab_type": "code",
        "colab": {
          "base_uri": "https://localhost:8080/",
          "height": 35
        },
        "outputId": "d676b093-804c-4d32-cb13-5f5186a905cf"
      },
      "source": [
        "''.join([x[0] for x in s.split(\" \")])"
      ],
      "execution_count": null,
      "outputs": [
        {
          "output_type": "execute_result",
          "data": {
            "application/vnd.google.colaboratory.intrinsic": {
              "type": "string"
            },
            "text/plain": [
              "'RV'"
            ]
          },
          "metadata": {
            "tags": []
          },
          "execution_count": 104
        }
      ]
    },
    {
      "cell_type": "markdown",
      "metadata": {
        "id": "67wwAGm1VuXF",
        "colab_type": "text"
      },
      "source": [
        "We need to do this previous operation for every values in that column so we need to iterate over method column and give it short name."
      ]
    },
    {
      "cell_type": "code",
      "metadata": {
        "id": "74b6ACH-Usfi",
        "colab_type": "code",
        "colab": {
          "base_uri": "https://localhost:8080/",
          "height": 187
        },
        "outputId": "1494dc52-2a7a-4265-f2b5-9edbfa7f72a8"
      },
      "source": [
        "short_name = {}\n",
        "for s in df.method.unique():\n",
        "    short_name[s] = ''.join([x[0] for x in s.split(\" \")])\n",
        "short_name"
      ],
      "execution_count": null,
      "outputs": [
        {
          "output_type": "execute_result",
          "data": {
            "text/plain": [
              "{'Astrometry': 'A',\n",
              " 'Eclipse Timing Variations': 'ETV',\n",
              " 'Imaging': 'I',\n",
              " 'Microlensing': 'M',\n",
              " 'Orbital Brightness Modulation': 'OBM',\n",
              " 'Pulsar Timing': 'PT',\n",
              " 'Pulsation Timing Variations': 'PTV',\n",
              " 'Radial Velocity': 'RV',\n",
              " 'Transit': 'T',\n",
              " 'Transit Timing Variations': 'TTV'}"
            ]
          },
          "metadata": {
            "tags": []
          },
          "execution_count": 105
        }
      ]
    },
    {
      "cell_type": "code",
      "metadata": {
        "id": "iJhWdXrtX27v",
        "colab_type": "code",
        "colab": {}
      },
      "source": [
        "for i, r in df.iterrows():\n",
        "    df.loc[i, 'short_method'] = short_name.get(r['method'], r['method'])"
      ],
      "execution_count": null,
      "outputs": []
    },
    {
      "cell_type": "code",
      "metadata": {
        "id": "GP4Ka5MIsxhg",
        "colab_type": "code",
        "colab": {
          "base_uri": "https://localhost:8080/",
          "height": 204
        },
        "outputId": "3d9203b6-066b-4895-c5a4-213f142fea3a"
      },
      "source": [
        "df.head()"
      ],
      "execution_count": null,
      "outputs": [
        {
          "output_type": "execute_result",
          "data": {
            "text/html": [
              "<div>\n",
              "<style scoped>\n",
              "    .dataframe tbody tr th:only-of-type {\n",
              "        vertical-align: middle;\n",
              "    }\n",
              "\n",
              "    .dataframe tbody tr th {\n",
              "        vertical-align: top;\n",
              "    }\n",
              "\n",
              "    .dataframe thead th {\n",
              "        text-align: right;\n",
              "    }\n",
              "</style>\n",
              "<table border=\"1\" class=\"dataframe\">\n",
              "  <thead>\n",
              "    <tr style=\"text-align: right;\">\n",
              "      <th></th>\n",
              "      <th>method</th>\n",
              "      <th>number</th>\n",
              "      <th>orbital_period</th>\n",
              "      <th>mass</th>\n",
              "      <th>distance</th>\n",
              "      <th>year</th>\n",
              "      <th>short_method</th>\n",
              "    </tr>\n",
              "  </thead>\n",
              "  <tbody>\n",
              "    <tr>\n",
              "      <th>0</th>\n",
              "      <td>Radial Velocity</td>\n",
              "      <td>1</td>\n",
              "      <td>269.300</td>\n",
              "      <td>7.10</td>\n",
              "      <td>77.40</td>\n",
              "      <td>2006</td>\n",
              "      <td>RV</td>\n",
              "    </tr>\n",
              "    <tr>\n",
              "      <th>1</th>\n",
              "      <td>Radial Velocity</td>\n",
              "      <td>1</td>\n",
              "      <td>874.774</td>\n",
              "      <td>2.21</td>\n",
              "      <td>56.95</td>\n",
              "      <td>2008</td>\n",
              "      <td>RV</td>\n",
              "    </tr>\n",
              "    <tr>\n",
              "      <th>2</th>\n",
              "      <td>Radial Velocity</td>\n",
              "      <td>1</td>\n",
              "      <td>763.000</td>\n",
              "      <td>2.60</td>\n",
              "      <td>19.84</td>\n",
              "      <td>2011</td>\n",
              "      <td>RV</td>\n",
              "    </tr>\n",
              "    <tr>\n",
              "      <th>3</th>\n",
              "      <td>Radial Velocity</td>\n",
              "      <td>1</td>\n",
              "      <td>326.030</td>\n",
              "      <td>19.40</td>\n",
              "      <td>110.62</td>\n",
              "      <td>2007</td>\n",
              "      <td>RV</td>\n",
              "    </tr>\n",
              "    <tr>\n",
              "      <th>4</th>\n",
              "      <td>Radial Velocity</td>\n",
              "      <td>1</td>\n",
              "      <td>516.220</td>\n",
              "      <td>10.50</td>\n",
              "      <td>119.47</td>\n",
              "      <td>2009</td>\n",
              "      <td>RV</td>\n",
              "    </tr>\n",
              "  </tbody>\n",
              "</table>\n",
              "</div>"
            ],
            "text/plain": [
              "            method  number  orbital_period   mass  distance  year short_method\n",
              "0  Radial Velocity       1         269.300   7.10     77.40  2006           RV\n",
              "1  Radial Velocity       1         874.774   2.21     56.95  2008           RV\n",
              "2  Radial Velocity       1         763.000   2.60     19.84  2011           RV\n",
              "3  Radial Velocity       1         326.030  19.40    110.62  2007           RV\n",
              "4  Radial Velocity       1         516.220  10.50    119.47  2009           RV"
            ]
          },
          "metadata": {
            "tags": []
          },
          "execution_count": 107
        }
      ]
    },
    {
      "cell_type": "markdown",
      "metadata": {
        "id": "4iiBP3AGs-Fb",
        "colab_type": "text"
      },
      "source": [
        "We again can do this previous operation more efficiently."
      ]
    },
    {
      "cell_type": "code",
      "metadata": {
        "id": "17UIMsPvsyfy",
        "colab_type": "code",
        "colab": {}
      },
      "source": [
        "df = sns.load_dataset('planets')"
      ],
      "execution_count": null,
      "outputs": []
    },
    {
      "cell_type": "code",
      "metadata": {
        "id": "RxcP91kPtM40",
        "colab_type": "code",
        "colab": {}
      },
      "source": [
        "def shorten_method(s):\n",
        "    return short_name.get(s, s) # short_name is the dictionary which we have created previously"
      ],
      "execution_count": null,
      "outputs": []
    },
    {
      "cell_type": "code",
      "metadata": {
        "id": "opG-_tmAuHac",
        "colab_type": "code",
        "colab": {}
      },
      "source": [
        "df['short_method'] = df['method'].apply(shorten_method)"
      ],
      "execution_count": null,
      "outputs": []
    },
    {
      "cell_type": "code",
      "metadata": {
        "id": "ZAMPtei9uRTh",
        "colab_type": "code",
        "colab": {
          "base_uri": "https://localhost:8080/",
          "height": 204
        },
        "outputId": "16371250-6628-48ef-c166-fb0ce7b409ab"
      },
      "source": [
        "df.head()"
      ],
      "execution_count": null,
      "outputs": [
        {
          "output_type": "execute_result",
          "data": {
            "text/html": [
              "<div>\n",
              "<style scoped>\n",
              "    .dataframe tbody tr th:only-of-type {\n",
              "        vertical-align: middle;\n",
              "    }\n",
              "\n",
              "    .dataframe tbody tr th {\n",
              "        vertical-align: top;\n",
              "    }\n",
              "\n",
              "    .dataframe thead th {\n",
              "        text-align: right;\n",
              "    }\n",
              "</style>\n",
              "<table border=\"1\" class=\"dataframe\">\n",
              "  <thead>\n",
              "    <tr style=\"text-align: right;\">\n",
              "      <th></th>\n",
              "      <th>method</th>\n",
              "      <th>number</th>\n",
              "      <th>orbital_period</th>\n",
              "      <th>mass</th>\n",
              "      <th>distance</th>\n",
              "      <th>year</th>\n",
              "      <th>short_method</th>\n",
              "    </tr>\n",
              "  </thead>\n",
              "  <tbody>\n",
              "    <tr>\n",
              "      <th>0</th>\n",
              "      <td>Radial Velocity</td>\n",
              "      <td>1</td>\n",
              "      <td>269.300</td>\n",
              "      <td>7.10</td>\n",
              "      <td>77.40</td>\n",
              "      <td>2006</td>\n",
              "      <td>RV</td>\n",
              "    </tr>\n",
              "    <tr>\n",
              "      <th>1</th>\n",
              "      <td>Radial Velocity</td>\n",
              "      <td>1</td>\n",
              "      <td>874.774</td>\n",
              "      <td>2.21</td>\n",
              "      <td>56.95</td>\n",
              "      <td>2008</td>\n",
              "      <td>RV</td>\n",
              "    </tr>\n",
              "    <tr>\n",
              "      <th>2</th>\n",
              "      <td>Radial Velocity</td>\n",
              "      <td>1</td>\n",
              "      <td>763.000</td>\n",
              "      <td>2.60</td>\n",
              "      <td>19.84</td>\n",
              "      <td>2011</td>\n",
              "      <td>RV</td>\n",
              "    </tr>\n",
              "    <tr>\n",
              "      <th>3</th>\n",
              "      <td>Radial Velocity</td>\n",
              "      <td>1</td>\n",
              "      <td>326.030</td>\n",
              "      <td>19.40</td>\n",
              "      <td>110.62</td>\n",
              "      <td>2007</td>\n",
              "      <td>RV</td>\n",
              "    </tr>\n",
              "    <tr>\n",
              "      <th>4</th>\n",
              "      <td>Radial Velocity</td>\n",
              "      <td>1</td>\n",
              "      <td>516.220</td>\n",
              "      <td>10.50</td>\n",
              "      <td>119.47</td>\n",
              "      <td>2009</td>\n",
              "      <td>RV</td>\n",
              "    </tr>\n",
              "  </tbody>\n",
              "</table>\n",
              "</div>"
            ],
            "text/plain": [
              "            method  number  orbital_period   mass  distance  year short_method\n",
              "0  Radial Velocity       1         269.300   7.10     77.40  2006           RV\n",
              "1  Radial Velocity       1         874.774   2.21     56.95  2008           RV\n",
              "2  Radial Velocity       1         763.000   2.60     19.84  2011           RV\n",
              "3  Radial Velocity       1         326.030  19.40    110.62  2007           RV\n",
              "4  Radial Velocity       1         516.220  10.50    119.47  2009           RV"
            ]
          },
          "metadata": {
            "tags": []
          },
          "execution_count": 111
        }
      ]
    },
    {
      "cell_type": "markdown",
      "metadata": {
        "id": "-wWY9-iBuglp",
        "colab_type": "text"
      },
      "source": [
        "Count the number of planets discovered for each method type"
      ]
    },
    {
      "cell_type": "markdown",
      "metadata": {
        "id": "QOgv-nM4YwwM",
        "colab_type": "text"
      },
      "source": [
        "**Step 1:** Split the dataframe into smaller chunks (in this case they should have the same method name)\n",
        "\n",
        "**Step 2** Apply some function in each smaller chunk (in this case it is the count function)\n",
        "\n",
        "**Step 3** Aggregate the results from each chunk together"
      ]
    },
    {
      "cell_type": "code",
      "metadata": {
        "id": "LbE-LxWeuSUc",
        "colab_type": "code",
        "colab": {
          "base_uri": "https://localhost:8080/",
          "height": 54
        },
        "outputId": "5703ad02-ea7b-42ed-bf5a-264130ae0c5d"
      },
      "source": [
        " d = {}\n",
        " for m in df.method.unique():\n",
        "    d[m] = df[df.method == m]['method'].count()\n",
        "print(d)"
      ],
      "execution_count": null,
      "outputs": [
        {
          "output_type": "stream",
          "text": [
            "{'Radial Velocity': 553, 'Imaging': 38, 'Eclipse Timing Variations': 9, 'Transit': 397, 'Astrometry': 2, 'Transit Timing Variations': 4, 'Orbital Brightness Modulation': 3, 'Microlensing': 23, 'Pulsar Timing': 5, 'Pulsation Timing Variations': 1}\n"
          ],
          "name": "stdout"
        }
      ]
    },
    {
      "cell_type": "markdown",
      "metadata": {
        "id": "yR73lM19bz9E",
        "colab_type": "text"
      },
      "source": [
        "We can  again do this above operation using groupby method"
      ]
    },
    {
      "cell_type": "code",
      "metadata": {
        "id": "ODE93X5Var0S",
        "colab_type": "code",
        "colab": {
          "base_uri": "https://localhost:8080/",
          "height": 221
        },
        "outputId": "7c2510da-33b2-4711-defe-50c31b198c84"
      },
      "source": [
        "df.groupby('method')['method'].count()"
      ],
      "execution_count": null,
      "outputs": [
        {
          "output_type": "execute_result",
          "data": {
            "text/plain": [
              "method\n",
              "Astrometry                         2\n",
              "Eclipse Timing Variations          9\n",
              "Imaging                           38\n",
              "Microlensing                      23\n",
              "Orbital Brightness Modulation      3\n",
              "Pulsar Timing                      5\n",
              "Pulsation Timing Variations        1\n",
              "Radial Velocity                  553\n",
              "Transit                          397\n",
              "Transit Timing Variations          4\n",
              "Name: method, dtype: int64"
            ]
          },
          "metadata": {
            "tags": []
          },
          "execution_count": 124
        }
      ]
    },
    {
      "cell_type": "markdown",
      "metadata": {
        "id": "epRBKaqectji",
        "colab_type": "text"
      },
      "source": [
        "We can use groupby to find other things also."
      ]
    },
    {
      "cell_type": "code",
      "metadata": {
        "id": "tYmzaE5Ib9qU",
        "colab_type": "code",
        "colab": {
          "base_uri": "https://localhost:8080/",
          "height": 221
        },
        "outputId": "24c32287-bb0c-40f8-e161-ea7afcdcd1a1"
      },
      "source": [
        "df.groupby('method')['distance'].mean()"
      ],
      "execution_count": null,
      "outputs": [
        {
          "output_type": "execute_result",
          "data": {
            "text/plain": [
              "method\n",
              "Astrometry                         17.875000\n",
              "Eclipse Timing Variations         315.360000\n",
              "Imaging                            67.715937\n",
              "Microlensing                     4144.000000\n",
              "Orbital Brightness Modulation    1180.000000\n",
              "Pulsar Timing                    1200.000000\n",
              "Pulsation Timing Variations              NaN\n",
              "Radial Velocity                    51.600208\n",
              "Transit                           599.298080\n",
              "Transit Timing Variations        1104.333333\n",
              "Name: distance, dtype: float64"
            ]
          },
          "metadata": {
            "tags": []
          },
          "execution_count": 126
        }
      ]
    },
    {
      "cell_type": "markdown",
      "metadata": {
        "id": "C2RcLUDhdW4g",
        "colab_type": "text"
      },
      "source": [
        "Find out what fraction of planets have been found in the last decade(i.e. in 2010s) accross each method type."
      ]
    },
    {
      "cell_type": "markdown",
      "metadata": {
        "id": "aWcDlB4QeHC_",
        "colab_type": "text"
      },
      "source": [
        "1. **Filter** the data for the given condition (in this case planet found in last decade)\n",
        "\n",
        "2. **Split** (in this case across method)\n",
        "\n",
        "3. **Apply** (in this case just count)\n",
        "\n",
        "4. **Aggregate** (to represent the final result)\n"
      ]
    },
    {
      "cell_type": "code",
      "metadata": {
        "id": "n2GalsrOc2T_",
        "colab_type": "code",
        "colab": {}
      },
      "source": [
        "# By this method we can find all the method which was used during last decade\n",
        "s_2010 = df[df['year'] >= 2010].groupby('method')['method'].count()"
      ],
      "execution_count": null,
      "outputs": []
    },
    {
      "cell_type": "code",
      "metadata": {
        "id": "XG5qTFZXdoB3",
        "colab_type": "code",
        "colab": {}
      },
      "source": [
        "# Total count of planets searched through different methods through out the years\n",
        "s_allTime = df.groupby('method')['method'].count()"
      ],
      "execution_count": null,
      "outputs": []
    },
    {
      "cell_type": "code",
      "metadata": {
        "id": "QYA197cFhCPv",
        "colab_type": "code",
        "colab": {
          "base_uri": "https://localhost:8080/",
          "height": 221
        },
        "outputId": "c2b506f5-6385-4957-b417-9d15fa4bce58"
      },
      "source": [
        "s_2010/s_allTime * 100"
      ],
      "execution_count": null,
      "outputs": [
        {
          "output_type": "execute_result",
          "data": {
            "text/plain": [
              "method\n",
              "Astrometry                       100.000000\n",
              "Eclipse Timing Variations         66.666667\n",
              "Imaging                           47.368421\n",
              "Microlensing                      56.521739\n",
              "Orbital Brightness Modulation    100.000000\n",
              "Pulsar Timing                     20.000000\n",
              "Pulsation Timing Variations             NaN\n",
              "Radial Velocity                   38.878843\n",
              "Transit                           84.382872\n",
              "Transit Timing Variations        100.000000\n",
              "Name: method, dtype: float64"
            ]
          },
          "metadata": {
            "tags": []
          },
          "execution_count": 148
        }
      ]
    },
    {
      "cell_type": "markdown",
      "metadata": {
        "id": "N5ycyElBiIG1",
        "colab_type": "text"
      },
      "source": [
        "Find a dataset of Nifty numbers for 2018 and 2019 - daily numbers open,  close, high, low"
      ]
    },
    {
      "cell_type": "code",
      "metadata": {
        "id": "yZulrDnyhk7z",
        "colab_type": "code",
        "colab": {}
      },
      "source": [
        "import numpy as np\n",
        "import pandas as pd"
      ],
      "execution_count": null,
      "outputs": []
    },
    {
      "cell_type": "code",
      "metadata": {
        "id": "ntnC3gtikgSH",
        "colab_type": "code",
        "colab": {}
      },
      "source": [
        "nifty50_2018 = pd.read_csv('NIFTY50_2018.csv')"
      ],
      "execution_count": null,
      "outputs": []
    },
    {
      "cell_type": "code",
      "metadata": {
        "id": "3-4oT6vbkq8S",
        "colab_type": "code",
        "colab": {
          "base_uri": "https://localhost:8080/",
          "height": 306
        },
        "outputId": "fa7bb5f1-ba19-4905-cc5a-874569f2bb68"
      },
      "source": [
        "nifty50_2018.head()"
      ],
      "execution_count": null,
      "outputs": [
        {
          "output_type": "execute_result",
          "data": {
            "text/html": [
              "<div>\n",
              "<style scoped>\n",
              "    .dataframe tbody tr th:only-of-type {\n",
              "        vertical-align: middle;\n",
              "    }\n",
              "\n",
              "    .dataframe tbody tr th {\n",
              "        vertical-align: top;\n",
              "    }\n",
              "\n",
              "    .dataframe thead th {\n",
              "        text-align: right;\n",
              "    }\n",
              "</style>\n",
              "<table border=\"1\" class=\"dataframe\">\n",
              "  <thead>\n",
              "    <tr style=\"text-align: right;\">\n",
              "      <th></th>\n",
              "      <th>Date</th>\n",
              "      <th>Open</th>\n",
              "      <th>High</th>\n",
              "      <th>Low</th>\n",
              "      <th>Close</th>\n",
              "      <th>Shares Traded</th>\n",
              "      <th>Turnover (Rs. Cr)</th>\n",
              "    </tr>\n",
              "  </thead>\n",
              "  <tbody>\n",
              "    <tr>\n",
              "      <th>0</th>\n",
              "      <td>01-Jan-2018</td>\n",
              "      <td>10531.70</td>\n",
              "      <td>10537.85</td>\n",
              "      <td>10423.10</td>\n",
              "      <td>10435.55</td>\n",
              "      <td>134532090</td>\n",
              "      <td>7546.56</td>\n",
              "    </tr>\n",
              "    <tr>\n",
              "      <th>1</th>\n",
              "      <td>02-Jan-2018</td>\n",
              "      <td>10477.55</td>\n",
              "      <td>10495.20</td>\n",
              "      <td>10404.65</td>\n",
              "      <td>10442.20</td>\n",
              "      <td>158092430</td>\n",
              "      <td>8665.47</td>\n",
              "    </tr>\n",
              "    <tr>\n",
              "      <th>2</th>\n",
              "      <td>03-Jan-2018</td>\n",
              "      <td>10482.65</td>\n",
              "      <td>10503.60</td>\n",
              "      <td>10429.55</td>\n",
              "      <td>10443.20</td>\n",
              "      <td>172516859</td>\n",
              "      <td>9541.60</td>\n",
              "    </tr>\n",
              "    <tr>\n",
              "      <th>3</th>\n",
              "      <td>04-Jan-2018</td>\n",
              "      <td>10469.40</td>\n",
              "      <td>10513.00</td>\n",
              "      <td>10441.45</td>\n",
              "      <td>10504.80</td>\n",
              "      <td>180257392</td>\n",
              "      <td>9561.95</td>\n",
              "    </tr>\n",
              "    <tr>\n",
              "      <th>4</th>\n",
              "      <td>05-Jan-2018</td>\n",
              "      <td>10534.25</td>\n",
              "      <td>10566.10</td>\n",
              "      <td>10520.10</td>\n",
              "      <td>10558.85</td>\n",
              "      <td>186469717</td>\n",
              "      <td>10306.22</td>\n",
              "    </tr>\n",
              "  </tbody>\n",
              "</table>\n",
              "</div>"
            ],
            "text/plain": [
              "          Date      Open      High  ...     Close  Shares Traded  Turnover (Rs. Cr)\n",
              "0  01-Jan-2018  10531.70  10537.85  ...  10435.55      134532090            7546.56\n",
              "1  02-Jan-2018  10477.55  10495.20  ...  10442.20      158092430            8665.47\n",
              "2  03-Jan-2018  10482.65  10503.60  ...  10443.20      172516859            9541.60\n",
              "3  04-Jan-2018  10469.40  10513.00  ...  10504.80      180257392            9561.95\n",
              "4  05-Jan-2018  10534.25  10566.10  ...  10558.85      186469717           10306.22\n",
              "\n",
              "[5 rows x 7 columns]"
            ]
          },
          "metadata": {
            "tags": []
          },
          "execution_count": 44
        }
      ]
    },
    {
      "cell_type": "markdown",
      "metadata": {
        "id": "1VEDDMrjn26z",
        "colab_type": "text"
      },
      "source": [
        "In the above case there are proper indexing before date column but we can use the date column as index."
      ]
    },
    {
      "cell_type": "code",
      "metadata": {
        "id": "yG0T-411oF9F",
        "colab_type": "code",
        "colab": {}
      },
      "source": [
        "nifty50_2018 = pd.read_csv('NIFTY50_2018.csv', index_col=0)"
      ],
      "execution_count": null,
      "outputs": []
    },
    {
      "cell_type": "code",
      "metadata": {
        "id": "OX-8W9vpodlT",
        "colab_type": "code",
        "colab": {
          "base_uri": "https://localhost:8080/",
          "height": 337
        },
        "outputId": "9fc3ceb4-c07d-4dc7-edf2-13b8343ead8e"
      },
      "source": [
        "nifty50_2018.head()"
      ],
      "execution_count": null,
      "outputs": [
        {
          "output_type": "execute_result",
          "data": {
            "text/html": [
              "<div>\n",
              "<style scoped>\n",
              "    .dataframe tbody tr th:only-of-type {\n",
              "        vertical-align: middle;\n",
              "    }\n",
              "\n",
              "    .dataframe tbody tr th {\n",
              "        vertical-align: top;\n",
              "    }\n",
              "\n",
              "    .dataframe thead th {\n",
              "        text-align: right;\n",
              "    }\n",
              "</style>\n",
              "<table border=\"1\" class=\"dataframe\">\n",
              "  <thead>\n",
              "    <tr style=\"text-align: right;\">\n",
              "      <th></th>\n",
              "      <th>Open</th>\n",
              "      <th>High</th>\n",
              "      <th>Low</th>\n",
              "      <th>Close</th>\n",
              "      <th>Shares Traded</th>\n",
              "      <th>Turnover (Rs. Cr)</th>\n",
              "    </tr>\n",
              "    <tr>\n",
              "      <th>Date</th>\n",
              "      <th></th>\n",
              "      <th></th>\n",
              "      <th></th>\n",
              "      <th></th>\n",
              "      <th></th>\n",
              "      <th></th>\n",
              "    </tr>\n",
              "  </thead>\n",
              "  <tbody>\n",
              "    <tr>\n",
              "      <th>01-Jan-2018</th>\n",
              "      <td>10531.70</td>\n",
              "      <td>10537.85</td>\n",
              "      <td>10423.10</td>\n",
              "      <td>10435.55</td>\n",
              "      <td>134532090</td>\n",
              "      <td>7546.56</td>\n",
              "    </tr>\n",
              "    <tr>\n",
              "      <th>02-Jan-2018</th>\n",
              "      <td>10477.55</td>\n",
              "      <td>10495.20</td>\n",
              "      <td>10404.65</td>\n",
              "      <td>10442.20</td>\n",
              "      <td>158092430</td>\n",
              "      <td>8665.47</td>\n",
              "    </tr>\n",
              "    <tr>\n",
              "      <th>03-Jan-2018</th>\n",
              "      <td>10482.65</td>\n",
              "      <td>10503.60</td>\n",
              "      <td>10429.55</td>\n",
              "      <td>10443.20</td>\n",
              "      <td>172516859</td>\n",
              "      <td>9541.60</td>\n",
              "    </tr>\n",
              "    <tr>\n",
              "      <th>04-Jan-2018</th>\n",
              "      <td>10469.40</td>\n",
              "      <td>10513.00</td>\n",
              "      <td>10441.45</td>\n",
              "      <td>10504.80</td>\n",
              "      <td>180257392</td>\n",
              "      <td>9561.95</td>\n",
              "    </tr>\n",
              "    <tr>\n",
              "      <th>05-Jan-2018</th>\n",
              "      <td>10534.25</td>\n",
              "      <td>10566.10</td>\n",
              "      <td>10520.10</td>\n",
              "      <td>10558.85</td>\n",
              "      <td>186469717</td>\n",
              "      <td>10306.22</td>\n",
              "    </tr>\n",
              "  </tbody>\n",
              "</table>\n",
              "</div>"
            ],
            "text/plain": [
              "                 Open      High  ...  Shares Traded  Turnover (Rs. Cr)\n",
              "Date                             ...                                  \n",
              "01-Jan-2018  10531.70  10537.85  ...      134532090            7546.56\n",
              "02-Jan-2018  10477.55  10495.20  ...      158092430            8665.47\n",
              "03-Jan-2018  10482.65  10503.60  ...      172516859            9541.60\n",
              "04-Jan-2018  10469.40  10513.00  ...      180257392            9561.95\n",
              "05-Jan-2018  10534.25  10566.10  ...      186469717           10306.22\n",
              "\n",
              "[5 rows x 6 columns]"
            ]
          },
          "metadata": {
            "tags": []
          },
          "execution_count": 46
        }
      ]
    },
    {
      "cell_type": "code",
      "metadata": {
        "id": "xW3s4W98kuBy",
        "colab_type": "code",
        "colab": {
          "base_uri": "https://localhost:8080/",
          "height": 136
        },
        "outputId": "0b26414b-d545-48fc-ae86-939a4c96a357"
      },
      "source": [
        "nifty50_2018.loc['24-Dec-2018']"
      ],
      "execution_count": null,
      "outputs": [
        {
          "output_type": "execute_result",
          "data": {
            "text/plain": [
              "Open                 1.078090e+04\n",
              "High                 1.078230e+04\n",
              "Low                  1.064925e+04\n",
              "Close                1.066350e+04\n",
              "Shares Traded        2.302913e+08\n",
              "Turnover (Rs. Cr)    1.069560e+04\n",
              "Name: 24-Dec-2018, dtype: float64"
            ]
          },
          "metadata": {
            "tags": []
          },
          "execution_count": 47
        }
      ]
    },
    {
      "cell_type": "code",
      "metadata": {
        "id": "8Ckys7oGnmLx",
        "colab_type": "code",
        "colab": {
          "base_uri": "https://localhost:8080/",
          "height": 238
        },
        "outputId": "ef358c10-0d6a-4cf5-8303-9bd55b794f76"
      },
      "source": [
        "nifty50_2018['Open']"
      ],
      "execution_count": null,
      "outputs": [
        {
          "output_type": "execute_result",
          "data": {
            "text/plain": [
              "Date\n",
              "01-Jan-2018    10531.70\n",
              "02-Jan-2018    10477.55\n",
              "03-Jan-2018    10482.65\n",
              "04-Jan-2018    10469.40\n",
              "05-Jan-2018    10534.25\n",
              "                 ...   \n",
              "24-Dec-2018    10780.90\n",
              "26-Dec-2018    10635.45\n",
              "27-Dec-2018    10817.90\n",
              "28-Dec-2018    10820.95\n",
              "31-Dec-2018    10913.20\n",
              "Name: Open, Length: 246, dtype: float64"
            ]
          },
          "metadata": {
            "tags": []
          },
          "execution_count": 48
        }
      ]
    },
    {
      "cell_type": "code",
      "metadata": {
        "id": "x6RvLmNBprgb",
        "colab_type": "code",
        "colab": {}
      },
      "source": [
        "nifty50_2019 = pd.read_csv('NIFTY50_2019.csv', index_col=0)"
      ],
      "execution_count": null,
      "outputs": []
    },
    {
      "cell_type": "code",
      "metadata": {
        "id": "HFb6nI67p-3g",
        "colab_type": "code",
        "colab": {
          "base_uri": "https://localhost:8080/",
          "height": 337
        },
        "outputId": "8253874a-3482-40c5-db88-c35875f0aa65"
      },
      "source": [
        "nifty50_2019.head()"
      ],
      "execution_count": null,
      "outputs": [
        {
          "output_type": "execute_result",
          "data": {
            "text/html": [
              "<div>\n",
              "<style scoped>\n",
              "    .dataframe tbody tr th:only-of-type {\n",
              "        vertical-align: middle;\n",
              "    }\n",
              "\n",
              "    .dataframe tbody tr th {\n",
              "        vertical-align: top;\n",
              "    }\n",
              "\n",
              "    .dataframe thead th {\n",
              "        text-align: right;\n",
              "    }\n",
              "</style>\n",
              "<table border=\"1\" class=\"dataframe\">\n",
              "  <thead>\n",
              "    <tr style=\"text-align: right;\">\n",
              "      <th></th>\n",
              "      <th>Open</th>\n",
              "      <th>High</th>\n",
              "      <th>Low</th>\n",
              "      <th>Close</th>\n",
              "      <th>Shares Traded</th>\n",
              "      <th>Turnover (Rs. Cr)</th>\n",
              "    </tr>\n",
              "    <tr>\n",
              "      <th>Date</th>\n",
              "      <th></th>\n",
              "      <th></th>\n",
              "      <th></th>\n",
              "      <th></th>\n",
              "      <th></th>\n",
              "      <th></th>\n",
              "    </tr>\n",
              "  </thead>\n",
              "  <tbody>\n",
              "    <tr>\n",
              "      <th>01-Jan-2019</th>\n",
              "      <td>10881.70</td>\n",
              "      <td>10923.60</td>\n",
              "      <td>10807.10</td>\n",
              "      <td>10910.10</td>\n",
              "      <td>159404542</td>\n",
              "      <td>8688.26</td>\n",
              "    </tr>\n",
              "    <tr>\n",
              "      <th>02-Jan-2019</th>\n",
              "      <td>10868.85</td>\n",
              "      <td>10895.35</td>\n",
              "      <td>10735.05</td>\n",
              "      <td>10792.50</td>\n",
              "      <td>309665939</td>\n",
              "      <td>15352.25</td>\n",
              "    </tr>\n",
              "    <tr>\n",
              "      <th>03-Jan-2019</th>\n",
              "      <td>10796.80</td>\n",
              "      <td>10814.05</td>\n",
              "      <td>10661.25</td>\n",
              "      <td>10672.25</td>\n",
              "      <td>286241745</td>\n",
              "      <td>15030.45</td>\n",
              "    </tr>\n",
              "    <tr>\n",
              "      <th>04-Jan-2019</th>\n",
              "      <td>10699.70</td>\n",
              "      <td>10741.05</td>\n",
              "      <td>10628.65</td>\n",
              "      <td>10727.35</td>\n",
              "      <td>296596655</td>\n",
              "      <td>14516.74</td>\n",
              "    </tr>\n",
              "    <tr>\n",
              "      <th>07-Jan-2019</th>\n",
              "      <td>10804.85</td>\n",
              "      <td>10835.95</td>\n",
              "      <td>10750.15</td>\n",
              "      <td>10771.80</td>\n",
              "      <td>269371080</td>\n",
              "      <td>12731.29</td>\n",
              "    </tr>\n",
              "  </tbody>\n",
              "</table>\n",
              "</div>"
            ],
            "text/plain": [
              "                 Open      High  ...  Shares Traded  Turnover (Rs. Cr)\n",
              "Date                             ...                                  \n",
              "01-Jan-2019  10881.70  10923.60  ...      159404542            8688.26\n",
              "02-Jan-2019  10868.85  10895.35  ...      309665939           15352.25\n",
              "03-Jan-2019  10796.80  10814.05  ...      286241745           15030.45\n",
              "04-Jan-2019  10699.70  10741.05  ...      296596655           14516.74\n",
              "07-Jan-2019  10804.85  10835.95  ...      269371080           12731.29\n",
              "\n",
              "[5 rows x 6 columns]"
            ]
          },
          "metadata": {
            "tags": []
          },
          "execution_count": 50
        }
      ]
    },
    {
      "cell_type": "markdown",
      "metadata": {
        "id": "8l75GgzIwcE6",
        "colab_type": "text"
      },
      "source": [
        "In the case of same type of datasets we can concatinate these two datasets row wise"
      ]
    },
    {
      "cell_type": "code",
      "metadata": {
        "id": "3XxqrCBSwy9Z",
        "colab_type": "code",
        "colab": {
          "base_uri": "https://localhost:8080/",
          "height": 34
        },
        "outputId": "780cdd03-0bf8-46c2-815a-89f828d66af7"
      },
      "source": [
        "print(nifty50_2018.shape, nifty50_2019.shape)"
      ],
      "execution_count": null,
      "outputs": [
        {
          "output_type": "stream",
          "text": [
            "(246, 6) (245, 6)\n"
          ],
          "name": "stdout"
        }
      ]
    },
    {
      "cell_type": "code",
      "metadata": {
        "id": "tIN1tnNzqAfd",
        "colab_type": "code",
        "colab": {}
      },
      "source": [
        "nifty50 = pd.concat([nifty50_2018, nifty50_2019])"
      ],
      "execution_count": null,
      "outputs": []
    },
    {
      "cell_type": "code",
      "metadata": {
        "id": "kvlHXHZ0wpMp",
        "colab_type": "code",
        "colab": {
          "base_uri": "https://localhost:8080/",
          "height": 34
        },
        "outputId": "07fd7e97-438e-4076-ac1b-a870d1b4b852"
      },
      "source": [
        "nifty50.shape"
      ],
      "execution_count": null,
      "outputs": [
        {
          "output_type": "execute_result",
          "data": {
            "text/plain": [
              "(491, 6)"
            ]
          },
          "metadata": {
            "tags": []
          },
          "execution_count": 53
        }
      ]
    },
    {
      "cell_type": "code",
      "metadata": {
        "id": "HoXKm45EH4AL",
        "colab_type": "code",
        "colab": {}
      },
      "source": [
        "niftynext50_2019 = pd.read_csv('NIFTYNEXT50_2019.csv', index_col=0)"
      ],
      "execution_count": null,
      "outputs": []
    },
    {
      "cell_type": "code",
      "metadata": {
        "id": "iGqY9B4ZITWw",
        "colab_type": "code",
        "colab": {
          "base_uri": "https://localhost:8080/",
          "height": 637
        },
        "outputId": "3931ec07-0886-4ee5-f3eb-7359db1971d9"
      },
      "source": [
        "niftynext50_2019"
      ],
      "execution_count": null,
      "outputs": [
        {
          "output_type": "execute_result",
          "data": {
            "text/html": [
              "<div>\n",
              "<style scoped>\n",
              "    .dataframe tbody tr th:only-of-type {\n",
              "        vertical-align: middle;\n",
              "    }\n",
              "\n",
              "    .dataframe tbody tr th {\n",
              "        vertical-align: top;\n",
              "    }\n",
              "\n",
              "    .dataframe thead th {\n",
              "        text-align: right;\n",
              "    }\n",
              "</style>\n",
              "<table border=\"1\" class=\"dataframe\">\n",
              "  <thead>\n",
              "    <tr style=\"text-align: right;\">\n",
              "      <th></th>\n",
              "      <th>Open</th>\n",
              "      <th>High</th>\n",
              "      <th>Low</th>\n",
              "      <th>Close</th>\n",
              "      <th>Shares Traded</th>\n",
              "      <th>Turnover (Rs. Cr)</th>\n",
              "    </tr>\n",
              "    <tr>\n",
              "      <th>Date</th>\n",
              "      <th></th>\n",
              "      <th></th>\n",
              "      <th></th>\n",
              "      <th></th>\n",
              "      <th></th>\n",
              "      <th></th>\n",
              "    </tr>\n",
              "  </thead>\n",
              "  <tbody>\n",
              "    <tr>\n",
              "      <th>01-Jan-2019</th>\n",
              "      <td>28243.95</td>\n",
              "      <td>28252.20</td>\n",
              "      <td>27988.60</td>\n",
              "      <td>28111.65</td>\n",
              "      <td>100916543</td>\n",
              "      <td>2354.60</td>\n",
              "    </tr>\n",
              "    <tr>\n",
              "      <th>02-Jan-2019</th>\n",
              "      <td>28074.05</td>\n",
              "      <td>28188.40</td>\n",
              "      <td>27801.75</td>\n",
              "      <td>27876.95</td>\n",
              "      <td>167334185</td>\n",
              "      <td>3410.28</td>\n",
              "    </tr>\n",
              "    <tr>\n",
              "      <th>03-Jan-2019</th>\n",
              "      <td>27874.05</td>\n",
              "      <td>28045.30</td>\n",
              "      <td>27630.20</td>\n",
              "      <td>27674.65</td>\n",
              "      <td>175238949</td>\n",
              "      <td>3362.20</td>\n",
              "    </tr>\n",
              "    <tr>\n",
              "      <th>04-Jan-2019</th>\n",
              "      <td>27707.20</td>\n",
              "      <td>27842.75</td>\n",
              "      <td>27533.90</td>\n",
              "      <td>27719.50</td>\n",
              "      <td>163387940</td>\n",
              "      <td>3295.06</td>\n",
              "    </tr>\n",
              "    <tr>\n",
              "      <th>07-Jan-2019</th>\n",
              "      <td>27893.95</td>\n",
              "      <td>27932.00</td>\n",
              "      <td>27652.95</td>\n",
              "      <td>27706.60</td>\n",
              "      <td>135700262</td>\n",
              "      <td>2862.02</td>\n",
              "    </tr>\n",
              "    <tr>\n",
              "      <th>...</th>\n",
              "      <td>...</td>\n",
              "      <td>...</td>\n",
              "      <td>...</td>\n",
              "      <td>...</td>\n",
              "      <td>...</td>\n",
              "      <td>...</td>\n",
              "    </tr>\n",
              "    <tr>\n",
              "      <th>24-Dec-2019</th>\n",
              "      <td>28423.70</td>\n",
              "      <td>28430.40</td>\n",
              "      <td>28318.75</td>\n",
              "      <td>28382.85</td>\n",
              "      <td>250955193</td>\n",
              "      <td>4047.51</td>\n",
              "    </tr>\n",
              "    <tr>\n",
              "      <th>26-Dec-2019</th>\n",
              "      <td>28409.10</td>\n",
              "      <td>28435.25</td>\n",
              "      <td>28259.75</td>\n",
              "      <td>28280.25</td>\n",
              "      <td>341108696</td>\n",
              "      <td>4493.23</td>\n",
              "    </tr>\n",
              "    <tr>\n",
              "      <th>27-Dec-2019</th>\n",
              "      <td>28354.50</td>\n",
              "      <td>28500.25</td>\n",
              "      <td>28319.90</td>\n",
              "      <td>28476.80</td>\n",
              "      <td>324272733</td>\n",
              "      <td>4776.47</td>\n",
              "    </tr>\n",
              "    <tr>\n",
              "      <th>30-Dec-2019</th>\n",
              "      <td>28528.95</td>\n",
              "      <td>28612.95</td>\n",
              "      <td>28406.70</td>\n",
              "      <td>28484.85</td>\n",
              "      <td>291220117</td>\n",
              "      <td>3492.11</td>\n",
              "    </tr>\n",
              "    <tr>\n",
              "      <th>31-Dec-2019</th>\n",
              "      <td>28495.00</td>\n",
              "      <td>28549.50</td>\n",
              "      <td>28270.25</td>\n",
              "      <td>28307.55</td>\n",
              "      <td>315369397</td>\n",
              "      <td>4223.10</td>\n",
              "    </tr>\n",
              "  </tbody>\n",
              "</table>\n",
              "<p>245 rows × 6 columns</p>\n",
              "</div>"
            ],
            "text/plain": [
              "                 Open      High  ...    Shares Traded  Turnover (Rs. Cr)\n",
              "Date                             ...                                    \n",
              "01-Jan-2019  28243.95  28252.20  ...        100916543            2354.60\n",
              "02-Jan-2019  28074.05  28188.40  ...        167334185            3410.28\n",
              "03-Jan-2019  27874.05  28045.30  ...        175238949            3362.20\n",
              "04-Jan-2019  27707.20  27842.75  ...        163387940            3295.06\n",
              "07-Jan-2019  27893.95  27932.00  ...        135700262            2862.02\n",
              "...               ...       ...  ...              ...                ...\n",
              "24-Dec-2019  28423.70  28430.40  ...        250955193            4047.51\n",
              "26-Dec-2019  28409.10  28435.25  ...        341108696            4493.23\n",
              "27-Dec-2019  28354.50  28500.25  ...        324272733            4776.47\n",
              "30-Dec-2019  28528.95  28612.95  ...        291220117            3492.11\n",
              "31-Dec-2019  28495.00  28549.50  ...        315369397            4223.10\n",
              "\n",
              "[245 rows x 6 columns]"
            ]
          },
          "metadata": {
            "tags": []
          },
          "execution_count": 55
        }
      ]
    },
    {
      "cell_type": "markdown",
      "metadata": {
        "id": "Eoi6xgfKIsgc",
        "colab_type": "text"
      },
      "source": [
        "Now we concat nifty50_2019 and niftynext50_2019 dataset column wise"
      ]
    },
    {
      "cell_type": "code",
      "metadata": {
        "id": "Vi6kOc2yIVJa",
        "colab_type": "code",
        "colab": {}
      },
      "source": [
        "nifty2019 = pd.concat([nifty50_2019, niftynext50_2019], axis = 1)"
      ],
      "execution_count": null,
      "outputs": []
    },
    {
      "cell_type": "code",
      "metadata": {
        "id": "2kvO3hH4JEEo",
        "colab_type": "code",
        "colab": {
          "base_uri": "https://localhost:8080/",
          "height": 473
        },
        "outputId": "a9374626-2c70-43b0-fb8e-e07a0ae44584"
      },
      "source": [
        "nifty2019.head()"
      ],
      "execution_count": null,
      "outputs": [
        {
          "output_type": "execute_result",
          "data": {
            "text/html": [
              "<div>\n",
              "<style scoped>\n",
              "    .dataframe tbody tr th:only-of-type {\n",
              "        vertical-align: middle;\n",
              "    }\n",
              "\n",
              "    .dataframe tbody tr th {\n",
              "        vertical-align: top;\n",
              "    }\n",
              "\n",
              "    .dataframe thead tr th {\n",
              "        text-align: left;\n",
              "    }\n",
              "\n",
              "    .dataframe thead tr:last-of-type th {\n",
              "        text-align: right;\n",
              "    }\n",
              "</style>\n",
              "<table border=\"1\" class=\"dataframe\">\n",
              "  <thead>\n",
              "    <tr>\n",
              "      <th></th>\n",
              "      <th colspan=\"6\" halign=\"left\">nifty50</th>\n",
              "      <th colspan=\"6\" halign=\"left\">niftynext50</th>\n",
              "    </tr>\n",
              "    <tr>\n",
              "      <th></th>\n",
              "      <th>Open</th>\n",
              "      <th>High</th>\n",
              "      <th>Low</th>\n",
              "      <th>Close</th>\n",
              "      <th>Shares Traded</th>\n",
              "      <th>Turnover (Rs. Cr)</th>\n",
              "      <th>Open</th>\n",
              "      <th>High</th>\n",
              "      <th>Low</th>\n",
              "      <th>Close</th>\n",
              "      <th>Shares Traded</th>\n",
              "      <th>Turnover (Rs. Cr)</th>\n",
              "    </tr>\n",
              "    <tr>\n",
              "      <th>Date</th>\n",
              "      <th></th>\n",
              "      <th></th>\n",
              "      <th></th>\n",
              "      <th></th>\n",
              "      <th></th>\n",
              "      <th></th>\n",
              "      <th></th>\n",
              "      <th></th>\n",
              "      <th></th>\n",
              "      <th></th>\n",
              "      <th></th>\n",
              "      <th></th>\n",
              "    </tr>\n",
              "  </thead>\n",
              "  <tbody>\n",
              "    <tr>\n",
              "      <th>01-Jan-2019</th>\n",
              "      <td>10881.70</td>\n",
              "      <td>10923.60</td>\n",
              "      <td>10807.10</td>\n",
              "      <td>10910.10</td>\n",
              "      <td>159404542</td>\n",
              "      <td>8688.26</td>\n",
              "      <td>28243.95</td>\n",
              "      <td>28252.20</td>\n",
              "      <td>27988.60</td>\n",
              "      <td>28111.65</td>\n",
              "      <td>100916543</td>\n",
              "      <td>2354.60</td>\n",
              "    </tr>\n",
              "    <tr>\n",
              "      <th>02-Jan-2019</th>\n",
              "      <td>10868.85</td>\n",
              "      <td>10895.35</td>\n",
              "      <td>10735.05</td>\n",
              "      <td>10792.50</td>\n",
              "      <td>309665939</td>\n",
              "      <td>15352.25</td>\n",
              "      <td>28074.05</td>\n",
              "      <td>28188.40</td>\n",
              "      <td>27801.75</td>\n",
              "      <td>27876.95</td>\n",
              "      <td>167334185</td>\n",
              "      <td>3410.28</td>\n",
              "    </tr>\n",
              "    <tr>\n",
              "      <th>03-Jan-2019</th>\n",
              "      <td>10796.80</td>\n",
              "      <td>10814.05</td>\n",
              "      <td>10661.25</td>\n",
              "      <td>10672.25</td>\n",
              "      <td>286241745</td>\n",
              "      <td>15030.45</td>\n",
              "      <td>27874.05</td>\n",
              "      <td>28045.30</td>\n",
              "      <td>27630.20</td>\n",
              "      <td>27674.65</td>\n",
              "      <td>175238949</td>\n",
              "      <td>3362.20</td>\n",
              "    </tr>\n",
              "    <tr>\n",
              "      <th>04-Jan-2019</th>\n",
              "      <td>10699.70</td>\n",
              "      <td>10741.05</td>\n",
              "      <td>10628.65</td>\n",
              "      <td>10727.35</td>\n",
              "      <td>296596655</td>\n",
              "      <td>14516.74</td>\n",
              "      <td>27707.20</td>\n",
              "      <td>27842.75</td>\n",
              "      <td>27533.90</td>\n",
              "      <td>27719.50</td>\n",
              "      <td>163387940</td>\n",
              "      <td>3295.06</td>\n",
              "    </tr>\n",
              "    <tr>\n",
              "      <th>07-Jan-2019</th>\n",
              "      <td>10804.85</td>\n",
              "      <td>10835.95</td>\n",
              "      <td>10750.15</td>\n",
              "      <td>10771.80</td>\n",
              "      <td>269371080</td>\n",
              "      <td>12731.29</td>\n",
              "      <td>27893.95</td>\n",
              "      <td>27932.00</td>\n",
              "      <td>27652.95</td>\n",
              "      <td>27706.60</td>\n",
              "      <td>135700262</td>\n",
              "      <td>2862.02</td>\n",
              "    </tr>\n",
              "  </tbody>\n",
              "</table>\n",
              "</div>"
            ],
            "text/plain": [
              "              nifty50            ...      niftynext50                  \n",
              "                 Open      High  ...    Shares Traded Turnover (Rs. Cr)\n",
              "Date                             ...                                   \n",
              "01-Jan-2019  10881.70  10923.60  ...        100916543           2354.60\n",
              "02-Jan-2019  10868.85  10895.35  ...        167334185           3410.28\n",
              "03-Jan-2019  10796.80  10814.05  ...        175238949           3362.20\n",
              "04-Jan-2019  10699.70  10741.05  ...        163387940           3295.06\n",
              "07-Jan-2019  10804.85  10835.95  ...        135700262           2862.02\n",
              "\n",
              "[5 rows x 12 columns]"
            ]
          },
          "metadata": {
            "tags": []
          },
          "execution_count": 57
        }
      ]
    },
    {
      "cell_type": "code",
      "metadata": {
        "id": "1KjQvP_ZJItY",
        "colab_type": "code",
        "colab": {
          "base_uri": "https://localhost:8080/",
          "height": 34
        },
        "outputId": "5595c61f-8ffd-4167-adde-dd1980ba8988"
      },
      "source": [
        "nifty2019.shape"
      ],
      "execution_count": null,
      "outputs": [
        {
          "output_type": "execute_result",
          "data": {
            "text/plain": [
              "(245, 12)"
            ]
          },
          "metadata": {
            "tags": []
          },
          "execution_count": 58
        }
      ]
    },
    {
      "cell_type": "markdown",
      "metadata": {
        "id": "Arj7ACc-Jkjy",
        "colab_type": "text"
      },
      "source": [
        "In the above case we see that there are some columns which are same names. Therefore it creates confusions and this is not a good practice.\n",
        "\n",
        "For this case there is an advance concept called hierarchical indexing"
      ]
    },
    {
      "cell_type": "code",
      "metadata": {
        "id": "cZKh_olEJOL8",
        "colab_type": "code",
        "colab": {}
      },
      "source": [
        "nifty2019 = pd.concat([nifty50_2019, niftynext50_2019],\n",
        "                      axis = 1,\n",
        "                      keys = ['nifty50', 'niftynext50'])"
      ],
      "execution_count": null,
      "outputs": []
    },
    {
      "cell_type": "code",
      "metadata": {
        "id": "57yz8ISYKvds",
        "colab_type": "code",
        "colab": {
          "base_uri": "https://localhost:8080/",
          "height": 473
        },
        "outputId": "031cac69-c46a-45b9-c465-e2f89496165b"
      },
      "source": [
        "nifty2019.head()"
      ],
      "execution_count": null,
      "outputs": [
        {
          "output_type": "execute_result",
          "data": {
            "text/html": [
              "<div>\n",
              "<style scoped>\n",
              "    .dataframe tbody tr th:only-of-type {\n",
              "        vertical-align: middle;\n",
              "    }\n",
              "\n",
              "    .dataframe tbody tr th {\n",
              "        vertical-align: top;\n",
              "    }\n",
              "\n",
              "    .dataframe thead tr th {\n",
              "        text-align: left;\n",
              "    }\n",
              "\n",
              "    .dataframe thead tr:last-of-type th {\n",
              "        text-align: right;\n",
              "    }\n",
              "</style>\n",
              "<table border=\"1\" class=\"dataframe\">\n",
              "  <thead>\n",
              "    <tr>\n",
              "      <th></th>\n",
              "      <th colspan=\"6\" halign=\"left\">nifty50</th>\n",
              "      <th colspan=\"6\" halign=\"left\">niftynext50</th>\n",
              "    </tr>\n",
              "    <tr>\n",
              "      <th></th>\n",
              "      <th>Open</th>\n",
              "      <th>High</th>\n",
              "      <th>Low</th>\n",
              "      <th>Close</th>\n",
              "      <th>Shares Traded</th>\n",
              "      <th>Turnover (Rs. Cr)</th>\n",
              "      <th>Open</th>\n",
              "      <th>High</th>\n",
              "      <th>Low</th>\n",
              "      <th>Close</th>\n",
              "      <th>Shares Traded</th>\n",
              "      <th>Turnover (Rs. Cr)</th>\n",
              "    </tr>\n",
              "    <tr>\n",
              "      <th>Date</th>\n",
              "      <th></th>\n",
              "      <th></th>\n",
              "      <th></th>\n",
              "      <th></th>\n",
              "      <th></th>\n",
              "      <th></th>\n",
              "      <th></th>\n",
              "      <th></th>\n",
              "      <th></th>\n",
              "      <th></th>\n",
              "      <th></th>\n",
              "      <th></th>\n",
              "    </tr>\n",
              "  </thead>\n",
              "  <tbody>\n",
              "    <tr>\n",
              "      <th>01-Jan-2019</th>\n",
              "      <td>10881.70</td>\n",
              "      <td>10923.60</td>\n",
              "      <td>10807.10</td>\n",
              "      <td>10910.10</td>\n",
              "      <td>159404542</td>\n",
              "      <td>8688.26</td>\n",
              "      <td>28243.95</td>\n",
              "      <td>28252.20</td>\n",
              "      <td>27988.60</td>\n",
              "      <td>28111.65</td>\n",
              "      <td>100916543</td>\n",
              "      <td>2354.60</td>\n",
              "    </tr>\n",
              "    <tr>\n",
              "      <th>02-Jan-2019</th>\n",
              "      <td>10868.85</td>\n",
              "      <td>10895.35</td>\n",
              "      <td>10735.05</td>\n",
              "      <td>10792.50</td>\n",
              "      <td>309665939</td>\n",
              "      <td>15352.25</td>\n",
              "      <td>28074.05</td>\n",
              "      <td>28188.40</td>\n",
              "      <td>27801.75</td>\n",
              "      <td>27876.95</td>\n",
              "      <td>167334185</td>\n",
              "      <td>3410.28</td>\n",
              "    </tr>\n",
              "    <tr>\n",
              "      <th>03-Jan-2019</th>\n",
              "      <td>10796.80</td>\n",
              "      <td>10814.05</td>\n",
              "      <td>10661.25</td>\n",
              "      <td>10672.25</td>\n",
              "      <td>286241745</td>\n",
              "      <td>15030.45</td>\n",
              "      <td>27874.05</td>\n",
              "      <td>28045.30</td>\n",
              "      <td>27630.20</td>\n",
              "      <td>27674.65</td>\n",
              "      <td>175238949</td>\n",
              "      <td>3362.20</td>\n",
              "    </tr>\n",
              "    <tr>\n",
              "      <th>04-Jan-2019</th>\n",
              "      <td>10699.70</td>\n",
              "      <td>10741.05</td>\n",
              "      <td>10628.65</td>\n",
              "      <td>10727.35</td>\n",
              "      <td>296596655</td>\n",
              "      <td>14516.74</td>\n",
              "      <td>27707.20</td>\n",
              "      <td>27842.75</td>\n",
              "      <td>27533.90</td>\n",
              "      <td>27719.50</td>\n",
              "      <td>163387940</td>\n",
              "      <td>3295.06</td>\n",
              "    </tr>\n",
              "    <tr>\n",
              "      <th>07-Jan-2019</th>\n",
              "      <td>10804.85</td>\n",
              "      <td>10835.95</td>\n",
              "      <td>10750.15</td>\n",
              "      <td>10771.80</td>\n",
              "      <td>269371080</td>\n",
              "      <td>12731.29</td>\n",
              "      <td>27893.95</td>\n",
              "      <td>27932.00</td>\n",
              "      <td>27652.95</td>\n",
              "      <td>27706.60</td>\n",
              "      <td>135700262</td>\n",
              "      <td>2862.02</td>\n",
              "    </tr>\n",
              "  </tbody>\n",
              "</table>\n",
              "</div>"
            ],
            "text/plain": [
              "              nifty50            ...      niftynext50                  \n",
              "                 Open      High  ...    Shares Traded Turnover (Rs. Cr)\n",
              "Date                             ...                                   \n",
              "01-Jan-2019  10881.70  10923.60  ...        100916543           2354.60\n",
              "02-Jan-2019  10868.85  10895.35  ...        167334185           3410.28\n",
              "03-Jan-2019  10796.80  10814.05  ...        175238949           3362.20\n",
              "04-Jan-2019  10699.70  10741.05  ...        163387940           3295.06\n",
              "07-Jan-2019  10804.85  10835.95  ...        135700262           2862.02\n",
              "\n",
              "[5 rows x 12 columns]"
            ]
          },
          "metadata": {
            "tags": []
          },
          "execution_count": 60
        }
      ]
    },
    {
      "cell_type": "markdown",
      "metadata": {
        "id": "mwrYc44AMcCh",
        "colab_type": "text"
      },
      "source": [
        "Interestingly now we can access different slices of the dataframe."
      ]
    },
    {
      "cell_type": "code",
      "metadata": {
        "id": "x6nJZFUxKyT6",
        "colab_type": "code",
        "colab": {
          "base_uri": "https://localhost:8080/",
          "height": 238
        },
        "outputId": "eceabda3-47aa-4f94-93a6-8bf19d7b2a20"
      },
      "source": [
        "nifty2019['nifty50']['Close']"
      ],
      "execution_count": null,
      "outputs": [
        {
          "output_type": "execute_result",
          "data": {
            "text/plain": [
              "Date\n",
              "01-Jan-2019    10910.10\n",
              "02-Jan-2019    10792.50\n",
              "03-Jan-2019    10672.25\n",
              "04-Jan-2019    10727.35\n",
              "07-Jan-2019    10771.80\n",
              "                 ...   \n",
              "24-Dec-2019    12214.55\n",
              "26-Dec-2019    12126.55\n",
              "27-Dec-2019    12245.80\n",
              "30-Dec-2019    12255.85\n",
              "31-Dec-2019    12168.45\n",
              "Name: Close, Length: 245, dtype: float64"
            ]
          },
          "metadata": {
            "tags": []
          },
          "execution_count": 61
        }
      ]
    },
    {
      "cell_type": "code",
      "metadata": {
        "id": "FiHBj53IMsBB",
        "colab_type": "code",
        "colab": {
          "base_uri": "https://localhost:8080/",
          "height": 34
        },
        "outputId": "95b36571-d795-4c01-ffeb-925ae96a1ecf"
      },
      "source": [
        "nifty2019['nifty50']['Close'].loc['02-Jan-2019']"
      ],
      "execution_count": null,
      "outputs": [
        {
          "output_type": "execute_result",
          "data": {
            "text/plain": [
              "10792.5"
            ]
          },
          "metadata": {
            "tags": []
          },
          "execution_count": 62
        }
      ]
    },
    {
      "cell_type": "code",
      "metadata": {
        "id": "viuygSCNN7bD",
        "colab_type": "code",
        "colab": {
          "base_uri": "https://localhost:8080/",
          "height": 136
        },
        "outputId": "d16f5bdc-4b9a-461c-da59-b72414545ec9"
      },
      "source": [
        "nifty2019['nifty50'].loc['02-Jan-2019']"
      ],
      "execution_count": null,
      "outputs": [
        {
          "output_type": "execute_result",
          "data": {
            "text/plain": [
              "Open                 1.086885e+04\n",
              "High                 1.089535e+04\n",
              "Low                  1.073505e+04\n",
              "Close                1.079250e+04\n",
              "Shares Traded        3.096659e+08\n",
              "Turnover (Rs. Cr)    1.535225e+04\n",
              "Name: 02-Jan-2019, dtype: float64"
            ]
          },
          "metadata": {
            "tags": []
          },
          "execution_count": 63
        }
      ]
    },
    {
      "cell_type": "code",
      "metadata": {
        "id": "tw7-vTP5OAvy",
        "colab_type": "code",
        "colab": {
          "base_uri": "https://localhost:8080/",
          "height": 266
        },
        "outputId": "d74a1db3-e081-44aa-c66d-7d2a007c18da"
      },
      "source": [
        "import pandas as pd\n",
        "# years2days = lambda x: x * 365.25\n",
        "data = [['A', 10], ['B', 15], ['C', 14], ['D', 14], ['E', 12], ['F', 10], ['G', 11]]\n",
        "df = pd.DataFrame(data, index = ['a', 'b', 'c', 'd', 'e', 'f', 'g'],  columns = ['Name', 'Age'])\n",
        "df"
      ],
      "execution_count": null,
      "outputs": [
        {
          "output_type": "execute_result",
          "data": {
            "text/html": [
              "<div>\n",
              "<style scoped>\n",
              "    .dataframe tbody tr th:only-of-type {\n",
              "        vertical-align: middle;\n",
              "    }\n",
              "\n",
              "    .dataframe tbody tr th {\n",
              "        vertical-align: top;\n",
              "    }\n",
              "\n",
              "    .dataframe thead th {\n",
              "        text-align: right;\n",
              "    }\n",
              "</style>\n",
              "<table border=\"1\" class=\"dataframe\">\n",
              "  <thead>\n",
              "    <tr style=\"text-align: right;\">\n",
              "      <th></th>\n",
              "      <th>Name</th>\n",
              "      <th>Age</th>\n",
              "    </tr>\n",
              "  </thead>\n",
              "  <tbody>\n",
              "    <tr>\n",
              "      <th>a</th>\n",
              "      <td>A</td>\n",
              "      <td>10</td>\n",
              "    </tr>\n",
              "    <tr>\n",
              "      <th>b</th>\n",
              "      <td>B</td>\n",
              "      <td>15</td>\n",
              "    </tr>\n",
              "    <tr>\n",
              "      <th>c</th>\n",
              "      <td>C</td>\n",
              "      <td>14</td>\n",
              "    </tr>\n",
              "    <tr>\n",
              "      <th>d</th>\n",
              "      <td>D</td>\n",
              "      <td>14</td>\n",
              "    </tr>\n",
              "    <tr>\n",
              "      <th>e</th>\n",
              "      <td>E</td>\n",
              "      <td>12</td>\n",
              "    </tr>\n",
              "    <tr>\n",
              "      <th>f</th>\n",
              "      <td>F</td>\n",
              "      <td>10</td>\n",
              "    </tr>\n",
              "    <tr>\n",
              "      <th>g</th>\n",
              "      <td>G</td>\n",
              "      <td>11</td>\n",
              "    </tr>\n",
              "  </tbody>\n",
              "</table>\n",
              "</div>"
            ],
            "text/plain": [
              "  Name  Age\n",
              "a    A   10\n",
              "b    B   15\n",
              "c    C   14\n",
              "d    D   14\n",
              "e    E   12\n",
              "f    F   10\n",
              "g    G   11"
            ]
          },
          "metadata": {
            "tags": []
          },
          "execution_count": 64
        }
      ]
    },
    {
      "cell_type": "markdown",
      "metadata": {
        "id": "of1dMrt3PVG5",
        "colab_type": "text"
      },
      "source": [
        "Tasks on the NIFTY Datasets:\n",
        "\n",
        "1. In 2019, in how many days was the NIFTY50 volatile (high > 105% of low)\n",
        "\n",
        "2. In 2019, in how many days was the NIFTYNEXT50 volatile (high > 105% of low)\n",
        "\n",
        "3. In 2019, how many days belonged to the four classes NIFTY50 volatile/ non-volatile and NIFTYNEXT50 volatile/ non-volatile\n",
        "\n",
        "4. Compute the mean, median, mode, std, var of closing values for the each weekday in NIFTY50 for 2019\n",
        "\n",
        "5. Compute the mean, median, mode, std, var of closing values for the each month in NIFTY50 for 2019\n",
        "\n",
        "6. On the days in which NIFTY50 closed higher than the open, what was the mean of (close - open) for NIFTYNext50\n",
        "\n",
        "7. In 2019, how many days had the day's high lower than the previous day's low in NIFTY50\n",
        "\n",
        "8. In 2019, how many days did the day's close exceed the 30 day moving average in NIFTY50(exclude first month)"
      ]
    },
    {
      "cell_type": "code",
      "metadata": {
        "id": "_UhfMf9rPrvJ",
        "colab_type": "code",
        "colab": {}
      },
      "source": [
        "import numpy as np\n",
        "import pandas as pd"
      ],
      "execution_count": null,
      "outputs": []
    },
    {
      "cell_type": "code",
      "metadata": {
        "id": "7QDYdOiefV80",
        "colab_type": "code",
        "colab": {}
      },
      "source": [
        "nifty2018 = pd.read_csv('NIFTY50_2018.csv', index_col=0)\n",
        "nifty2019 = pd.read_csv('NIFTY50_2019.csv', index_col=0)\n",
        "niftynxt2019 = pd.read_csv('NIFTYNEXT50_2019.csv', index_col=0)"
      ],
      "execution_count": null,
      "outputs": []
    },
    {
      "cell_type": "code",
      "metadata": {
        "id": "OZ9qF_wsibrp",
        "colab_type": "code",
        "colab": {
          "base_uri": "https://localhost:8080/",
          "height": 235
        },
        "outputId": "5cba5228-5e32-4e95-c87b-b78ea2b82ad1"
      },
      "source": [
        "nifty2019.head()"
      ],
      "execution_count": null,
      "outputs": [
        {
          "output_type": "execute_result",
          "data": {
            "text/html": [
              "<div>\n",
              "<style scoped>\n",
              "    .dataframe tbody tr th:only-of-type {\n",
              "        vertical-align: middle;\n",
              "    }\n",
              "\n",
              "    .dataframe tbody tr th {\n",
              "        vertical-align: top;\n",
              "    }\n",
              "\n",
              "    .dataframe thead th {\n",
              "        text-align: right;\n",
              "    }\n",
              "</style>\n",
              "<table border=\"1\" class=\"dataframe\">\n",
              "  <thead>\n",
              "    <tr style=\"text-align: right;\">\n",
              "      <th></th>\n",
              "      <th>Open</th>\n",
              "      <th>High</th>\n",
              "      <th>Low</th>\n",
              "      <th>Close</th>\n",
              "      <th>Shares Traded</th>\n",
              "      <th>Turnover (Rs. Cr)</th>\n",
              "    </tr>\n",
              "    <tr>\n",
              "      <th>Date</th>\n",
              "      <th></th>\n",
              "      <th></th>\n",
              "      <th></th>\n",
              "      <th></th>\n",
              "      <th></th>\n",
              "      <th></th>\n",
              "    </tr>\n",
              "  </thead>\n",
              "  <tbody>\n",
              "    <tr>\n",
              "      <th>01-Jan-2019</th>\n",
              "      <td>10881.70</td>\n",
              "      <td>10923.60</td>\n",
              "      <td>10807.10</td>\n",
              "      <td>10910.10</td>\n",
              "      <td>159404542</td>\n",
              "      <td>8688.26</td>\n",
              "    </tr>\n",
              "    <tr>\n",
              "      <th>02-Jan-2019</th>\n",
              "      <td>10868.85</td>\n",
              "      <td>10895.35</td>\n",
              "      <td>10735.05</td>\n",
              "      <td>10792.50</td>\n",
              "      <td>309665939</td>\n",
              "      <td>15352.25</td>\n",
              "    </tr>\n",
              "    <tr>\n",
              "      <th>03-Jan-2019</th>\n",
              "      <td>10796.80</td>\n",
              "      <td>10814.05</td>\n",
              "      <td>10661.25</td>\n",
              "      <td>10672.25</td>\n",
              "      <td>286241745</td>\n",
              "      <td>15030.45</td>\n",
              "    </tr>\n",
              "    <tr>\n",
              "      <th>04-Jan-2019</th>\n",
              "      <td>10699.70</td>\n",
              "      <td>10741.05</td>\n",
              "      <td>10628.65</td>\n",
              "      <td>10727.35</td>\n",
              "      <td>296596655</td>\n",
              "      <td>14516.74</td>\n",
              "    </tr>\n",
              "    <tr>\n",
              "      <th>07-Jan-2019</th>\n",
              "      <td>10804.85</td>\n",
              "      <td>10835.95</td>\n",
              "      <td>10750.15</td>\n",
              "      <td>10771.80</td>\n",
              "      <td>269371080</td>\n",
              "      <td>12731.29</td>\n",
              "    </tr>\n",
              "  </tbody>\n",
              "</table>\n",
              "</div>"
            ],
            "text/plain": [
              "                 Open      High  ...  Shares Traded  Turnover (Rs. Cr)\n",
              "Date                             ...                                  \n",
              "01-Jan-2019  10881.70  10923.60  ...      159404542            8688.26\n",
              "02-Jan-2019  10868.85  10895.35  ...      309665939           15352.25\n",
              "03-Jan-2019  10796.80  10814.05  ...      286241745           15030.45\n",
              "04-Jan-2019  10699.70  10741.05  ...      296596655           14516.74\n",
              "07-Jan-2019  10804.85  10835.95  ...      269371080           12731.29\n",
              "\n",
              "[5 rows x 6 columns]"
            ]
          },
          "metadata": {
            "tags": []
          },
          "execution_count": 3
        }
      ]
    },
    {
      "cell_type": "code",
      "metadata": {
        "id": "H7F-FQZTizfq",
        "colab_type": "code",
        "colab": {
          "base_uri": "https://localhost:8080/",
          "height": 238
        },
        "outputId": "a0f77b7d-f953-4334-f12a-3b337427d999"
      },
      "source": [
        "nifty2019['Open']"
      ],
      "execution_count": null,
      "outputs": [
        {
          "output_type": "execute_result",
          "data": {
            "text/plain": [
              "Date\n",
              "01-Jan-2019    10881.70\n",
              "02-Jan-2019    10868.85\n",
              "03-Jan-2019    10796.80\n",
              "04-Jan-2019    10699.70\n",
              "07-Jan-2019    10804.85\n",
              "                 ...   \n",
              "24-Dec-2019    12269.25\n",
              "26-Dec-2019    12211.85\n",
              "27-Dec-2019    12172.90\n",
              "30-Dec-2019    12274.90\n",
              "31-Dec-2019    12247.10\n",
              "Name: Open, Length: 245, dtype: float64"
            ]
          },
          "metadata": {
            "tags": []
          },
          "execution_count": 4
        }
      ]
    },
    {
      "cell_type": "code",
      "metadata": {
        "id": "_qhI2yX9tQWk",
        "colab_type": "code",
        "colab": {}
      },
      "source": [
        "# 1. In 2019, in how many days was the NIFTY50 volatile (high > 105% of low)\n",
        "\n",
        "nifty2019['Volatile'] = nifty2019['High'] > (nifty2019['Low'] * 1.05)"
      ],
      "execution_count": null,
      "outputs": []
    },
    {
      "cell_type": "code",
      "metadata": {
        "id": "x38XRXmrbsnK",
        "colab_type": "code",
        "colab": {
          "base_uri": "https://localhost:8080/",
          "height": 450
        },
        "outputId": "821b2dad-e1cc-4571-a365-3de2356ba6e4"
      },
      "source": [
        "nifty2019"
      ],
      "execution_count": null,
      "outputs": [
        {
          "output_type": "execute_result",
          "data": {
            "text/html": [
              "<div>\n",
              "<style scoped>\n",
              "    .dataframe tbody tr th:only-of-type {\n",
              "        vertical-align: middle;\n",
              "    }\n",
              "\n",
              "    .dataframe tbody tr th {\n",
              "        vertical-align: top;\n",
              "    }\n",
              "\n",
              "    .dataframe thead th {\n",
              "        text-align: right;\n",
              "    }\n",
              "</style>\n",
              "<table border=\"1\" class=\"dataframe\">\n",
              "  <thead>\n",
              "    <tr style=\"text-align: right;\">\n",
              "      <th></th>\n",
              "      <th>Open</th>\n",
              "      <th>High</th>\n",
              "      <th>Low</th>\n",
              "      <th>Close</th>\n",
              "      <th>Shares Traded</th>\n",
              "      <th>Turnover (Rs. Cr)</th>\n",
              "      <th>Volatile</th>\n",
              "    </tr>\n",
              "    <tr>\n",
              "      <th>Date</th>\n",
              "      <th></th>\n",
              "      <th></th>\n",
              "      <th></th>\n",
              "      <th></th>\n",
              "      <th></th>\n",
              "      <th></th>\n",
              "      <th></th>\n",
              "    </tr>\n",
              "  </thead>\n",
              "  <tbody>\n",
              "    <tr>\n",
              "      <th>01-Jan-2019</th>\n",
              "      <td>10881.70</td>\n",
              "      <td>10923.60</td>\n",
              "      <td>10807.10</td>\n",
              "      <td>10910.10</td>\n",
              "      <td>159404542</td>\n",
              "      <td>8688.26</td>\n",
              "      <td>False</td>\n",
              "    </tr>\n",
              "    <tr>\n",
              "      <th>02-Jan-2019</th>\n",
              "      <td>10868.85</td>\n",
              "      <td>10895.35</td>\n",
              "      <td>10735.05</td>\n",
              "      <td>10792.50</td>\n",
              "      <td>309665939</td>\n",
              "      <td>15352.25</td>\n",
              "      <td>False</td>\n",
              "    </tr>\n",
              "    <tr>\n",
              "      <th>03-Jan-2019</th>\n",
              "      <td>10796.80</td>\n",
              "      <td>10814.05</td>\n",
              "      <td>10661.25</td>\n",
              "      <td>10672.25</td>\n",
              "      <td>286241745</td>\n",
              "      <td>15030.45</td>\n",
              "      <td>False</td>\n",
              "    </tr>\n",
              "    <tr>\n",
              "      <th>04-Jan-2019</th>\n",
              "      <td>10699.70</td>\n",
              "      <td>10741.05</td>\n",
              "      <td>10628.65</td>\n",
              "      <td>10727.35</td>\n",
              "      <td>296596655</td>\n",
              "      <td>14516.74</td>\n",
              "      <td>False</td>\n",
              "    </tr>\n",
              "    <tr>\n",
              "      <th>07-Jan-2019</th>\n",
              "      <td>10804.85</td>\n",
              "      <td>10835.95</td>\n",
              "      <td>10750.15</td>\n",
              "      <td>10771.80</td>\n",
              "      <td>269371080</td>\n",
              "      <td>12731.29</td>\n",
              "      <td>False</td>\n",
              "    </tr>\n",
              "    <tr>\n",
              "      <th>...</th>\n",
              "      <td>...</td>\n",
              "      <td>...</td>\n",
              "      <td>...</td>\n",
              "      <td>...</td>\n",
              "      <td>...</td>\n",
              "      <td>...</td>\n",
              "      <td>...</td>\n",
              "    </tr>\n",
              "    <tr>\n",
              "      <th>24-Dec-2019</th>\n",
              "      <td>12269.25</td>\n",
              "      <td>12283.70</td>\n",
              "      <td>12202.10</td>\n",
              "      <td>12214.55</td>\n",
              "      <td>470290298</td>\n",
              "      <td>13864.56</td>\n",
              "      <td>False</td>\n",
              "    </tr>\n",
              "    <tr>\n",
              "      <th>26-Dec-2019</th>\n",
              "      <td>12211.85</td>\n",
              "      <td>12221.55</td>\n",
              "      <td>12118.85</td>\n",
              "      <td>12126.55</td>\n",
              "      <td>520326632</td>\n",
              "      <td>16362.31</td>\n",
              "      <td>False</td>\n",
              "    </tr>\n",
              "    <tr>\n",
              "      <th>27-Dec-2019</th>\n",
              "      <td>12172.90</td>\n",
              "      <td>12258.45</td>\n",
              "      <td>12157.90</td>\n",
              "      <td>12245.80</td>\n",
              "      <td>383788556</td>\n",
              "      <td>13676.20</td>\n",
              "      <td>False</td>\n",
              "    </tr>\n",
              "    <tr>\n",
              "      <th>30-Dec-2019</th>\n",
              "      <td>12274.90</td>\n",
              "      <td>12286.45</td>\n",
              "      <td>12213.80</td>\n",
              "      <td>12255.85</td>\n",
              "      <td>411084614</td>\n",
              "      <td>14556.73</td>\n",
              "      <td>False</td>\n",
              "    </tr>\n",
              "    <tr>\n",
              "      <th>31-Dec-2019</th>\n",
              "      <td>12247.10</td>\n",
              "      <td>12247.10</td>\n",
              "      <td>12151.80</td>\n",
              "      <td>12168.45</td>\n",
              "      <td>426931711</td>\n",
              "      <td>14812.89</td>\n",
              "      <td>False</td>\n",
              "    </tr>\n",
              "  </tbody>\n",
              "</table>\n",
              "<p>245 rows × 7 columns</p>\n",
              "</div>"
            ],
            "text/plain": [
              "                 Open      High  ...  Turnover (Rs. Cr)  Volatile\n",
              "Date                             ...                             \n",
              "01-Jan-2019  10881.70  10923.60  ...            8688.26     False\n",
              "02-Jan-2019  10868.85  10895.35  ...           15352.25     False\n",
              "03-Jan-2019  10796.80  10814.05  ...           15030.45     False\n",
              "04-Jan-2019  10699.70  10741.05  ...           14516.74     False\n",
              "07-Jan-2019  10804.85  10835.95  ...           12731.29     False\n",
              "...               ...       ...  ...                ...       ...\n",
              "24-Dec-2019  12269.25  12283.70  ...           13864.56     False\n",
              "26-Dec-2019  12211.85  12221.55  ...           16362.31     False\n",
              "27-Dec-2019  12172.90  12258.45  ...           13676.20     False\n",
              "30-Dec-2019  12274.90  12286.45  ...           14556.73     False\n",
              "31-Dec-2019  12247.10  12247.10  ...           14812.89     False\n",
              "\n",
              "[245 rows x 7 columns]"
            ]
          },
          "metadata": {
            "tags": []
          },
          "execution_count": 6
        }
      ]
    },
    {
      "cell_type": "code",
      "metadata": {
        "id": "dSNJFf5kbvFW",
        "colab_type": "code",
        "colab": {}
      },
      "source": [
        "# 2. In 2019, in how many days was the NIFTYNEXT50 volatile (high > 105% of low)\n",
        "\n",
        "niftynxt2019['Volatile'] = niftynxt2019['High'] > (niftynxt2019['Low'] * 1.05)"
      ],
      "execution_count": null,
      "outputs": []
    },
    {
      "cell_type": "code",
      "metadata": {
        "id": "iaI0SRa_crAl",
        "colab_type": "code",
        "colab": {
          "base_uri": "https://localhost:8080/",
          "height": 450
        },
        "outputId": "b96d3c47-27c4-4ef8-9014-b9b0c8cc7d80"
      },
      "source": [
        "niftynxt2019"
      ],
      "execution_count": null,
      "outputs": [
        {
          "output_type": "execute_result",
          "data": {
            "text/html": [
              "<div>\n",
              "<style scoped>\n",
              "    .dataframe tbody tr th:only-of-type {\n",
              "        vertical-align: middle;\n",
              "    }\n",
              "\n",
              "    .dataframe tbody tr th {\n",
              "        vertical-align: top;\n",
              "    }\n",
              "\n",
              "    .dataframe thead th {\n",
              "        text-align: right;\n",
              "    }\n",
              "</style>\n",
              "<table border=\"1\" class=\"dataframe\">\n",
              "  <thead>\n",
              "    <tr style=\"text-align: right;\">\n",
              "      <th></th>\n",
              "      <th>Open</th>\n",
              "      <th>High</th>\n",
              "      <th>Low</th>\n",
              "      <th>Close</th>\n",
              "      <th>Shares Traded</th>\n",
              "      <th>Turnover (Rs. Cr)</th>\n",
              "      <th>Volatile</th>\n",
              "    </tr>\n",
              "    <tr>\n",
              "      <th>Date</th>\n",
              "      <th></th>\n",
              "      <th></th>\n",
              "      <th></th>\n",
              "      <th></th>\n",
              "      <th></th>\n",
              "      <th></th>\n",
              "      <th></th>\n",
              "    </tr>\n",
              "  </thead>\n",
              "  <tbody>\n",
              "    <tr>\n",
              "      <th>01-Jan-2019</th>\n",
              "      <td>28243.95</td>\n",
              "      <td>28252.20</td>\n",
              "      <td>27988.60</td>\n",
              "      <td>28111.65</td>\n",
              "      <td>100916543</td>\n",
              "      <td>2354.60</td>\n",
              "      <td>False</td>\n",
              "    </tr>\n",
              "    <tr>\n",
              "      <th>02-Jan-2019</th>\n",
              "      <td>28074.05</td>\n",
              "      <td>28188.40</td>\n",
              "      <td>27801.75</td>\n",
              "      <td>27876.95</td>\n",
              "      <td>167334185</td>\n",
              "      <td>3410.28</td>\n",
              "      <td>False</td>\n",
              "    </tr>\n",
              "    <tr>\n",
              "      <th>03-Jan-2019</th>\n",
              "      <td>27874.05</td>\n",
              "      <td>28045.30</td>\n",
              "      <td>27630.20</td>\n",
              "      <td>27674.65</td>\n",
              "      <td>175238949</td>\n",
              "      <td>3362.20</td>\n",
              "      <td>False</td>\n",
              "    </tr>\n",
              "    <tr>\n",
              "      <th>04-Jan-2019</th>\n",
              "      <td>27707.20</td>\n",
              "      <td>27842.75</td>\n",
              "      <td>27533.90</td>\n",
              "      <td>27719.50</td>\n",
              "      <td>163387940</td>\n",
              "      <td>3295.06</td>\n",
              "      <td>False</td>\n",
              "    </tr>\n",
              "    <tr>\n",
              "      <th>07-Jan-2019</th>\n",
              "      <td>27893.95</td>\n",
              "      <td>27932.00</td>\n",
              "      <td>27652.95</td>\n",
              "      <td>27706.60</td>\n",
              "      <td>135700262</td>\n",
              "      <td>2862.02</td>\n",
              "      <td>False</td>\n",
              "    </tr>\n",
              "    <tr>\n",
              "      <th>...</th>\n",
              "      <td>...</td>\n",
              "      <td>...</td>\n",
              "      <td>...</td>\n",
              "      <td>...</td>\n",
              "      <td>...</td>\n",
              "      <td>...</td>\n",
              "      <td>...</td>\n",
              "    </tr>\n",
              "    <tr>\n",
              "      <th>24-Dec-2019</th>\n",
              "      <td>28423.70</td>\n",
              "      <td>28430.40</td>\n",
              "      <td>28318.75</td>\n",
              "      <td>28382.85</td>\n",
              "      <td>250955193</td>\n",
              "      <td>4047.51</td>\n",
              "      <td>False</td>\n",
              "    </tr>\n",
              "    <tr>\n",
              "      <th>26-Dec-2019</th>\n",
              "      <td>28409.10</td>\n",
              "      <td>28435.25</td>\n",
              "      <td>28259.75</td>\n",
              "      <td>28280.25</td>\n",
              "      <td>341108696</td>\n",
              "      <td>4493.23</td>\n",
              "      <td>False</td>\n",
              "    </tr>\n",
              "    <tr>\n",
              "      <th>27-Dec-2019</th>\n",
              "      <td>28354.50</td>\n",
              "      <td>28500.25</td>\n",
              "      <td>28319.90</td>\n",
              "      <td>28476.80</td>\n",
              "      <td>324272733</td>\n",
              "      <td>4776.47</td>\n",
              "      <td>False</td>\n",
              "    </tr>\n",
              "    <tr>\n",
              "      <th>30-Dec-2019</th>\n",
              "      <td>28528.95</td>\n",
              "      <td>28612.95</td>\n",
              "      <td>28406.70</td>\n",
              "      <td>28484.85</td>\n",
              "      <td>291220117</td>\n",
              "      <td>3492.11</td>\n",
              "      <td>False</td>\n",
              "    </tr>\n",
              "    <tr>\n",
              "      <th>31-Dec-2019</th>\n",
              "      <td>28495.00</td>\n",
              "      <td>28549.50</td>\n",
              "      <td>28270.25</td>\n",
              "      <td>28307.55</td>\n",
              "      <td>315369397</td>\n",
              "      <td>4223.10</td>\n",
              "      <td>False</td>\n",
              "    </tr>\n",
              "  </tbody>\n",
              "</table>\n",
              "<p>245 rows × 7 columns</p>\n",
              "</div>"
            ],
            "text/plain": [
              "                 Open      High  ...  Turnover (Rs. Cr)  Volatile\n",
              "Date                             ...                             \n",
              "01-Jan-2019  28243.95  28252.20  ...            2354.60     False\n",
              "02-Jan-2019  28074.05  28188.40  ...            3410.28     False\n",
              "03-Jan-2019  27874.05  28045.30  ...            3362.20     False\n",
              "04-Jan-2019  27707.20  27842.75  ...            3295.06     False\n",
              "07-Jan-2019  27893.95  27932.00  ...            2862.02     False\n",
              "...               ...       ...  ...                ...       ...\n",
              "24-Dec-2019  28423.70  28430.40  ...            4047.51     False\n",
              "26-Dec-2019  28409.10  28435.25  ...            4493.23     False\n",
              "27-Dec-2019  28354.50  28500.25  ...            4776.47     False\n",
              "30-Dec-2019  28528.95  28612.95  ...            3492.11     False\n",
              "31-Dec-2019  28495.00  28549.50  ...            4223.10     False\n",
              "\n",
              "[245 rows x 7 columns]"
            ]
          },
          "metadata": {
            "tags": []
          },
          "execution_count": 8
        }
      ]
    },
    {
      "cell_type": "code",
      "metadata": {
        "id": "m6N_ozS2csmR",
        "colab_type": "code",
        "colab": {
          "base_uri": "https://localhost:8080/",
          "height": 34
        },
        "outputId": "1d1c67cd-d748-41cf-da31-bc9329f3b1b5"
      },
      "source": [
        "print(len(nifty2019[nifty2019['Volatile'] == False]))"
      ],
      "execution_count": null,
      "outputs": [
        {
          "output_type": "stream",
          "text": [
            "244\n"
          ],
          "name": "stdout"
        }
      ]
    },
    {
      "cell_type": "code",
      "metadata": {
        "id": "83LsJ6_nc5Mv",
        "colab_type": "code",
        "colab": {}
      },
      "source": [
        "# 3. In 2019, how many days belonged to the four classes NIFTY50 volatile/ non-volatile and NIFTYNEXT50 volatile/ non-volatile\n",
        "nifty2019_volatile = nifty2019['Volatile']\n",
        "niftynxt2019_volatile = niftynxt2019['Volatile']\n",
        "\n",
        "df = pd.concat([nifty2019_volatile, niftynxt2019_volatile], axis = 1)\n",
        "df.columns = ['nifty_volatile', 'niftynxt_volatile']\n"
      ],
      "execution_count": null,
      "outputs": []
    },
    {
      "cell_type": "code",
      "metadata": {
        "id": "Is5Pr6mYin6_",
        "colab_type": "code",
        "colab": {
          "base_uri": "https://localhost:8080/",
          "height": 450
        },
        "outputId": "288ff08e-e1c1-4d43-cbbf-deeb6d16e3ee"
      },
      "source": [
        "df"
      ],
      "execution_count": null,
      "outputs": [
        {
          "output_type": "execute_result",
          "data": {
            "text/html": [
              "<div>\n",
              "<style scoped>\n",
              "    .dataframe tbody tr th:only-of-type {\n",
              "        vertical-align: middle;\n",
              "    }\n",
              "\n",
              "    .dataframe tbody tr th {\n",
              "        vertical-align: top;\n",
              "    }\n",
              "\n",
              "    .dataframe thead th {\n",
              "        text-align: right;\n",
              "    }\n",
              "</style>\n",
              "<table border=\"1\" class=\"dataframe\">\n",
              "  <thead>\n",
              "    <tr style=\"text-align: right;\">\n",
              "      <th></th>\n",
              "      <th>nifty_volatile</th>\n",
              "      <th>niftynxt_volatile</th>\n",
              "    </tr>\n",
              "    <tr>\n",
              "      <th>Date</th>\n",
              "      <th></th>\n",
              "      <th></th>\n",
              "    </tr>\n",
              "  </thead>\n",
              "  <tbody>\n",
              "    <tr>\n",
              "      <th>01-Jan-2019</th>\n",
              "      <td>False</td>\n",
              "      <td>False</td>\n",
              "    </tr>\n",
              "    <tr>\n",
              "      <th>02-Jan-2019</th>\n",
              "      <td>False</td>\n",
              "      <td>False</td>\n",
              "    </tr>\n",
              "    <tr>\n",
              "      <th>03-Jan-2019</th>\n",
              "      <td>False</td>\n",
              "      <td>False</td>\n",
              "    </tr>\n",
              "    <tr>\n",
              "      <th>04-Jan-2019</th>\n",
              "      <td>False</td>\n",
              "      <td>False</td>\n",
              "    </tr>\n",
              "    <tr>\n",
              "      <th>07-Jan-2019</th>\n",
              "      <td>False</td>\n",
              "      <td>False</td>\n",
              "    </tr>\n",
              "    <tr>\n",
              "      <th>...</th>\n",
              "      <td>...</td>\n",
              "      <td>...</td>\n",
              "    </tr>\n",
              "    <tr>\n",
              "      <th>24-Dec-2019</th>\n",
              "      <td>False</td>\n",
              "      <td>False</td>\n",
              "    </tr>\n",
              "    <tr>\n",
              "      <th>26-Dec-2019</th>\n",
              "      <td>False</td>\n",
              "      <td>False</td>\n",
              "    </tr>\n",
              "    <tr>\n",
              "      <th>27-Dec-2019</th>\n",
              "      <td>False</td>\n",
              "      <td>False</td>\n",
              "    </tr>\n",
              "    <tr>\n",
              "      <th>30-Dec-2019</th>\n",
              "      <td>False</td>\n",
              "      <td>False</td>\n",
              "    </tr>\n",
              "    <tr>\n",
              "      <th>31-Dec-2019</th>\n",
              "      <td>False</td>\n",
              "      <td>False</td>\n",
              "    </tr>\n",
              "  </tbody>\n",
              "</table>\n",
              "<p>245 rows × 2 columns</p>\n",
              "</div>"
            ],
            "text/plain": [
              "             nifty_volatile  niftynxt_volatile\n",
              "Date                                          \n",
              "01-Jan-2019           False              False\n",
              "02-Jan-2019           False              False\n",
              "03-Jan-2019           False              False\n",
              "04-Jan-2019           False              False\n",
              "07-Jan-2019           False              False\n",
              "...                     ...                ...\n",
              "24-Dec-2019           False              False\n",
              "26-Dec-2019           False              False\n",
              "27-Dec-2019           False              False\n",
              "30-Dec-2019           False              False\n",
              "31-Dec-2019           False              False\n",
              "\n",
              "[245 rows x 2 columns]"
            ]
          },
          "metadata": {
            "tags": []
          },
          "execution_count": 11
        }
      ]
    },
    {
      "cell_type": "code",
      "metadata": {
        "id": "rhvLRICWiqHd",
        "colab_type": "code",
        "colab": {
          "base_uri": "https://localhost:8080/",
          "height": 85
        },
        "outputId": "09f7725e-140d-481b-920d-7ccdf65ae7e9"
      },
      "source": [
        "# 4. Compute the mean, median, mode, std, var of closing values for the each weekday in NIFTY50 for 2019.\n",
        "\n",
        "print(\"Mean:\", nifty2019['Close'].mean())\n",
        "print(\"Median:\", nifty2019['Close'].median())\n",
        "print(\"STD:\", nifty2019['Close'].std())\n",
        "print(\"Variance:\", nifty2019['Close'].var())"
      ],
      "execution_count": null,
      "outputs": [
        {
          "output_type": "stream",
          "text": [
            "Mean: 11432.632244897959\n",
            "Median: 11512.4\n",
            "STD: 454.2146111618279\n",
            "Variance: 206310.91299289055\n"
          ],
          "name": "stdout"
        }
      ]
    },
    {
      "cell_type": "code",
      "metadata": {
        "id": "1OUfw3d5Ooo5",
        "colab_type": "code",
        "colab": {}
      },
      "source": [
        "# 5. Compute the mean, median, mode, std, var of closing values for the each month in NIFTY50 for 2019\n",
        "\n"
      ],
      "execution_count": null,
      "outputs": []
    },
    {
      "cell_type": "code",
      "metadata": {
        "id": "tA3I_TtNqMiA",
        "colab_type": "code",
        "colab": {}
      },
      "source": [
        "# 6. On the days in which NIFTY50 closed higher than the open, what was the mean of (close - open) for NIFTYNext50\n",
        "\n",
        "nifty2019con = pd.concat([nifty2019, niftynxt2019],\n",
        "                      axis = 1,\n",
        "                      keys = ['nifty50', 'niftynext50'])"
      ],
      "execution_count": null,
      "outputs": []
    },
    {
      "cell_type": "code",
      "metadata": {
        "id": "tIc6jnvAsGta",
        "colab_type": "code",
        "colab": {}
      },
      "source": [
        "nifty2019con['dif_of_nifty50'] = nifty2019con['nifty50']['Close'] > nifty2019con['nifty50']['Open']\n"
      ],
      "execution_count": null,
      "outputs": []
    },
    {
      "cell_type": "code",
      "metadata": {
        "id": "jpzju_Ly1fLA",
        "colab_type": "code",
        "colab": {}
      },
      "source": [
        "d = nifty2019con[nifty2019con.dif_of_nifty50 == True]"
      ],
      "execution_count": null,
      "outputs": []
    },
    {
      "cell_type": "code",
      "metadata": {
        "id": "rPvICdO_7toy",
        "colab_type": "code",
        "colab": {}
      },
      "source": [
        "diff = d['niftynext50']['Close'] - d['niftynext50']['Open']"
      ],
      "execution_count": null,
      "outputs": []
    },
    {
      "cell_type": "code",
      "metadata": {
        "id": "LlSnOevt-Buo",
        "colab_type": "code",
        "colab": {
          "base_uri": "https://localhost:8080/",
          "height": 238
        },
        "outputId": "6ed0fb67-9c6e-4262-bac9-abfaf12811af"
      },
      "source": [
        "diff"
      ],
      "execution_count": null,
      "outputs": [
        {
          "output_type": "execute_result",
          "data": {
            "text/plain": [
              "Date\n",
              "01-Jan-2019   -132.30\n",
              "04-Jan-2019     12.30\n",
              "08-Jan-2019    -37.65\n",
              "15-Jan-2019    109.35\n",
              "21-Jan-2019   -118.90\n",
              "                ...  \n",
              "18-Dec-2019     52.05\n",
              "19-Dec-2019     91.30\n",
              "20-Dec-2019    124.00\n",
              "23-Dec-2019     12.20\n",
              "27-Dec-2019    122.30\n",
              "Length: 106, dtype: float64"
            ]
          },
          "metadata": {
            "tags": []
          },
          "execution_count": 58
        }
      ]
    },
    {
      "cell_type": "code",
      "metadata": {
        "id": "OpG4SYwLlLAm",
        "colab_type": "code",
        "colab": {}
      },
      "source": [
        "\n",
        "\n",
        "\n",
        "\n",
        "# 7. In 2019, how many days had the day's high lower than the previous day's low in NIFTY50\n",
        "\n",
        "# 8. In 2019, how many days did the day's close exceed the 30 day moving average in NIFTY50(exclude first month)"
      ],
      "execution_count": null,
      "outputs": []
    },
    {
      "cell_type": "code",
      "metadata": {
        "id": "VgNnbs5YqFEc",
        "colab_type": "code",
        "colab": {}
      },
      "source": [
        ""
      ],
      "execution_count": null,
      "outputs": []
    }
  ]
}